{
  "cells": [
    {
      "cell_type": "markdown",
      "metadata": {
        "id": "view-in-github",
        "colab_type": "text"
      },
      "source": [
        "<a href=\"https://colab.research.google.com/github/betelmekonnen/Water-Temperature-in-the-Bay/blob/main/Reports_with_Water_Temp.ipynb\" target=\"_parent\"><img src=\"https://colab.research.google.com/assets/colab-badge.svg\" alt=\"Open In Colab\"/></a>"
      ]
    },
    {
      "cell_type": "code",
      "execution_count": null,
      "metadata": {
        "id": "QomvtPSbEcNf"
      },
      "outputs": [],
      "source": [
        "# Import statements\n",
        "import pandas as pd\n",
        "import numpy as np\n",
        "import matplotlib.pyplot as plt\n",
        "import math\n",
        "from scipy.stats import t\n",
        "from scipy import stats\n",
        "from IPython.display import display, Math\n",
        "import statsmodels.api as sm\n",
        "import statsmodels.formula.api as smf"
      ]
    },
    {
      "cell_type": "code",
      "execution_count": null,
      "metadata": {
        "colab": {
          "base_uri": "https://localhost:8080/",
          "height": 616
        },
        "id": "mG4ZaRPWP6SM",
        "outputId": "8d3b8853-a043-4592-b7b3-6343d3d6b232"
      },
      "outputs": [
        {
          "output_type": "stream",
          "name": "stdout",
          "text": [
            "Mean:  14.14\n",
            "Sum:  7267.71\n",
            "Variance:  40.574\n"
          ]
        },
        {
          "output_type": "display_data",
          "data": {
            "text/plain": [
              "<Figure size 1000x600 with 1 Axes>"
            ],
            "image/png": "[encoded data removed]"
          },
          "metadata": {}
        }
      ],
      "source": [
        "# Read the file\n",
        "df = pd.read_csv(\"/content/BKB_WaterQualityData_2020084.csv\")\n",
        "\n",
        "# Drop unrelated columns\n",
        "df.drop(\"Unit_Id\", axis=1, inplace=True)\n",
        "df.drop(\"Salinity (ppt)\", axis=1, inplace=True)\n",
        "# df.drop(\"pH (standard units)\", axis=1, inplace=True)\n",
        "df.drop(\"Secchi Depth (m)\", axis=1, inplace=True)\n",
        "df.drop(\"Water Depth (m)\", axis=1, inplace=True)\n",
        "df.drop(\"Air Temp-Celsius\", axis=1, inplace=True)\n",
        "df.drop(\"Time (24:00)\", axis=1, inplace=True)\n",
        "df.drop(\"Field_Tech\", axis=1, inplace=True)\n",
        "df.drop(\"DateVerified\", axis=1, inplace=True)\n",
        "df.drop(\"WhoVerified\", axis=1, inplace=True)\n",
        "df.drop(\"Year\", axis=1, inplace=True)\n",
        "\n",
        "# Only include Site_Id=\"Bay\" and remove NaN (blank, invalid, etc.) values\n",
        "# Also remove blank Read_Date values (those are for the several 1899 samples)\n",
        "df = df[(df[\"Site_Id\"] == \"Bay\") & (df[\"Read_Date\"] != \"\")]\n",
        "df.dropna(inplace=True)\n",
        "\n",
        "# Make Read_Date split into Year, Month, Day columns before filtering\n",
        "df[\"Year\"] = df.apply(lambda row: int(row.Read_Date.split(\"/\")[2]), axis=1)\n",
        "df[\"Month\"] = df.apply(lambda row: int(row.Read_Date.split(\"/\")[0]), axis=1)\n",
        "df[\"Day\"] = df.apply(lambda row: int(row.Read_Date.split(\"/\")[1]), axis=1)\n",
        "df.drop(\"Read_Date\", axis=1, inplace=True)\n",
        "\n",
        "# Getting rid of outliers\n",
        "# Remove temperature >32°C for cold months (October to May) but keep September values as they are\n",
        "df = df[((df[\"Water Temp (?C)\"] <= 32) | (df[\"Month\"] == 9)) &\n",
        "        (df[\"Water Temp (?C)\"] >= df[\"Water Temp (?C)\"].quantile(0.25) -\n",
        "         1.5 * (df[\"Water Temp (?C)\"].quantile(0.75) - df[\"Water Temp (?C)\"].quantile(0.25))) &\n",
        "        (df[\"Water Temp (?C)\"] <= df[\"Water Temp (?C)\"].quantile(0.75) +\n",
        "         1.5 * (df[\"Water Temp (?C)\"].quantile(0.75) - df[\"Water Temp (?C)\"].quantile(0.25)))]\n",
        "\n",
        "# Filter data for years between 1989-2019 and months between September-May\n",
        "df = df[(df[\"Year\"] >= 1989) & (df[\"Year\"] <= 2019) & ((df[\"Month\"] >= 9) | (df[\"Month\"] <= 5))]\n",
        "\n",
        "#df = df[[\"Site_Id\", \"Year\", \"Month\", \"Day\", \"Water Temp (?C)\", \"AirTemp (C)\", \"Air Temp (?F)\"]]\n",
        "\n",
        "df = df[[\"Site_Id\", \"Year\", \"Month\", \"Day\", \"Water Temp (?C)\", \"AirTemp (C)\", \"Air Temp (?F)\", \"pH (standard units)\", \"Dissolved Oxygen (mg/L)\"]] # Rearrange\n",
        "# Order the data by Year, Month, Day\n",
        "df.sort_values([\"Year\", \"Month\", \"Day\"], ascending=[True, True, True], inplace=True)\n",
        "\n",
        "# Calculate parameter values\n",
        "all_values = df[\"Water Temp (?C)\"].to_numpy()\n",
        "print(\"Mean: \", round(np.mean(all_values), 3))\n",
        "print(\"Sum: \", round(np.sum(all_values), 3))\n",
        "print(\"Variance: \", round(np.var(all_values), 3))\n",
        "\n",
        "# Make a histogram\n",
        "plt.figure(figsize=(10, 6))\n",
        "plt.hist(df['Water Temp (?C)'], bins=27, edgecolor='black')\n",
        "plt.title('Histogram of Water Temp (?C) from 1989 to 2019 (September-May)')\n",
        "plt.xlabel('Water Temp (?C)')\n",
        "plt.ylabel('Frequency')\n",
        "plt.show()"
      ]
    },
    {
      "cell_type": "code",
      "source": [
        "df.head(5)"
      ],
      "metadata": {
        "colab": {
          "base_uri": "https://localhost:8080/",
          "height": 223
        },
        "id": "hMfdOIw9YA7G",
        "outputId": "e52e5cc1-e905-4148-cfc6-2dc40b3a96e0"
      },
      "execution_count": null,
      "outputs": [
        {
          "output_type": "execute_result",
          "data": {
            "text/plain": [
              "   Site_Id  Year  Month  Day  Water Temp (?C)  AirTemp (C)  Air Temp (?F)  \\\n",
              "39     Bay  1989      5   18             17.5         20.5           68.9   \n",
              "49     Bay  1989      9   14             26.0         26.0           78.8   \n",
              "50     Bay  1989     10   25             15.0         19.0           66.2   \n",
              "53     Bay  1989     11   27              9.0          4.0           39.2   \n",
              "54     Bay  1989     12   11              3.0          3.0           37.4   \n",
              "\n",
              "    pH (standard units)  Dissolved Oxygen (mg/L)  \n",
              "39                  7.5                     12.0  \n",
              "49                  7.5                      6.0  \n",
              "50                  8.5                      7.8  \n",
              "53                  7.5                     10.3  \n",
              "54                  7.0                     10.2  "
            ],
            "text/html": [
              "\n",
              "  <div id=\"df-1b295b66-d7f8-4577-aa59-a358583bb189\" class=\"colab-df-container\">\n",
              "    <div>\n",
              "<style scoped>\n",
              "    .dataframe tbody tr th:only-of-type {\n",
              "        vertical-align: middle;\n",
              "    }\n",
              "\n",
              "    .dataframe tbody tr th {\n",
              "        vertical-align: top;\n",
              "    }\n",
              "\n",
              "    .dataframe thead th {\n",
              "        text-align: right;\n",
              "    }\n",
              "</style>\n",
              "<table border=\"1\" class=\"dataframe\">\n",
              "  <thead>\n",
              "    <tr style=\"text-align: right;\">\n",
              "      <th></th>\n",
              "      <th>Site_Id</th>\n",
              "      <th>Year</th>\n",
              "      <th>Month</th>\n",
              "      <th>Day</th>\n",
              "      <th>Water Temp (?C)</th>\n",
              "      <th>AirTemp (C)</th>\n",
              "      <th>Air Temp (?F)</th>\n",
              "      <th>pH (standard units)</th>\n",
              "      <th>Dissolved Oxygen (mg/L)</th>\n",
              "    </tr>\n",
              "  </thead>\n",
              "  <tbody>\n",
              "    <tr>\n",
              "      <th>39</th>\n",
              "      <td>Bay</td>\n",
              "      <td>1989</td>\n",
              "      <td>5</td>\n",
              "      <td>18</td>\n",
              "      <td>17.5</td>\n",
              "      <td>20.5</td>\n",
              "      <td>68.9</td>\n",
              "      <td>7.5</td>\n",
              "      <td>12.0</td>\n",
              "    </tr>\n",
              "    <tr>\n",
              "      <th>49</th>\n",
              "      <td>Bay</td>\n",
              "      <td>1989</td>\n",
              "      <td>9</td>\n",
              "      <td>14</td>\n",
              "      <td>26.0</td>\n",
              "      <td>26.0</td>\n",
              "      <td>78.8</td>\n",
              "      <td>7.5</td>\n",
              "      <td>6.0</td>\n",
              "    </tr>\n",
              "    <tr>\n",
              "      <th>50</th>\n",
              "      <td>Bay</td>\n",
              "      <td>1989</td>\n",
              "      <td>10</td>\n",
              "      <td>25</td>\n",
              "      <td>15.0</td>\n",
              "      <td>19.0</td>\n",
              "      <td>66.2</td>\n",
              "      <td>8.5</td>\n",
              "      <td>7.8</td>\n",
              "    </tr>\n",
              "    <tr>\n",
              "      <th>53</th>\n",
              "      <td>Bay</td>\n",
              "      <td>1989</td>\n",
              "      <td>11</td>\n",
              "      <td>27</td>\n",
              "      <td>9.0</td>\n",
              "      <td>4.0</td>\n",
              "      <td>39.2</td>\n",
              "      <td>7.5</td>\n",
              "      <td>10.3</td>\n",
              "    </tr>\n",
              "    <tr>\n",
              "      <th>54</th>\n",
              "      <td>Bay</td>\n",
              "      <td>1989</td>\n",
              "      <td>12</td>\n",
              "      <td>11</td>\n",
              "      <td>3.0</td>\n",
              "      <td>3.0</td>\n",
              "      <td>37.4</td>\n",
              "      <td>7.0</td>\n",
              "      <td>10.2</td>\n",
              "    </tr>\n",
              "  </tbody>\n",
              "</table>\n",
              "</div>\n",
              "    <div class=\"colab-df-buttons\">\n",
              "\n",
              "  <div class=\"colab-df-container\">\n",
              "    <button class=\"colab-df-convert\" onclick=\"convertToInteractive('df-1b295b66-d7f8-4577-aa59-a358583bb189')\"\n",
              "            title=\"Convert this dataframe to an interactive table.\"\n",
              "            style=\"display:none;\">\n",
              "\n",
              "  <svg xmlns=\"http://www.w3.org/2000/svg\" height=\"24px\" viewBox=\"0 -960 960 960\">\n",
              "    <path d=\"M120-120v-720h720v720H120Zm60-500h600v-160H180v160Zm220 220h160v-160H400v160Zm0 220h160v-160H400v160ZM180-400h160v-160H180v160Zm440 0h160v-160H620v160ZM180-180h160v-160H180v160Zm440 0h160v-160H620v160Z\"/>\n",
              "  </svg>\n",
              "    </button>\n",
              "\n",
              "  <style>\n",
              "    .colab-df-container {\n",
              "      display:flex;\n",
              "      gap: 12px;\n",
              "    }\n",
              "\n",
              "    .colab-df-convert {\n",
              "      background-color: #E8F0FE;\n",
              "      border: none;\n",
              "      border-radius: 50%;\n",
              "      cursor: pointer;\n",
              "      display: none;\n",
              "      fill: #1967D2;\n",
              "      height: 32px;\n",
              "      padding: 0 0 0 0;\n",
              "      width: 32px;\n",
              "    }\n",
              "\n",
              "    .colab-df-convert:hover {\n",
              "      background-color: #E2EBFA;\n",
              "      box-shadow: 0px 1px 2px rgba(60, 64, 67, 0.3), 0px 1px 3px 1px rgba(60, 64, 67, 0.15);\n",
              "      fill: #174EA6;\n",
              "    }\n",
              "\n",
              "    .colab-df-buttons div {\n",
              "      margin-bottom: 4px;\n",
              "    }\n",
              "\n",
              "    [theme=dark] .colab-df-convert {\n",
              "      background-color: #3B4455;\n",
              "      fill: #D2E3FC;\n",
              "    }\n",
              "\n",
              "    [theme=dark] .colab-df-convert:hover {\n",
              "      background-color: #434B5C;\n",
              "      box-shadow: 0px 1px 3px 1px rgba(0, 0, 0, 0.15);\n",
              "      filter: drop-shadow(0px 1px 2px rgba(0, 0, 0, 0.3));\n",
              "      fill: #FFFFFF;\n",
              "    }\n",
              "  </style>\n",
              "\n",
              "    <script>\n",
              "      const buttonEl =\n",
              "        document.querySelector('#df-1b295b66-d7f8-4577-aa59-a358583bb189 button.colab-df-convert');\n",
              "      buttonEl.style.display =\n",
              "        google.colab.kernel.accessAllowed ? 'block' : 'none';\n",
              "\n",
              "      async function convertToInteractive(key) {\n",
              "        const element = document.querySelector('#df-1b295b66-d7f8-4577-aa59-a358583bb189');\n",
              "        const dataTable =\n",
              "          await google.colab.kernel.invokeFunction('convertToInteractive',\n",
              "                                                    [key], {});\n",
              "        if (!dataTable) return;\n",
              "\n",
              "        const docLinkHtml = 'Like what you see? Visit the ' +\n",
              "          '<a target=\"_blank\" href=https://colab.research.google.com/notebooks/data_table.ipynb>data table notebook</a>'\n",
              "          + ' to learn more about interactive tables.';\n",
              "        element.innerHTML = '';\n",
              "        dataTable['output_type'] = 'display_data';\n",
              "        await google.colab.output.renderOutput(dataTable, element);\n",
              "        const docLink = document.createElement('div');\n",
              "        docLink.innerHTML = docLinkHtml;\n",
              "        element.appendChild(docLink);\n",
              "      }\n",
              "    </script>\n",
              "  </div>\n",
              "\n",
              "\n",
              "<div id=\"df-3dcc7345-126b-4e8b-8bd7-49c354f472e9\">\n",
              "  <button class=\"colab-df-quickchart\" onclick=\"quickchart('df-3dcc7345-126b-4e8b-8bd7-49c354f472e9')\"\n",
              "            title=\"Suggest charts\"\n",
              "            style=\"display:none;\">\n",
              "\n",
              "<svg xmlns=\"http://www.w3.org/2000/svg\" height=\"24px\"viewBox=\"0 0 24 24\"\n",
              "     width=\"24px\">\n",
              "    <g>\n",
              "        <path d=\"M19 3H5c-1.1 0-2 .9-2 2v14c0 1.1.9 2 2 2h14c1.1 0 2-.9 2-2V5c0-1.1-.9-2-2-2zM9 17H7v-7h2v7zm4 0h-2V7h2v10zm4 0h-2v-4h2v4z\"/>\n",
              "    </g>\n",
              "</svg>\n",
              "  </button>\n",
              "\n",
              "<style>\n",
              "  .colab-df-quickchart {\n",
              "      --bg-color: #E8F0FE;\n",
              "      --fill-color: #1967D2;\n",
              "      --hover-bg-color: #E2EBFA;\n",
              "      --hover-fill-color: #174EA6;\n",
              "      --disabled-fill-color: #AAA;\n",
              "      --disabled-bg-color: #DDD;\n",
              "  }\n",
              "\n",
              "  [theme=dark] .colab-df-quickchart {\n",
              "      --bg-color: #3B4455;\n",
              "      --fill-color: #D2E3FC;\n",
              "      --hover-bg-color: #434B5C;\n",
              "      --hover-fill-color: #FFFFFF;\n",
              "      --disabled-bg-color: #3B4455;\n",
              "      --disabled-fill-color: #666;\n",
              "  }\n",
              "\n",
              "  .colab-df-quickchart {\n",
              "    background-color: var(--bg-color);\n",
              "    border: none;\n",
              "    border-radius: 50%;\n",
              "    cursor: pointer;\n",
              "    display: none;\n",
              "    fill: var(--fill-color);\n",
              "    height: 32px;\n",
              "    padding: 0;\n",
              "    width: 32px;\n",
              "  }\n",
              "\n",
              "  .colab-df-quickchart:hover {\n",
              "    background-color: var(--hover-bg-color);\n",
              "    box-shadow: 0 1px 2px rgba(60, 64, 67, 0.3), 0 1px 3px 1px rgba(60, 64, 67, 0.15);\n",
              "    fill: var(--button-hover-fill-color);\n",
              "  }\n",
              "\n",
              "  .colab-df-quickchart-complete:disabled,\n",
              "  .colab-df-quickchart-complete:disabled:hover {\n",
              "    background-color: var(--disabled-bg-color);\n",
              "    fill: var(--disabled-fill-color);\n",
              "    box-shadow: none;\n",
              "  }\n",
              "\n",
              "  .colab-df-spinner {\n",
              "    border: 2px solid var(--fill-color);\n",
              "    border-color: transparent;\n",
              "    border-bottom-color: var(--fill-color);\n",
              "    animation:\n",
              "      spin 1s steps(1) infinite;\n",
              "  }\n",
              "\n",
              "  @keyframes spin {\n",
              "    0% {\n",
              "      border-color: transparent;\n",
              "      border-bottom-color: var(--fill-color);\n",
              "      border-left-color: var(--fill-color);\n",
              "    }\n",
              "    20% {\n",
              "      border-color: transparent;\n",
              "      border-left-color: var(--fill-color);\n",
              "      border-top-color: var(--fill-color);\n",
              "    }\n",
              "    30% {\n",
              "      border-color: transparent;\n",
              "      border-left-color: var(--fill-color);\n",
              "      border-top-color: var(--fill-color);\n",
              "      border-right-color: var(--fill-color);\n",
              "    }\n",
              "    40% {\n",
              "      border-color: transparent;\n",
              "      border-right-color: var(--fill-color);\n",
              "      border-top-color: var(--fill-color);\n",
              "    }\n",
              "    60% {\n",
              "      border-color: transparent;\n",
              "      border-right-color: var(--fill-color);\n",
              "    }\n",
              "    80% {\n",
              "      border-color: transparent;\n",
              "      border-right-color: var(--fill-color);\n",
              "      border-bottom-color: var(--fill-color);\n",
              "    }\n",
              "    90% {\n",
              "      border-color: transparent;\n",
              "      border-bottom-color: var(--fill-color);\n",
              "    }\n",
              "  }\n",
              "</style>\n",
              "\n",
              "  <script>\n",
              "    async function quickchart(key) {\n",
              "      const quickchartButtonEl =\n",
              "        document.querySelector('#' + key + ' button');\n",
              "      quickchartButtonEl.disabled = true;  // To prevent multiple clicks.\n",
              "      quickchartButtonEl.classList.add('colab-df-spinner');\n",
              "      try {\n",
              "        const charts = await google.colab.kernel.invokeFunction(\n",
              "            'suggestCharts', [key], {});\n",
              "      } catch (error) {\n",
              "        console.error('Error during call to suggestCharts:', error);\n",
              "      }\n",
              "      quickchartButtonEl.classList.remove('colab-df-spinner');\n",
              "      quickchartButtonEl.classList.add('colab-df-quickchart-complete');\n",
              "    }\n",
              "    (() => {\n",
              "      let quickchartButtonEl =\n",
              "        document.querySelector('#df-3dcc7345-126b-4e8b-8bd7-49c354f472e9 button');\n",
              "      quickchartButtonEl.style.display =\n",
              "        google.colab.kernel.accessAllowed ? 'block' : 'none';\n",
              "    })();\n",
              "  </script>\n",
              "</div>\n",
              "\n",
              "    </div>\n",
              "  </div>\n"
            ],
            "application/vnd.google.colaboratory.intrinsic+json": {
              "type": "dataframe",
              "variable_name": "df",
              "summary": "{\n  \"name\": \"df\",\n  \"rows\": 514,\n  \"fields\": [\n    {\n      \"column\": \"Site_Id\",\n      \"properties\": {\n        \"dtype\": \"category\",\n        \"num_unique_values\": 1,\n        \"samples\": [\n          \"Bay\"\n        ],\n        \"semantic_type\": \"\",\n        \"description\": \"\"\n      }\n    },\n    {\n      \"column\": \"Year\",\n      \"properties\": {\n        \"dtype\": \"number\",\n        \"std\": 9,\n        \"min\": 1989,\n        \"max\": 2019,\n        \"num_unique_values\": 31,\n        \"samples\": [\n          2016\n        ],\n        \"semantic_type\": \"\",\n        \"description\": \"\"\n      }\n    },\n    {\n      \"column\": \"Month\",\n      \"properties\": {\n        \"dtype\": \"number\",\n        \"std\": 3,\n        \"min\": 1,\n        \"max\": 12,\n        \"num_unique_values\": 9,\n        \"samples\": [\n          3\n        ],\n        \"semantic_type\": \"\",\n        \"description\": \"\"\n      }\n    },\n    {\n      \"column\": \"Day\",\n      \"properties\": {\n        \"dtype\": \"number\",\n        \"std\": 8,\n        \"min\": 1,\n        \"max\": 31,\n        \"num_unique_values\": 31,\n        \"samples\": [\n          31\n        ],\n        \"semantic_type\": \"\",\n        \"description\": \"\"\n      }\n    },\n    {\n      \"column\": \"Water Temp (?C)\",\n      \"properties\": {\n        \"dtype\": \"number\",\n        \"std\": 6.376007290126926,\n        \"min\": 1.3,\n        \"max\": 28.0,\n        \"num_unique_values\": 77,\n        \"samples\": [\n          3.0\n        ],\n        \"semantic_type\": \"\",\n        \"description\": \"\"\n      }\n    },\n    {\n      \"column\": \"AirTemp (C)\",\n      \"properties\": {\n        \"dtype\": \"number\",\n        \"std\": 7.102556186975308,\n        \"min\": -3.888888889,\n        \"max\": 30.61111111,\n        \"num_unique_values\": 162,\n        \"samples\": [\n          19.44444444\n        ],\n        \"semantic_type\": \"\",\n        \"description\": \"\"\n      }\n    },\n    {\n      \"column\": \"Air Temp (?F)\",\n      \"properties\": {\n        \"dtype\": \"number\",\n        \"std\": 12.784601136568963,\n        \"min\": 25.0,\n        \"max\": 87.1,\n        \"num_unique_values\": 162,\n        \"samples\": [\n          67.0\n        ],\n        \"semantic_type\": \"\",\n        \"description\": \"\"\n      }\n    },\n    {\n      \"column\": \"pH (standard units)\",\n      \"properties\": {\n        \"dtype\": \"number\",\n        \"std\": 0.6822753234309861,\n        \"min\": 5.7,\n        \"max\": 9.9,\n        \"num_unique_values\": 37,\n        \"samples\": [\n          6.9\n        ],\n        \"semantic_type\": \"\",\n        \"description\": \"\"\n      }\n    },\n    {\n      \"column\": \"Dissolved Oxygen (mg/L)\",\n      \"properties\": {\n        \"dtype\": \"number\",\n        \"std\": 2.4532035933581184,\n        \"min\": 0.1,\n        \"max\": 15.1,\n        \"num_unique_values\": 122,\n        \"samples\": [\n          8.8\n        ],\n        \"semantic_type\": \"\",\n        \"description\": \"\"\n      }\n    }\n  ]\n}"
            }
          },
          "metadata": {},
          "execution_count": 3
        }
      ]
    },
    {
      "cell_type": "code",
      "execution_count": null,
      "metadata": {
        "colab": {
          "base_uri": "https://localhost:8080/"
        },
        "id": "Ny6D4JniDnlp",
        "outputId": "508a0ddc-78ab-4c0a-a372-05a307fe0b40"
      },
      "outputs": [
        {
          "output_type": "stream",
          "name": "stdout",
          "text": [
            "40.57437661168223\n",
            "514\n"
          ]
        }
      ],
      "source": [
        "# Constants to use\n",
        "N = len(df.index)\n",
        "mu = np.mean(all_values)\n",
        "sigma_squared = np.var(all_values)\n",
        "print(sigma_squared)\n",
        "\n",
        "print(N)\n",
        "# Function to get sample size (n) for a given z statistic and r value\n",
        "def sample_size(z, r):\n",
        "  d = r*mu\n",
        "  numerator = (z**2) * sigma_squared\n",
        "  denominator = d**2\n",
        "  n = 1 / ((1 / (numerator / denominator)) + (1 / N))\n",
        "\n",
        "  return n"
      ]
    },
    {
      "cell_type": "code",
      "execution_count": null,
      "metadata": {
        "colab": {
          "base_uri": "https://localhost:8080/"
        },
        "id": "-A2VHnmVGdfH",
        "outputId": "fe72c83a-0ef9-40a1-b9b8-d219c199587e"
      },
      "outputs": [
        {
          "output_type": "stream",
          "name": "stdout",
          "text": [
            "For CI 90% and r = 0.074: n = 83.915\n",
            "For CI 90% and r = 0.087: n = 63.581\n",
            "For CI 90% and r = 0.10: n = 49.617\n"
          ]
        }
      ],
      "source": [
        "# For CI 90%\n",
        "\n",
        "sample_size_90_1 = round(sample_size(1.645, 0.074), 3)\n",
        "sample_size_90_2 = round(sample_size(1.645, 0.087), 3)\n",
        "sample_size_90_3 = round(sample_size(1.645, 0.10), 3)\n",
        "\n",
        "print(\"For CI 90% and r = 0.074: n =\", sample_size_90_1)\n",
        "print(\"For CI 90% and r = 0.087: n =\", sample_size_90_2)\n",
        "print(\"For CI 90% and r = 0.10: n =\", sample_size_90_3)"
      ]
    },
    {
      "cell_type": "code",
      "execution_count": null,
      "metadata": {
        "colab": {
          "base_uri": "https://localhost:8080/"
        },
        "id": "AvGpF5M7GeBO",
        "outputId": "4cfa8dc3-853b-44fe-d638-470661f0577c"
      },
      "outputs": [
        {
          "output_type": "stream",
          "name": "stdout",
          "text": [
            "For CI 95% and r = 0.074: n = 111.492\n",
            "For CI 95% and r = 0.087: n = 85.809\n",
            "For CI 95% and r = 0.10: n = 67.696\n"
          ]
        }
      ],
      "source": [
        "# For CI 95%\n",
        "\n",
        "sample_size_95_1 = round(sample_size(1.96, 0.074), 3)\n",
        "sample_size_95_2 = round(sample_size(1.96, 0.087), 3)\n",
        "sample_size_95_3 = round(sample_size(1.96, 0.10), 3)\n",
        "\n",
        "\n",
        "print(\"For CI 95% and r = 0.074: n =\", sample_size_95_1)\n",
        "print(\"For CI 95% and r = 0.087: n =\", sample_size_95_2)\n",
        "print(\"For CI 95% and r = 0.10: n =\", sample_size_95_3)"
      ]
    },
    {
      "cell_type": "code",
      "execution_count": null,
      "metadata": {
        "colab": {
          "base_uri": "https://localhost:8080/"
        },
        "id": "J6U2NuO0Gtes",
        "outputId": "c8140196-5b91-40b0-c259-acae5df576e4"
      },
      "outputs": [
        {
          "output_type": "stream",
          "name": "stdout",
          "text": [
            "Sample for CI 90% and r = 0.074:  [304 497 440 153 499 131 204 508 325 247 362 352 289  84  10 324  78  30\n",
            " 184 195 222 209 281 208 124 250  76 381 342 323 244 331 140   9  72 399\n",
            " 486 225  73 177 402  68 155  55 404 298  77 467 317 475  90 238 484  63\n",
            " 456  70   2 287 341 137 249 194 172  82 452 318  33 425 227   0  11 237\n",
            "  22 104 296 101  79 428 388  18 176 231 504 132]\n",
            "Sample for CI 90% and r = 0.087:  [ 15 453 439  31 127 124 442 123  76 493 446  70 152 101 160  26 279 297\n",
            " 399 475  96 187 260 309 179 207 359 286 138 486 484 130  87 324 406 508\n",
            " 213 381 369 199 157 346 170 350 327 487 240 244 373 287 497  48  59 115\n",
            " 340  10 237 511   1  86 230 174 310 460]\n",
            "Sample for CI 90% and r = 0.10:  [480 313   5  65 508 182 175 473 383 231 198 219  92  27 374 267 446 274\n",
            " 460 423 239 240 361  90  57  64 211 430  51 406 342 168 244 232 388 271\n",
            "  49 457 190  29 192 169 370 252 159 512  67 483 258 226]\n"
          ]
        }
      ],
      "source": [
        "# Conducting SRS for given sample size (n) values for CI = 90%\n",
        "\n",
        "np.random.seed(42)\n",
        "population = np.arange(0, N)\n",
        "\n",
        "# For CI 90% and r = 0.074:\n",
        "n1_90 = math.ceil(sample_size_90_1)\n",
        "\n",
        "sample_90_1 = np.random.choice(population, size=n1_90, replace=False)\n",
        "\n",
        "print(\"Sample for CI 90% and r = 0.074: \", sample_90_1)\n",
        "\n",
        "# For CI 90% and r = 0.087:\n",
        "n2_90 = math.ceil(sample_size_90_2)\n",
        "\n",
        "sample_90_2 = np.random.choice(population, size=n2_90, replace=False)\n",
        "\n",
        "print(\"Sample for CI 90% and r = 0.087: \", sample_90_2)\n",
        "\n",
        "# For CI 90% and r = 0.10:\n",
        "n3_90 = math.ceil(sample_size_90_3)\n",
        "\n",
        "sample_90_3 = np.random.choice(population, size=n3_90, replace=False)\n",
        "\n",
        "print(\"Sample for CI 90% and r = 0.10: \", sample_90_3)"
      ]
    },
    {
      "cell_type": "code",
      "execution_count": null,
      "metadata": {
        "colab": {
          "base_uri": "https://localhost:8080/"
        },
        "id": "RTIBA6fhKSb9",
        "outputId": "1833d580-b8a3-46a5-bbee-b86551c58077"
      },
      "outputs": [
        {
          "output_type": "stream",
          "name": "stdout",
          "text": [
            "Sample for CI 95% and r = 0.074:  [304 497 440 153 499 131 204 508 325 247 362 352 289  84  10 324  78  30\n",
            " 184 195 222 209 281 208 124 250  76 381 342 323 244 331 140   9  72 399\n",
            " 486 225  73 177 402  68 155  55 404 298  77 467 317 475  90 238 484  63\n",
            " 456  70   2 287 341 137 249 194 172  82 452 318  33 425 227   0  11 237\n",
            "  22 104 296 101  79 428 388  18 176 231 504 132  39 471  46 356 277 361\n",
            "  93 377 203 449 148 220  69 253 397 167 275 505 509 320 329 173 272 493\n",
            " 182 268 351 117]\n",
            "Sample for CI 95% and r = 0.087:  [ 15 453 439  31 127 124 442 123  76 493 446  70 152 101 160  26 279 297\n",
            " 399 475  96 187 260 309 179 207 359 286 138 486 484 130  87 324 406 508\n",
            " 213 381 369 199 157 346 170 350 327 487 240 244 373 287 497  48  59 115\n",
            " 340  10 237 511   1  86 230 174 310 460 218  30 432 398  54  23 256 448\n",
            "   3 422 188 171 391 273  32 405 478 485  58 351 203 215]\n",
            "Sample for CI 95% and r = 0.10:  [480 313   5  65 508 182 175 473 383 231 198 219  92  27 374 267 446 274\n",
            " 460 423 239 240 361  90  57  64 211 430  51 406 342 168 244 232 388 271\n",
            "  49 457 190  29 192 169 370 252 159 512  67 483 258 226  12 104 335 261\n",
            " 382 123 277 272 279 125 184 314 414 141  42 202   2  44]\n"
          ]
        }
      ],
      "source": [
        "# Conducting SRS for given sample size (n) values for CI = 95%\n",
        "\n",
        "np.random.seed(42)\n",
        "population = np.arange(0, N)\n",
        "\n",
        "# For CI 90% and r = 0.074:\n",
        "n1_95 = math.ceil(sample_size_95_1)\n",
        "\n",
        "sample_95_1 = np.random.choice(population, size=n1_95, replace=False)\n",
        "\n",
        "print(\"Sample for CI 95% and r = 0.074: \", sample_95_1)\n",
        "\n",
        "# For CI 90% and r = 0.087:\n",
        "n2_95 = math.ceil(sample_size_95_2)\n",
        "\n",
        "sample_95_2 = np.random.choice(population, size=n2_95, replace=False)\n",
        "\n",
        "print(\"Sample for CI 95% and r = 0.087: \", sample_95_2)\n",
        "\n",
        "# For CI 95% and r = 0.10:\n",
        "n3_95 = math.ceil(sample_size_95_3)\n",
        "\n",
        "sample_95_3 = np.random.choice(population, size=n3_95, replace=False)\n",
        "\n",
        "print(\"Sample for CI 95% and r = 0.10: \", sample_95_3)"
      ]
    },
    {
      "cell_type": "code",
      "execution_count": null,
      "metadata": {
        "colab": {
          "base_uri": "https://localhost:8080/"
        },
        "id": "YufB4mIyNCT3",
        "outputId": "0f6eea4c-81bb-4a45-848c-ca7527edc501"
      },
      "outputs": [
        {
          "output_type": "stream",
          "name": "stdout",
          "text": [
            "Sample Mean for 90% CI with r = 0.074: 14.839\n",
            "Sample Mean for 90% CI with r = 0.087: 13.667\n",
            "Sample Mean for 90% CI with r = 0.10: 14.016\n"
          ]
        }
      ],
      "source": [
        "# Estimating the Parameter with Sample for 90% CI\n",
        "\n",
        "sampled_values_90_1 = df['Water Temp (?C)'].iloc[sample_90_1]\n",
        "sampled_values_90_2 = df['Water Temp (?C)'].iloc[sample_90_2]\n",
        "sampled_values_90_3 = df['Water Temp (?C)'].iloc[sample_90_3]\n",
        "\n",
        "sample_mean_90_1 = round(np.mean(sampled_values_90_1), 3)\n",
        "sample_mean_90_2 = round(np.mean(sampled_values_90_2), 3)\n",
        "sample_mean_90_3 = round(np.mean(sampled_values_90_3), 3)\n",
        "\n",
        "print(\"Sample Mean for 90% CI with r = 0.074:\", sample_mean_90_1)\n",
        "print(\"Sample Mean for 90% CI with r = 0.087:\", sample_mean_90_2)\n",
        "print(\"Sample Mean for 90% CI with r = 0.10:\", sample_mean_90_3)"
      ]
    },
    {
      "cell_type": "code",
      "execution_count": null,
      "metadata": {
        "colab": {
          "base_uri": "https://localhost:8080/"
        },
        "id": "RSVUupOmNj0r",
        "outputId": "1d8f6095-a21b-4b94-a543-399f43f55afb"
      },
      "outputs": [
        {
          "output_type": "stream",
          "name": "stdout",
          "text": [
            "Sample Mean for 95% CI with r = 0.074: 14.482\n",
            "Sample Mean for 95% CI with r = 0.087: 13.441\n",
            "Sample Mean for 95% CI with r = 0.10: 13.918\n"
          ]
        }
      ],
      "source": [
        "# Estimating the Parameter with Sample for 95% CI\n",
        "\n",
        "sampled_values_95_1 = df['Water Temp (?C)'].iloc[sample_95_1]\n",
        "sampled_values_95_2 = df['Water Temp (?C)'].iloc[sample_95_2]\n",
        "sampled_values_95_3 = df['Water Temp (?C)'].iloc[sample_95_3]\n",
        "\n",
        "sample_mean_95_1 = round(np.mean(sampled_values_95_1), 3)\n",
        "sample_mean_95_2 = round(np.mean(sampled_values_95_2), 3)\n",
        "sample_mean_95_3 = round(np.mean(sampled_values_95_3), 3)\n",
        "\n",
        "print(\"Sample Mean for 95% CI with r = 0.074:\", sample_mean_95_1)\n",
        "print(\"Sample Mean for 95% CI with r = 0.087:\", sample_mean_95_2)\n",
        "print(\"Sample Mean for 95% CI with r = 0.10:\", sample_mean_95_3)"
      ]
    },
    {
      "cell_type": "code",
      "execution_count": null,
      "metadata": {
        "colab": {
          "base_uri": "https://localhost:8080/"
        },
        "id": "FWbyXIhNMND7",
        "outputId": "47411e7f-1f7f-468c-80b7-13d0e7ede09b"
      },
      "outputs": [
        {
          "output_type": "stream",
          "name": "stdout",
          "text": [
            "Variance of estimator for 90% CI with r = 0.074: 0.34\n",
            "Variance of estimator for 90% CI with r = 0.087: 0.603\n",
            "Variance of estimator for 90% CI with r = 0.10: 0.689\n"
          ]
        }
      ],
      "source": [
        "# Calculating Variance for given sample size (n) values for CI = 90%\n",
        "\n",
        "estimator_variance_90_1 = round(((N-sample_size_90_1)*round(np.var(sampled_values_90_1), 2))/(N*sample_size_90_1), 3)\n",
        "estimator_variance_90_2 = round(((N-sample_size_90_2)*round(np.var(sampled_values_90_2), 2))/(N*sample_size_90_2), 3)\n",
        "estimator_variance_90_3 = round(((N-sample_size_90_3)*round(np.var(sampled_values_90_3), 2))/(N*sample_size_90_3), 3)\n",
        "\n",
        "print(\"Variance of estimator for 90% CI with r = 0.074:\", estimator_variance_90_1)\n",
        "print(\"Variance of estimator for 90% CI with r = 0.087:\", estimator_variance_90_2)\n",
        "print(\"Variance of estimator for 90% CI with r = 0.10:\", estimator_variance_90_3)"
      ]
    },
    {
      "cell_type": "code",
      "execution_count": null,
      "metadata": {
        "colab": {
          "base_uri": "https://localhost:8080/"
        },
        "id": "3X-Q2WG1R-JS",
        "outputId": "0e3adb12-d897-4b60-c81e-8a70b65f734f"
      },
      "outputs": [
        {
          "output_type": "stream",
          "name": "stdout",
          "text": [
            "Variance of estimator for 95% CI with r = 0.074: 0.231\n",
            "Variance of estimator for 95% CI with r = 0.087: 0.393\n",
            "Variance of estimator for 95% CI with r = 0.10: 0.495\n"
          ]
        }
      ],
      "source": [
        "# Calculating Variance for given sample size (n) values for CI = 95%\n",
        "\n",
        "estimator_variance_95_1 = round(((N-sample_size_95_1)*round(np.var(sampled_values_95_1), 2))/(N*sample_size_95_1), 3)\n",
        "estimator_variance_95_2 = round(((N-sample_size_95_2)*round(np.var(sampled_values_95_2), 2))/(N*sample_size_95_2), 3)\n",
        "estimator_variance_95_3 = round(((N-sample_size_95_3)*round(np.var(sampled_values_95_3), 2))/(N*sample_size_95_3), 3)\n",
        "\n",
        "print(\"Variance of estimator for 95% CI with r = 0.074:\", estimator_variance_95_1)\n",
        "print(\"Variance of estimator for 95% CI with r = 0.087:\", estimator_variance_95_2)\n",
        "print(\"Variance of estimator for 95% CI with r = 0.10:\", estimator_variance_95_3)"
      ]
    },
    {
      "cell_type": "code",
      "execution_count": null,
      "metadata": {
        "colab": {
          "base_uri": "https://localhost:8080/"
        },
        "id": "6gvQVB8nSoBq",
        "outputId": "43690d4b-5913-4482-8d89-f8f233b4c814"
      },
      "outputs": [
        {
          "output_type": "stream",
          "name": "stdout",
          "text": [
            "90% CI for r = 0.074:  {13.869} {15.809}\n",
            "90% CI for r = 0.087:  {13.543} {16.135}\n",
            "90% CI for r = 0.10:  {13.447} {16.231}\n"
          ]
        }
      ],
      "source": [
        "# 90% CI for various estimators\n",
        "\n",
        "confidence_level = 0.90\n",
        "alpha = 1 - confidence_level\n",
        "\n",
        "t_critical_90_1 = t.ppf(1 - alpha / 2, df= sample_size_90_1 - 1)\n",
        "\n",
        "lower_90_CI_1 = round((sample_mean_90_1-(t_critical_90_1 * np.sqrt(estimator_variance_90_1))), 3)\n",
        "upper_90_CI_1 = round((sample_mean_90_1+(t_critical_90_1 * np.sqrt(estimator_variance_90_1))), 3)\n",
        "\n",
        "print(\"90% CI for r = 0.074: \", {lower_90_CI_1}, {upper_90_CI_1})\n",
        "\n",
        "t_critical_90_2 = t.ppf(1 - alpha / 2, df= sample_size_90_2 - 1)\n",
        "\n",
        "lower_90_CI_2 = round((sample_mean_90_1-(t_critical_90_2 * np.sqrt(estimator_variance_90_2))), 3)\n",
        "upper_90_CI_2 = round((sample_mean_90_1+(t_critical_90_2 * np.sqrt(estimator_variance_90_2))), 3)\n",
        "\n",
        "print(\"90% CI for r = 0.087: \", {lower_90_CI_2}, {upper_90_CI_2})\n",
        "\n",
        "t_critical_90_3 = t.ppf(1 - alpha / 2, df= sample_size_90_3 - 1)\n",
        "\n",
        "lower_90_CI_3 = round((sample_mean_90_1-(t_critical_90_3 * np.sqrt(estimator_variance_90_3))), 3)\n",
        "upper_90_CI_3 = round((sample_mean_90_1+(t_critical_90_3 * np.sqrt(estimator_variance_90_3))), 3)\n",
        "\n",
        "print(\"90% CI for r = 0.10: \", {lower_90_CI_3}, {upper_90_CI_3})"
      ]
    },
    {
      "cell_type": "code",
      "execution_count": null,
      "metadata": {
        "colab": {
          "base_uri": "https://localhost:8080/"
        },
        "id": "Cl2YqLvqYvrr",
        "outputId": "664f67af-8915-4e27-d575-c4c2ca792ff9"
      },
      "outputs": [
        {
          "output_type": "stream",
          "name": "stdout",
          "text": [
            "95% CI for r = 0.074:  {13.53} {15.434}\n",
            "95% CI for r = 0.087:  {13.229} {15.735}\n",
            "95% CI for r = 0.10:  {13.068} {15.896}\n"
          ]
        }
      ],
      "source": [
        "# 95% CI for various estimators\n",
        "\n",
        "confidence_level = 0.95\n",
        "alpha = 1 - confidence_level\n",
        "\n",
        "t_critical_95_1 = t.ppf(1 - alpha / 2, df= sample_size_95_1 - 1)\n",
        "\n",
        "lower_95_CI_1 = round((sample_mean_95_1-(t_critical_95_1 * np.sqrt(estimator_variance_95_1))), 3)\n",
        "upper_95_CI_1 = round((sample_mean_95_1+(t_critical_95_1 * np.sqrt(estimator_variance_95_1))), 3)\n",
        "\n",
        "print(\"95% CI for r = 0.074: \", {lower_95_CI_1}, {upper_95_CI_1})\n",
        "\n",
        "t_critical_95_2 = t.ppf(1 - alpha / 2, df= sample_size_90_2 - 1)\n",
        "\n",
        "lower_95_CI_2 = round((sample_mean_95_1-(t_critical_95_2 * np.sqrt(estimator_variance_95_2))), 3)\n",
        "upper_95_CI_2 = round((sample_mean_95_1+(t_critical_95_2 * np.sqrt(estimator_variance_95_2))), 3)\n",
        "\n",
        "print(\"95% CI for r = 0.087: \", {lower_95_CI_2}, {upper_95_CI_2})\n",
        "\n",
        "t_critical_95_3 = t.ppf(1 - alpha / 2, df= sample_size_90_3 - 1)\n",
        "\n",
        "lower_95_CI_3 = round((sample_mean_95_1-(t_critical_95_3 * np.sqrt(estimator_variance_95_3))), 3)\n",
        "upper_95_CI_3 = round((sample_mean_95_1+(t_critical_95_3 * np.sqrt(estimator_variance_95_3))), 3)\n",
        "\n",
        "print(\"95% CI for r = 0.10: \", {lower_95_CI_3}, {upper_95_CI_3})"
      ]
    },
    {
      "cell_type": "markdown",
      "metadata": {
        "id": "cQzTpvVI2m1Z"
      },
      "source": [
        "# Report 3  \n"
      ]
    },
    {
      "cell_type": "code",
      "execution_count": null,
      "metadata": {
        "colab": {
          "base_uri": "https://localhost:8080/"
        },
        "id": "dw0Kvt4f2tdi",
        "outputId": "3f370894-d38b-4fc1-9717-80cf50589f81"
      },
      "outputs": [
        {
          "output_type": "stream",
          "name": "stdout",
          "text": [
            "514\n",
            "0.9018082455783347\n"
          ]
        }
      ],
      "source": [
        "# Population Size: N = 514\n",
        "# Sample sizen: n = 85\n",
        "\n",
        "N = len(df.index)\n",
        "print(N)\n",
        "n = 85\n",
        "\n",
        "# Correlation between the two variables\n",
        "correlation_airtemp_f = df['Water Temp (?C)'].corr(df['Air Temp (?F)'])\n",
        "\n",
        "print(correlation_airtemp_f)"
      ]
    },
    {
      "cell_type": "markdown",
      "metadata": {
        "id": "oxbAORdsbTG2"
      },
      "source": [
        "## Air Temp\n",
        "### Problem 1 - Proportional Probabilities"
      ]
    },
    {
      "cell_type": "code",
      "execution_count": null,
      "metadata": {
        "colab": {
          "base_uri": "https://localhost:8080/"
        },
        "id": "wTg_xTu8Aa-m",
        "outputId": "16ff5979-e2ca-4375-ef2a-2934375ad8e8"
      },
      "outputs": [
        {
          "output_type": "stream",
          "name": "stdout",
          "text": [
            "   Site_Id  Year  Month  Day  Water Temp (?C)  AirTemp (C)  Air Temp (?F)  \\\n",
            "39     Bay  1989      5   18             17.5         20.5           68.9   \n",
            "49     Bay  1989      9   14             26.0         26.0           78.8   \n",
            "50     Bay  1989     10   25             15.0         19.0           66.2   \n",
            "53     Bay  1989     11   27              9.0          4.0           39.2   \n",
            "54     Bay  1989     12   11              3.0          3.0           37.4   \n",
            "\n",
            "    pH (standard units)  Dissolved Oxygen (mg/L)  AirTemp_Probabilities  \n",
            "39                  7.5                     12.0               0.002363  \n",
            "49                  7.5                      6.0               0.002702  \n",
            "50                  8.5                      7.8               0.002270  \n",
            "53                  7.5                     10.3               0.001344  \n",
            "54                  7.0                     10.2               0.001283  \n",
            "[15.5  4.  10.  11.  12.  12.   9.  13.   6.  21. ]\n"
          ]
        }
      ],
      "source": [
        "# Getting all the values in the Air Temp (?F) Column\n",
        "air_temp_values = df[\"Air Temp (?F)\"].to_numpy()\n",
        "\n",
        "# Calculating the total sum of the air temperature values\n",
        "total_air_temp = np.sum(air_temp_values)\n",
        "\n",
        "# Computing probabilities proportional to air temperature values\n",
        "probabilities = air_temp_values / total_air_temp\n",
        "\n",
        "# Adding probabilities to dataframe\n",
        "df[\"AirTemp_Probabilities\"] = probabilities\n",
        "\n",
        "# First five rows in the dataframe\n",
        "print(df.head(5))\n",
        "\n",
        "# Seed for reproducibility\n",
        "np.random.seed(42)\n",
        "\n",
        "# Performing random sampling (with replacement)\n",
        "sample = np.random.choice(df[\"Water Temp (?C)\"], size=n, replace=True, p=probabilities)\n",
        "\n",
        "print(sample[:10])"
      ]
    },
    {
      "cell_type": "markdown",
      "metadata": {
        "id": "XQmNpR8QbhAt"
      },
      "source": [
        "### Problems 2, 3. Sample n=85, HH, var, and CI"
      ]
    },
    {
      "cell_type": "code",
      "execution_count": null,
      "metadata": {
        "colab": {
          "base_uri": "https://localhost:8080/",
          "height": 136
        },
        "id": "_LpYzR0zBNjH",
        "outputId": "f8e3b511-7eed-4177-d916-127e60bb8606"
      },
      "outputs": [
        {
          "output_type": "display_data",
          "data": {
            "text/plain": [
              "<IPython.core.display.Math object>"
            ],
            "text/latex": "$\\displaystyle {\\hat{\\tau}}_{p} = 7054.701$"
          },
          "metadata": {}
        },
        {
          "output_type": "display_data",
          "data": {
            "text/plain": [
              "<IPython.core.display.Math object>"
            ],
            "text/latex": "$\\displaystyle {\\hat{\\mu}}_{p} = 13.725$"
          },
          "metadata": {}
        },
        {
          "output_type": "display_data",
          "data": {
            "text/plain": [
              "<IPython.core.display.Math object>"
            ],
            "text/latex": "$\\displaystyle {\\hat{var}}({\\hat{\\tau}}_{p}) = 49171.82$"
          },
          "metadata": {}
        },
        {
          "output_type": "display_data",
          "data": {
            "text/plain": [
              "<IPython.core.display.Math object>"
            ],
            "text/latex": "$\\displaystyle {\\hat{var}}({\\hat{\\mu}}_{p}) = 0.186$"
          },
          "metadata": {}
        },
        {
          "output_type": "stream",
          "name": "stdout",
          "text": [
            "HH Var True: 0.1797\n",
            "95% CI: {12.867} {14.583}\n"
          ]
        }
      ],
      "source": [
        "# Seed for reproducibility\n",
        "np.random.seed(42)\n",
        "\n",
        "# Sample indices from the dataframe based on AirTemp probabilities (with replacement)\n",
        "sample_indices = np.random.choice(df.index, size=n, replace=True, p=probabilities)\n",
        "\n",
        "# Extracting the corresponding water temperature values and sampling probabilities for the sampled units\n",
        "sampled_values = df.loc[sample_indices, \"Water Temp (?C)\"].to_numpy()\n",
        "sampled_probabilities = df.loc[sample_indices, \"AirTemp_Probabilities\"].to_numpy()\n",
        "# Computing the Hansen-Hurwitz estimator\n",
        "hh_estimator = np.mean(sampled_values / sampled_probabilities)\n",
        "\n",
        "#Our parameter of interest is the population mean and an unbiased estimator for this using Hansen-Hurwitz estimator is\n",
        "mu_hat_p = hh_estimator / N\n",
        "\n",
        "display(Math(r'{\\hat{\\tau}}_{p} = ' + str(round(hh_estimator, 3))))\n",
        "\n",
        "display(Math(r'{\\hat{\\mu}}_{p} = ' + str(round(mu_hat_p, 3))))\n",
        "\n",
        "\n",
        "# Estimator of variance\n",
        "var_hat = (1/(n*(n-1)))*(np.sum(((sampled_values / sampled_probabilities)-(hh_estimator))**2))\n",
        "display(Math(r'{\\hat{var}}({\\hat{\\tau}}_{p}) = ' + str(round(var_hat, 3))))\n",
        "\n",
        "var_hat_mu = var_hat/(N**2)\n",
        "display(Math(r'{\\hat{var}}({\\hat{\\mu}}_{p}) = ' + str(round(var_hat_mu, 3))))\n",
        "\n",
        "\n",
        "# True Variance\n",
        "tau = np.sum(df[\"Water Temp (?C)\"].to_numpy())\n",
        "var_true = 0\n",
        "for i in df.index:\n",
        "  pi = df.loc[i, \"AirTemp_Probabilities\"]\n",
        "  yi = df.loc[i, \"Water Temp (?C)\"]\n",
        "  var_true += pi*(((yi)/(pi)-tau)**2)\n",
        "var_true = var_true/(N*N*n)\n",
        "print(\"HH Var True:\", round(var_true, 4))\n",
        "# # Used 95% CI giving alpha of 0.05\n",
        "alpha = 0.05\n",
        "\n",
        "# # Getting t distribution crictal value\n",
        "t_critical_95 = t.ppf(1 - alpha / 2, df = n - 1)\n",
        "\n",
        "# # Calculating the lower and upper bounds of the confidence interval\n",
        "lower_95_CI = round((mu_hat_p-(t_critical_95 * np.sqrt(var_hat_mu))), 3)\n",
        "upper_95_CI = round((mu_hat_p+(t_critical_95 * np.sqrt(var_hat_mu))), 3)\n",
        "\n",
        "print(\"95% CI:\", {lower_95_CI}, {upper_95_CI})"
      ]
    },
    {
      "cell_type": "markdown",
      "metadata": {
        "id": "v2IFiWv2cdAc"
      },
      "source": [
        "### Problem 4. πi"
      ]
    },
    {
      "cell_type": "code",
      "execution_count": null,
      "metadata": {
        "colab": {
          "base_uri": "https://localhost:8080/"
        },
        "id": "J1FHQeVoFkzb",
        "outputId": "da5a83ef-d4ed-4e27-b744-a05b98b50670"
      },
      "outputs": [
        {
          "output_type": "stream",
          "name": "stdout",
          "text": [
            "  Site_Id  Year  Month  Day  Water Temp (?C)  AirTemp (C)  Air Temp (?F)  \\\n",
            "0     Bay  1996     10    5             15.5    17.200000          62.96   \n",
            "1     Bay  2018      1   31              4.0    -1.111111          30.00   \n",
            "2     Bay  2010      3   16             10.0     6.666667          44.00   \n",
            "3     Bay  2005     12    1             11.0     6.111111          43.00   \n",
            "4     Bay  1992     10   19             12.0    10.000000          50.00   \n",
            "\n",
            "   pH (standard units)  Dissolved Oxygen (mg/L)  AirTemp_Probabilities  \\\n",
            "0                  7.2                      9.9               0.002159   \n",
            "1                  7.0                      8.0               0.001029   \n",
            "2                  6.5                      7.9               0.001509   \n",
            "3                  6.5                      7.2               0.001475   \n",
            "4                  7.5                      9.8               0.001715   \n",
            "\n",
            "   Inclusion_Probabilities  \n",
            "0                 0.167841  \n",
            "1                 0.083779  \n",
            "2                 0.120463  \n",
            "3                 0.117892  \n",
            "4                 0.135738  \n"
          ]
        }
      ],
      "source": [
        "# Add inclusion probabilities to the whole population\n",
        "inclusion_probabilities = 1 - (1 - probabilities) ** n\n",
        "df.loc[:, \"Inclusion_Probabilities\"] = inclusion_probabilities\n",
        "\n",
        "# Creating a copy to show just the sampled data\n",
        "df_sampled = df.loc[sample_indices].copy()\n",
        "\n",
        "# Adding the inclusion probabilities to the sampled dataframe\n",
        "sampled_inclusion_probabilities = 1 - (1 - sampled_probabilities) ** n\n",
        "df_sampled[\"Inclusion_Probabilities\"] = sampled_inclusion_probabilities\n",
        "\n",
        "# fix df_sampled index\n",
        "df_sampled.reset_index(drop=True, inplace=True)\n",
        "\n",
        "# Printing first five values of sampled dataframe\n",
        "print(df_sampled.head(5))"
      ]
    },
    {
      "cell_type": "markdown",
      "metadata": {
        "id": "Er9FOht9ciU-"
      },
      "source": [
        "### Problem 5. HT, est variance, and true variance"
      ]
    },
    {
      "cell_type": "code",
      "execution_count": null,
      "metadata": {
        "colab": {
          "base_uri": "https://localhost:8080/",
          "height": 189
        },
        "id": "dfTprGxQGyvQ",
        "outputId": "d2440fb6-59dc-4942-e4ec-0c04b9890f16"
      },
      "outputs": [
        {
          "output_type": "stream",
          "name": "stdout",
          "text": [
            "Size of Original Sample 85\n",
            "Size of Sample 77\n"
          ]
        },
        {
          "output_type": "display_data",
          "data": {
            "text/plain": [
              "<IPython.core.display.Math object>"
            ],
            "text/latex": "$\\displaystyle {\\hat{\\tau}}_{\\pi} = 6852.838$"
          },
          "metadata": {}
        },
        {
          "output_type": "display_data",
          "data": {
            "text/plain": [
              "<IPython.core.display.Math object>"
            ],
            "text/latex": "$\\displaystyle {\\hat{\\mu}}_{\\pi} = 13.332$"
          },
          "metadata": {}
        },
        {
          "output_type": "display_data",
          "data": {
            "text/plain": [
              "<IPython.core.display.Math object>"
            ],
            "text/latex": "$\\displaystyle {\\hat{var}}({\\hat{\\tau}}_{\\pi}) = 96030.566$"
          },
          "metadata": {}
        },
        {
          "output_type": "display_data",
          "data": {
            "text/plain": [
              "<IPython.core.display.Math object>"
            ],
            "text/latex": "$\\displaystyle {\\hat{var}}({\\hat{\\mu}}_{\\pi}) = 0.363$"
          },
          "metadata": {}
        },
        {
          "output_type": "stream",
          "name": "stdout",
          "text": [
            "t_critical_95 :  1.9916726096446642\n",
            "95% CI: {12.132} {14.533}\n"
          ]
        },
        {
          "output_type": "display_data",
          "data": {
            "text/plain": [
              "<IPython.core.display.Math object>"
            ],
            "text/latex": "$\\displaystyle {var}({\\hat{\\mu}}_{\\pi}) = 0.345$"
          },
          "metadata": {}
        }
      ],
      "source": [
        "# pi_ij formula that we will use for HT and g-uneq\n",
        "def pi_ij(i, j, p_list, pi_list):\n",
        "  return pi_list[i] + pi_list[j] - 1 + ((1 - p_list[i] - p_list[j]) ** n)\n",
        "\n",
        "# Getting the unique sample indices from the previously sampled indices\n",
        "unique_sample_indices = np.unique(sample_indices)\n",
        "df_sampled = df.loc[unique_sample_indices].copy()\n",
        "print(\"Size of Original Sample\", len(sample_indices))\n",
        "print(\"Size of Sample\", len(unique_sample_indices))\n",
        "# Extracting the unique sampled water temperature values (Water Temp (?C)) from the dataframe\n",
        "# y_i, i in V\n",
        "unique_sampled_values = df_sampled.loc[:, \"Water Temp (?C)\"].to_numpy()\n",
        "\n",
        "# Extracting the corresponding unique inclusion probabilities from the dataframe for the unique sample indices\n",
        "# pi_i, i in V\n",
        "unique_sampled_inclusion_probabilities = df_sampled.loc[:, \"Inclusion_Probabilities\"].to_numpy()\n",
        "\n",
        "# Extracting the corresponding unique inclusion probabilities from the dataframe for the unique sample indices\n",
        "# p_i, i in V\n",
        "unique_sampled_probabilities = df_sampled.loc[:, \"AirTemp_Probabilities\"].to_numpy()\n",
        "\n",
        "# Calculating the Horvitz-Thompson estimator\n",
        "ht_estimator = np.sum(unique_sampled_values / unique_sampled_inclusion_probabilities)\n",
        "\n",
        "# The unbiased estimator for the population mean is mu_hat_pi\n",
        "mu_hat_pi = ht_estimator / N\n",
        "\n",
        "display(Math(r'{\\hat{\\tau}}_{\\pi} = ' + str(round(ht_estimator, 3))))\n",
        "display(Math(r'{\\hat{\\mu}}_{\\pi} = ' + str(round(mu_hat_pi, 3))))\n",
        "\n",
        "# Calculating the estimated variance of the Horvitz-Thompson estimator using the sampled values and inclusion probabilities\n",
        "evar_ht = np.sum(((1 - unique_sampled_inclusion_probabilities) / (unique_sampled_inclusion_probabilities ** 2)) * (unique_sampled_values ** 2))\n",
        "for i in range(len(df_sampled)):\n",
        "  for j in range(len(df_sampled)):\n",
        "    if i != j:\n",
        "      evar_ht += (pi_ij(i, j, unique_sampled_probabilities, unique_sampled_inclusion_probabilities) - (unique_sampled_inclusion_probabilities[i] * unique_sampled_inclusion_probabilities[j])) \\\n",
        "      / (unique_sampled_inclusion_probabilities[i] * unique_sampled_inclusion_probabilities[j]) \\\n",
        "      * (unique_sampled_values[i] * unique_sampled_values[j] / pi_ij(i, j, unique_sampled_probabilities, unique_sampled_inclusion_probabilities))\n",
        "\n",
        "display(Math(r'{\\hat{var}}({\\hat{\\tau}}_{\\pi}) = ' + str(round(evar_ht, 3))))\n",
        "evar_ht_mu = evar_ht / (N ** 2)\n",
        "display(Math(r'{\\hat{var}}({\\hat{\\mu}}_{\\pi}) = ' + str(round(evar_ht_mu, 3))))\n",
        "\n",
        "# Used 95% CI giving alpha of 0.05\n",
        "# Getting t distribution crictal value\n",
        "alpha = 0.05\n",
        "t_critical_95 = t.ppf(1 - alpha / 2, df=len(unique_sample_indices)-1)\n",
        "print(\"t_critical_95 : \", t_critical_95)\n",
        "# Calculating the lower and upper bounds of the confidence interval\n",
        "lower_95_CI = round(mu_hat_pi - (t_critical_95 * np.sqrt(evar_ht_mu)), 3)\n",
        "upper_95_CI = round(mu_hat_pi + (t_critical_95 * np.sqrt(evar_ht_mu)), 3)\n",
        "\n",
        "print(\"95% CI:\", {lower_95_CI}, {upper_95_CI})\n",
        "\n",
        "### Calculate the true variance of HT\n",
        "# yi for pop\n",
        "population_values = df.loc[:, \"Water Temp (?C)\"].to_numpy()\n",
        "# pi_i for pop\n",
        "population_inclusion_probabilities = df.loc[:, \"Inclusion_Probabilities\"].to_numpy()\n",
        "# p_i for pop\n",
        "population_probabilities = df.loc[:, \"AirTemp_Probabilities\"].to_numpy()\n",
        "# tau for pop\n",
        "population_tau = np.sum(population_values)\n",
        "\n",
        "# calculate the variance\n",
        "var_ht = np.sum(((1 - population_inclusion_probabilities) / population_inclusion_probabilities)*(population_values ** 2))\n",
        "for i in range(0, len(population_values)):\n",
        "  for j in range(0, len(population_values)):\n",
        "    if j != i:\n",
        "      var_ht += ((pi_ij(i, j, population_probabilities, population_inclusion_probabilities) - (population_inclusion_probabilities[i] * population_inclusion_probabilities[j])) \\\n",
        "      / (population_inclusion_probabilities[i] * population_inclusion_probabilities[j])) \\\n",
        "      * (population_values[i] * population_values[j])\n",
        "\n",
        "var_ht_mu = var_ht / (N ** 2)\n",
        "\n",
        "display(Math(r'{var}({\\hat{\\mu}}_{\\pi}) = ' + str(round(var_ht_mu, 3))))"
      ]
    },
    {
      "cell_type": "markdown",
      "metadata": {
        "id": "fWLSrNfTcrTu"
      },
      "source": [
        "### Problem 6. G Uneq"
      ]
    },
    {
      "cell_type": "code",
      "execution_count": null,
      "metadata": {
        "colab": {
          "base_uri": "https://localhost:8080/",
          "height": 120
        },
        "id": "KInAC1UQwXkk",
        "outputId": "bb5df287-dba8-42e9-cad5-689c2133371d"
      },
      "outputs": [
        {
          "output_type": "display_data",
          "data": {
            "text/plain": [
              "<IPython.core.display.Math object>"
            ],
            "text/latex": "$\\displaystyle {\\hat{\\mu}}_{g} = 13.349$"
          },
          "metadata": {}
        },
        {
          "output_type": "display_data",
          "data": {
            "text/plain": [
              "<IPython.core.display.Math object>"
            ],
            "text/latex": "$\\displaystyle {\\hat{var}}({\\hat{\\tau}}_{g}) = 140583.902$"
          },
          "metadata": {}
        },
        {
          "output_type": "display_data",
          "data": {
            "text/plain": [
              "<IPython.core.display.Math object>"
            ],
            "text/latex": "$\\displaystyle {\\hat{var}}({\\hat{\\mu}}_{g}) = 0.532$"
          },
          "metadata": {}
        },
        {
          "output_type": "stream",
          "name": "stdout",
          "text": [
            "95% CI for Generalized Estimator: {11.896} {14.802}\n"
          ]
        },
        {
          "output_type": "display_data",
          "data": {
            "text/plain": [
              "<IPython.core.display.Math object>"
            ],
            "text/latex": "$\\displaystyle {var}({\\hat{\\mu}}_{g}) = 0.486$"
          },
          "metadata": {}
        }
      ],
      "source": [
        "# Generalized Unequal Probability Estimator (μg)\n",
        "gup_estimator = np.sum(unique_sampled_values / unique_sampled_inclusion_probabilities) / np.sum(1 / unique_sampled_inclusion_probabilities)\n",
        "\n",
        "display(Math(r'{\\hat{\\mu}}_{g} = ' + str(round(gup_estimator, 3))))\n",
        "\n",
        "# Estimated variance calculation\n",
        "evar_gu = np.sum(((1 - unique_sampled_inclusion_probabilities) / (unique_sampled_inclusion_probabilities ** 2)) * ((unique_sampled_values - gup_estimator) ** 2))\n",
        "for i in range(len(df_sampled)):\n",
        "  for j in range(len(df_sampled)):\n",
        "    if i != j:\n",
        "      evar_gu += (pi_ij(i, j, unique_sampled_probabilities, unique_sampled_inclusion_probabilities) - (unique_sampled_inclusion_probabilities[i] * unique_sampled_inclusion_probabilities[j])) \\\n",
        "      / (unique_sampled_inclusion_probabilities[i] * unique_sampled_inclusion_probabilities[j]) \\\n",
        "      * ((unique_sampled_values[i] - gup_estimator) * (unique_sampled_values[j] - gup_estimator) / pi_ij(i, j, unique_sampled_probabilities, unique_sampled_inclusion_probabilities))\n",
        "\n",
        "\n",
        "display(Math(r'{\\hat{var}}({\\hat{\\tau}}_{g}) = ' + str(round(evar_gu, 3))))\n",
        "\n",
        "#evar_gu_mu = evar_ht / (N ** 2)\n",
        "evar_gu_mu = evar_gu / (N ** 2)\n",
        "\n",
        "display(Math(r'{\\hat{var}}({\\hat{\\mu}}_{g}) = ' + str(round(evar_gu_mu, 3))))\n",
        "\n",
        "# Confidence Interval (CI)\n",
        "lower_95_CI_gup = round(gup_estimator - (t_critical_95 * np.sqrt(evar_gu_mu)), 3)\n",
        "upper_95_CI_gup = round(gup_estimator + (t_critical_95 * np.sqrt(evar_gu_mu)), 3)\n",
        "\n",
        "print(\"95% CI for Generalized Estimator:\", {lower_95_CI_gup}, {upper_95_CI_gup})\n",
        "\n",
        "# True variance calculation\n",
        "true_mu = 14.227\n",
        "\n",
        "var_gu = np.sum(((1 - population_inclusion_probabilities) / population_inclusion_probabilities)*((population_values - true_mu) ** 2))\n",
        "for i in range(0, len(population_values)):\n",
        "  for j in range(0, len(population_values)):\n",
        "    if j != i:\n",
        "      var_gu += ((pi_ij(i, j, population_probabilities, population_inclusion_probabilities) - (population_inclusion_probabilities[i] * population_inclusion_probabilities[j])) \\\n",
        "      / (population_inclusion_probabilities[i] * population_inclusion_probabilities[j])) \\\n",
        "      * ((population_values[i] - true_mu) * (population_values[j] - true_mu))\n",
        "\n",
        "var_gu_mu = var_gu / (N ** 2)\n",
        "\n",
        "display(Math(r'{var}({\\hat{\\mu}}_{g}) = ' + str(round(var_gu_mu, 3))))"
      ]
    },
    {
      "cell_type": "markdown",
      "metadata": {
        "id": "1x92-cgpc10-"
      },
      "source": [
        "### Problem 7. Best estimator based on estimated variance of the estimator"
      ]
    },
    {
      "cell_type": "code",
      "execution_count": null,
      "metadata": {
        "colab": {
          "base_uri": "https://localhost:8080/"
        },
        "id": "e4NYCTK00ZsI",
        "outputId": "0fe1694d-d029-4082-9514-6cdbc63bb7c4"
      },
      "outputs": [
        {
          "output_type": "stream",
          "name": "stdout",
          "text": [
            "The best estimator based on variance is: Hansen-Hurwitz\n"
          ]
        }
      ],
      "source": [
        "# Comparing variances of the three estimators\n",
        "\n",
        "estimators_variances = {\n",
        "    \"Hansen-Hurwitz\": var_hat_mu,\n",
        "    \"Horvitz-Thompson\": evar_ht_mu,\n",
        "    \"Generalized\": evar_gu_mu\n",
        "}\n",
        "\n",
        "# Choose the estimator with the smallest variance\n",
        "best_estimator = min(estimators_variances, key=estimators_variances.get)\n",
        "print(\"The best estimator based on variance is:\", best_estimator)\n"
      ]
    },
    {
      "cell_type": "code",
      "execution_count": null,
      "metadata": {
        "id": "75yyLob53pFX"
      },
      "outputs": [],
      "source": []
    },
    {
      "cell_type": "markdown",
      "metadata": {
        "id": "TTSLBOT4VGiN"
      },
      "source": [
        "### Problem 8. Already integrated into the individual estimator calculation sections\n",
        "\n",
        "### Problem 9. 1-8 except with a different variable (pH)"
      ]
    },
    {
      "cell_type": "code",
      "execution_count": null,
      "metadata": {
        "id": "nw7RhiuFzJFG"
      },
      "outputs": [],
      "source": [
        "# Doing everything over but using PH as the variable"
      ]
    },
    {
      "cell_type": "code",
      "execution_count": null,
      "metadata": {
        "colab": {
          "base_uri": "https://localhost:8080/"
        },
        "id": "1P8GN44V8vIP",
        "outputId": "4305ff9c-fd4d-4252-8603-68b866944db1"
      },
      "outputs": [
        {
          "output_type": "stream",
          "name": "stdout",
          "text": [
            "0.23428598021085925\n"
          ]
        }
      ],
      "source": [
        "# Population Size: N = 514\n",
        "# Sample sizen: n = 85\n",
        "\n",
        "N = 514\n",
        "n = 85\n",
        "\n",
        "# Correlation between the two variables\n",
        "correlation_airtemp_f = df['Water Temp (?C)'].corr(df['pH (standard units)'])\n",
        "\n",
        "print(correlation_airtemp_f)"
      ]
    },
    {
      "cell_type": "code",
      "execution_count": null,
      "metadata": {
        "colab": {
          "base_uri": "https://localhost:8080/"
        },
        "id": "e73DwOiWpXV1",
        "outputId": "09502976-3a7a-4cc3-829e-2a9bf96cef65"
      },
      "outputs": [
        {
          "output_type": "stream",
          "name": "stdout",
          "text": [
            "   Site_Id  Year  Month  Day  Water Temp (?C)  AirTemp (C)  Air Temp (?F)  \\\n",
            "39     Bay  1989      5   18             17.5         20.5           68.9   \n",
            "49     Bay  1989      9   14             26.0         26.0           78.8   \n",
            "50     Bay  1989     10   25             15.0         19.0           66.2   \n",
            "53     Bay  1989     11   27              9.0          4.0           39.2   \n",
            "54     Bay  1989     12   11              3.0          3.0           37.4   \n",
            "\n",
            "    pH (standard units)  Dissolved Oxygen (mg/L)  AirTemp_Probabilities  \\\n",
            "39                  7.5                     12.0               0.002363   \n",
            "49                  7.5                      6.0               0.002702   \n",
            "50                  8.5                      7.8               0.002270   \n",
            "53                  7.5                     10.3               0.001344   \n",
            "54                  7.0                     10.2               0.001283   \n",
            "\n",
            "    Inclusion_Probabilities  PH_Probabilities  \n",
            "39                 0.182158          0.002011  \n",
            "49                 0.205481          0.002011  \n",
            "50                 0.175681          0.002279  \n",
            "53                 0.108052          0.002011  \n",
            "54                 0.103354          0.001877  \n",
            "[21.  16.   4.  24.  19.5 19.5  8.  24.  14.  12. ]\n"
          ]
        }
      ],
      "source": [
        "# Getting all the values in the pH (standard units) Column\n",
        "ph_values = df[\"pH (standard units)\"].to_numpy()\n",
        "\n",
        "# Calculating the total sum of the PH values\n",
        "total_ph = np.sum(ph_values)\n",
        "\n",
        "# Computing probabilities proportional to PH values\n",
        "PH_probabilities = ph_values / total_ph\n",
        "\n",
        "# Adding probabilities to dataframe\n",
        "df[\"PH_Probabilities\"] = PH_probabilities\n",
        "\n",
        "# First five rows in the dataframe\n",
        "print(df.head(5))\n",
        "\n",
        "# Seed for reproducibility\n",
        "np.random.seed(42)\n",
        "\n",
        "# Performing random sampling (with replacement)\n",
        "sample = np.random.choice(df[\"Water Temp (?C)\"], size=n, replace=True, p=PH_probabilities)\n",
        "\n",
        "print(sample[:10])"
      ]
    },
    {
      "cell_type": "code",
      "execution_count": null,
      "metadata": {
        "colab": {
          "base_uri": "https://localhost:8080/",
          "height": 136
        },
        "id": "7j6UtlstvS5Z",
        "outputId": "9006dc3e-aada-446f-f8bd-49ff7e45207a"
      },
      "outputs": [
        {
          "output_type": "display_data",
          "data": {
            "text/plain": [
              "<IPython.core.display.Math object>"
            ],
            "text/latex": "$\\displaystyle {\\hat{\\tau}}_{p} = 7818.802$"
          },
          "metadata": {}
        },
        {
          "output_type": "display_data",
          "data": {
            "text/plain": [
              "<IPython.core.display.Math object>"
            ],
            "text/latex": "$\\displaystyle {\\hat{\\mu}}_{p} = 15.212$"
          },
          "metadata": {}
        },
        {
          "output_type": "display_data",
          "data": {
            "text/plain": [
              "<IPython.core.display.Math object>"
            ],
            "text/latex": "$\\displaystyle {\\hat{var}}({\\hat{\\tau}}_{p}) = 158034.39$"
          },
          "metadata": {}
        },
        {
          "output_type": "display_data",
          "data": {
            "text/plain": [
              "<IPython.core.display.Math object>"
            ],
            "text/latex": "$\\displaystyle {\\hat{var}}({\\hat{\\mu}}_{p}) = 0.598$"
          },
          "metadata": {}
        },
        {
          "output_type": "stream",
          "name": "stdout",
          "text": [
            "HH Var True: 0.4535\n",
            "95% CI: {13.674} {16.75}\n"
          ]
        }
      ],
      "source": [
        "# Seed for reproducibility\n",
        "np.random.seed(42)\n",
        "\n",
        "# Sample indices from the dataframe based on PH probabilities (with replacement)\n",
        "sample_indices = np.random.choice(df.index, size=n, replace=True, p=PH_probabilities)\n",
        "\n",
        "# Extracting the corresponding water temperature values and sampling probabilities for the sampled units\n",
        "sampled_values = df.loc[sample_indices, \"Water Temp (?C)\"].to_numpy()\n",
        "sampled_probabilities = df.loc[sample_indices, \"PH_Probabilities\"].to_numpy()\n",
        "\n",
        "# Computing the Hansen-Hurwitz estimator\n",
        "hh_estimator = np.mean(sampled_values / sampled_probabilities)\n",
        "\n",
        "#Our parameter of interest is the population mean and an unbiased estimator for this using Hansen-Hurwitz estimator is\n",
        "mu_hat_p = hh_estimator / N\n",
        "\n",
        "display(Math(r'{\\hat{\\tau}}_{p} = ' + str(round(hh_estimator, 3))))\n",
        "\n",
        "display(Math(r'{\\hat{\\mu}}_{p} = ' + str(round(mu_hat_p, 3))))\n",
        "\n",
        "\n",
        "# Estimator of variance\n",
        "var_hat = (1/(n*(n-1)))*(np.sum(((sampled_values / sampled_probabilities)-(hh_estimator))**2))\n",
        "display(Math(r'{\\hat{var}}({\\hat{\\tau}}_{p}) = ' + str(round(var_hat, 3))))\n",
        "var_hat_mu = var_hat/(N**2)\n",
        "\n",
        "display(Math(r'{\\hat{var}}({\\hat{\\mu}}_{p}) = ' + str(round(var_hat_mu, 3))))\n",
        "\n",
        "\n",
        "# True Variance\n",
        "tau = np.sum(df[\"Water Temp (?C)\"].to_numpy())\n",
        "var_true = 0\n",
        "for i in df.index:\n",
        "  pi = df.loc[i, \"PH_Probabilities\"]\n",
        "  yi = df.loc[i, \"Water Temp (?C)\"]\n",
        "  var_true += pi*(((yi)/(pi)-tau)**2)\n",
        "var_true = var_true/(N*N*n)\n",
        "print(\"HH Var True:\", round(var_true, 4))\n",
        "# # Used 95% CI giving alpha of 0.05\n",
        "alpha = 0.05\n",
        "\n",
        "# # Getting t distribution crictal value\n",
        "t_critical_95 = t.ppf(1 - alpha / 2, df = n - 1)\n",
        "\n",
        "# # Calculating the lower and upper bounds of the confidence interval\n",
        "lower_95_CI = round((mu_hat_p-(t_critical_95 * np.sqrt(var_hat_mu))), 3)\n",
        "upper_95_CI = round((mu_hat_p+(t_critical_95 * np.sqrt(var_hat_mu))), 3)\n",
        "\n",
        "print(\"95% CI:\", {lower_95_CI}, {upper_95_CI})"
      ]
    },
    {
      "cell_type": "code",
      "execution_count": null,
      "metadata": {
        "colab": {
          "base_uri": "https://localhost:8080/"
        },
        "id": "mmCjlIZrw0Cb",
        "outputId": "870091bc-fa47-4340-f319-7f0c5e74fea7"
      },
      "outputs": [
        {
          "output_type": "stream",
          "name": "stdout",
          "text": [
            "  Site_Id  Year  Month  Day  Water Temp (?C)  AirTemp (C)  Air Temp (?F)  \\\n",
            "0     Bay  1996      4   22             21.0    22.000000           71.6   \n",
            "1     Bay  2017     11    8             16.0    11.111111           52.0   \n",
            "2     Bay  2010      1    7              4.0    -1.111111           30.0   \n",
            "3     Bay  2005     10    7             24.0    22.222222           72.0   \n",
            "4     Bay  1992      9   14             19.5    22.000000           71.6   \n",
            "\n",
            "   pH (standard units)  Dissolved Oxygen (mg/L)  AirTemp_Probabilities  \\\n",
            "0                  8.2                      9.2               0.002456   \n",
            "1                  7.0                      6.6               0.001783   \n",
            "2                  6.5                      7.0               0.001029   \n",
            "3                  6.5                      5.3               0.002469   \n",
            "4                  8.0                      9.2               0.002456   \n",
            "\n",
            "   Inclusion_Probabilities  PH_Probabilities  \n",
            "0                 0.170630          0.002199  \n",
            "1                 0.147587          0.001877  \n",
            "2                 0.137800          0.001743  \n",
            "3                 0.137800          0.001743  \n",
            "4                 0.166833          0.002145  \n"
          ]
        }
      ],
      "source": [
        "# Getting sampled inclusion probabilities\n",
        "inclusion_probabilities = 1 - (1 - PH_probabilities) ** n\n",
        "df.loc[:, \"Inclusion_Probabilities\"] = inclusion_probabilities\n",
        "\n",
        "\n",
        "# Creating a copy to show just the sampled data\n",
        "df_sampled = df.loc[sample_indices].copy()\n",
        "\n",
        "\n",
        "# Adding the inclusion probabilities to the sampled dataframe\n",
        "sampled_inclusion_probabilities = 1 - (1 - sampled_probabilities) ** n\n",
        "df_sampled[\"Inclusion_Probabilities\"] = sampled_inclusion_probabilities\n",
        "\n",
        "\n",
        "# fix df_sampled index\n",
        "df_sampled.reset_index(drop=True, inplace=True)\n",
        "\n",
        "\n",
        "# Printing first five values of sampled dataframe\n",
        "print(df_sampled.head(5))"
      ]
    },
    {
      "cell_type": "code",
      "execution_count": null,
      "metadata": {
        "colab": {
          "base_uri": "https://localhost:8080/",
          "height": 137
        },
        "id": "GVtHUrNIiwVi",
        "outputId": "04644867-be36-4296-bbcd-42a5d29c307b"
      },
      "outputs": [
        {
          "output_type": "display_data",
          "data": {
            "text/plain": [
              "<IPython.core.display.Math object>"
            ],
            "text/latex": "$\\displaystyle {\\hat{\\tau}}_{\\pi} = 7589.534$"
          },
          "metadata": {}
        },
        {
          "output_type": "display_data",
          "data": {
            "text/plain": [
              "<IPython.core.display.Math object>"
            ],
            "text/latex": "$\\displaystyle {\\hat{\\mu}}_{\\pi} = 14.766$"
          },
          "metadata": {}
        },
        {
          "output_type": "display_data",
          "data": {
            "text/plain": [
              "<IPython.core.display.Math object>"
            ],
            "text/latex": "$\\displaystyle {\\hat{var}}({\\hat{\\tau}}_{\\pi}) = 201922.44$"
          },
          "metadata": {}
        },
        {
          "output_type": "display_data",
          "data": {
            "text/plain": [
              "<IPython.core.display.Math object>"
            ],
            "text/latex": "$\\displaystyle {\\hat{var}}({\\hat{\\mu}}_{\\pi}) = 0.764$"
          },
          "metadata": {}
        },
        {
          "output_type": "stream",
          "name": "stdout",
          "text": [
            "95% CI: {13.024} {16.507}\n"
          ]
        },
        {
          "output_type": "display_data",
          "data": {
            "text/plain": [
              "<IPython.core.display.Math object>"
            ],
            "text/latex": "$\\displaystyle {var}({\\hat{\\mu}}_{\\pi}) = 0.591$"
          },
          "metadata": {}
        }
      ],
      "source": [
        "# pi_ij formula that we will use for HT and g-uneq\n",
        "def pi_ij(i, j, p_list, pi_list):\n",
        "  return pi_list[i] + pi_list[j] - 1 + ((1 - p_list[i] - p_list[j]) ** n)\n",
        "\n",
        "# Getting the unique sample indices from the previously sampled indices\n",
        "unique_sample_indices = np.unique(sample_indices)\n",
        "\n",
        "df_sampled = df.loc[unique_sample_indices].copy()\n",
        "# Extracting the unique sampled water temperature values (Water Temp (?C)) from the dataframe\n",
        "# y_i, i in V\n",
        "unique_sampled_values = df_sampled.loc[:, \"Water Temp (?C)\"].to_numpy()\n",
        "\n",
        "# Extracting the corresponding unique inclusion probabilities from the dataframe for the unique sample indices\n",
        "# pi_i, i in V\n",
        "unique_sampled_inclusion_probabilities = df_sampled.loc[:, \"Inclusion_Probabilities\"].to_numpy()\n",
        "\n",
        "# Extracting the corresponding unique inclusion probabilities from the dataframe for the unique sample indices\n",
        "# p_i, i in V\n",
        "unique_sampled_probabilities = df_sampled.loc[:, \"PH_Probabilities\"].to_numpy()\n",
        "\n",
        "# Calculating the Horvitz-Thompson estimator\n",
        "ht_estimator = np.sum(unique_sampled_values / unique_sampled_inclusion_probabilities)\n",
        "\n",
        "# The unbiased estimator for the population mean is mu_hat_pi\n",
        "mu_hat_pi = ht_estimator / N\n",
        "\n",
        "display(Math(r'{\\hat{\\tau}}_{\\pi} = ' + str(round(ht_estimator, 3))))\n",
        "display(Math(r'{\\hat{\\mu}}_{\\pi} = ' + str(round(mu_hat_pi, 3))))\n",
        "\n",
        "# Calculating the estimated variance of the Horvitz-Thompson estimator using the sampled values and inclusion probabilities\n",
        "evar_ht = np.sum(((1 - unique_sampled_inclusion_probabilities) / (unique_sampled_inclusion_probabilities ** 2)) * (unique_sampled_values ** 2))\n",
        "for i in range(len(df_sampled)):\n",
        "  for j in range(len(df_sampled)):\n",
        "    if i != j:\n",
        "      evar_ht += (pi_ij(i, j, unique_sampled_probabilities, unique_sampled_inclusion_probabilities) - (unique_sampled_inclusion_probabilities[i] * unique_sampled_inclusion_probabilities[j])) \\\n",
        "      / (unique_sampled_inclusion_probabilities[i] * unique_sampled_inclusion_probabilities[j]) \\\n",
        "      * (unique_sampled_values[i] * unique_sampled_values[j] / pi_ij(i, j, unique_sampled_probabilities, unique_sampled_inclusion_probabilities))\n",
        "\n",
        "display(Math(r'{\\hat{var}}({\\hat{\\tau}}_{\\pi}) = ' + str(round(evar_ht, 3))))\n",
        "\n",
        "evar_ht_mu = evar_ht / (N ** 2)\n",
        "\n",
        "display(Math(r'{\\hat{var}}({\\hat{\\mu}}_{\\pi}) = ' + str(round(evar_ht_mu, 3))))\n",
        "\n",
        "# Used 95% CI giving alpha of 0.05\n",
        "# Getting t distribution crictal value\n",
        "alpha = 0.05\n",
        "t_critical_95 = t.ppf(1 - alpha / 2, df = len(unique_sampled_values) - 1)\n",
        "\n",
        "# Calculating the lower and upper bounds of the confidence interval\n",
        "lower_95_CI = round(mu_hat_pi - (t_critical_95 * np.sqrt(evar_ht_mu)), 3)\n",
        "upper_95_CI = round(mu_hat_pi + (t_critical_95 * np.sqrt(evar_ht_mu)), 3)\n",
        "\n",
        "print(\"95% CI:\", {lower_95_CI}, {upper_95_CI})\n",
        "\n",
        "### Calculate the true variance of HT\n",
        "# yi for pop\n",
        "population_values = df.loc[:, \"Water Temp (?C)\"].to_numpy()\n",
        "# pi_i for pop\n",
        "population_inclusion_probabilities = df.loc[:, \"Inclusion_Probabilities\"].to_numpy()\n",
        "# p_i for pop\n",
        "population_probabilities = df.loc[:, \"PH_Probabilities\"].to_numpy()\n",
        "# tau for pop\n",
        "population_tau = np.sum(population_values)\n",
        "\n",
        "# calculate the variance\n",
        "var_ht = np.sum(((1 - population_inclusion_probabilities) / population_inclusion_probabilities)*(population_values ** 2))\n",
        "for i in range(0, len(population_values)):\n",
        "  for j in range(0, len(population_values)):\n",
        "    if j != i:\n",
        "      var_ht += ((pi_ij(i, j, population_probabilities, population_inclusion_probabilities) - (population_inclusion_probabilities[i] * population_inclusion_probabilities[j])) \\\n",
        "      / (population_inclusion_probabilities[i] * population_inclusion_probabilities[j])) \\\n",
        "      * (population_values[i] * population_values[j])\n",
        "\n",
        "var_ht_mu = var_ht / (N ** 2)\n",
        "\n",
        "display(Math(r'{var}({\\hat{\\mu}}_{\\pi}) = ' + str(round(var_ht_mu, 3))))"
      ]
    },
    {
      "cell_type": "code",
      "execution_count": null,
      "metadata": {
        "colab": {
          "base_uri": "https://localhost:8080/",
          "height": 120
        },
        "id": "w130cYSajojL",
        "outputId": "3da856e9-ae13-49f2-fefe-398bb8c8c265"
      },
      "outputs": [
        {
          "output_type": "display_data",
          "data": {
            "text/plain": [
              "<IPython.core.display.Math object>"
            ],
            "text/latex": "$\\displaystyle {\\hat{\\mu}}_{g} = 15.026$"
          },
          "metadata": {}
        },
        {
          "output_type": "display_data",
          "data": {
            "text/plain": [
              "<IPython.core.display.Math object>"
            ],
            "text/latex": "$\\displaystyle {\\hat{var}}({\\hat{\\tau}}_{g}) = 138568.932$"
          },
          "metadata": {}
        },
        {
          "output_type": "display_data",
          "data": {
            "text/plain": [
              "<IPython.core.display.Math object>"
            ],
            "text/latex": "$\\displaystyle {\\hat{var}}({\\hat{\\mu}}_{g}) = 0.524$"
          },
          "metadata": {}
        },
        {
          "output_type": "stream",
          "name": "stdout",
          "text": [
            "95% CI for Generalized Estimator: {13.583} {16.468}\n"
          ]
        },
        {
          "output_type": "display_data",
          "data": {
            "text/plain": [
              "<IPython.core.display.Math object>"
            ],
            "text/latex": "$\\displaystyle {var}({\\hat{\\mu}}_{g}) = 0.438$"
          },
          "metadata": {}
        }
      ],
      "source": [
        "# Generalized Unequal Probability Estimator (μg)\n",
        "unique_sample_indices = np.unique(sample_indices)\n",
        "\n",
        "df_sampled = df.loc[unique_sample_indices].copy()\n",
        "\n",
        "gup_estimator = np.sum(unique_sampled_values / unique_sampled_inclusion_probabilities) / np.sum(1 / unique_sampled_inclusion_probabilities)\n",
        "\n",
        "display(Math(r'{\\hat{\\mu}}_{g} = ' + str(round(gup_estimator, 3))))\n",
        "\n",
        "# Estimated variance calculation\n",
        "evar_gu = np.sum(((1 - unique_sampled_inclusion_probabilities) / (unique_sampled_inclusion_probabilities ** 2)) * ((unique_sampled_values - gup_estimator) ** 2))\n",
        "for i in range(len(df_sampled)):\n",
        "  for j in range(len(df_sampled)):\n",
        "    if i != j:\n",
        "      evar_gu += (pi_ij(i, j, unique_sampled_probabilities, unique_sampled_inclusion_probabilities) - (unique_sampled_inclusion_probabilities[i] * unique_sampled_inclusion_probabilities[j])) \\\n",
        "      / (unique_sampled_inclusion_probabilities[i] * unique_sampled_inclusion_probabilities[j]) \\\n",
        "      * ((unique_sampled_values[i] - gup_estimator) * (unique_sampled_values[j] - gup_estimator) / pi_ij(i, j, unique_sampled_probabilities, unique_sampled_inclusion_probabilities))\n",
        "\n",
        "display(Math(r'{\\hat{var}}({\\hat{\\tau}}_{g}) = ' + str(round(evar_gu, 3))))\n",
        "\n",
        "# evar_gu_mu = evar_ht / (N ** 2)\n",
        "evar_gu_mu = evar_gu / (N ** 2)\n",
        "\n",
        "display(Math(r'{\\hat{var}}({\\hat{\\mu}}_{g}) = ' + str(round(evar_gu_mu, 3))))\n",
        "\n",
        "# Confidence Interval (CI)\n",
        "lower_95_CI_gup = round(gup_estimator - (t_critical_95 * np.sqrt(evar_gu_mu)), 3)\n",
        "upper_95_CI_gup = round(gup_estimator + (t_critical_95 * np.sqrt(evar_gu_mu)), 3)\n",
        "\n",
        "print(\"95% CI for Generalized Estimator:\", {lower_95_CI_gup}, {upper_95_CI_gup})\n",
        "#evar_gu_mu = evar_ht / (N ** 2)\n",
        "# True variance calculation\n",
        "true_mu = 14.227\n",
        "var_gu = np.sum(((1 - population_inclusion_probabilities) / population_inclusion_probabilities)*((population_values - true_mu) ** 2))\n",
        "for i in range(0, len(population_values)):\n",
        "  for j in range(0, len(population_values)):\n",
        "    if j != i:\n",
        "      var_gu += ((pi_ij(i, j, population_probabilities, population_inclusion_probabilities) - (population_inclusion_probabilities[i] * population_inclusion_probabilities[j])) \\\n",
        "      / (population_inclusion_probabilities[i] * population_inclusion_probabilities[j])) \\\n",
        "      * ((population_values[i] - true_mu) * (population_values[j] - true_mu))\n",
        "\n",
        "var_gu_mu = var_gu / (N ** 2)\n",
        "\n",
        "display(Math(r'{var}({\\hat{\\mu}}_{g}) = ' + str(round(var_gu_mu, 3))))"
      ]
    },
    {
      "cell_type": "code",
      "execution_count": null,
      "metadata": {
        "colab": {
          "base_uri": "https://localhost:8080/"
        },
        "id": "pAqELMzSkI6j",
        "outputId": "53479bba-bc6e-4c12-8ebe-8a3a4f8d8e4b"
      },
      "outputs": [
        {
          "output_type": "stream",
          "name": "stdout",
          "text": [
            "The best estimator based on variance is: Generalized\n"
          ]
        }
      ],
      "source": [
        "# Comparing variances of the three estimators\n",
        "\n",
        "estimators_variances = {\n",
        "    \"Hansen-Hurwitz\": var_hat_mu,\n",
        "    \"Horvitz-Thompson\": evar_ht_mu,\n",
        "    \"Generalized\": evar_gu_mu\n",
        "}\n",
        "\n",
        "# Choose the estimator with the smallest variance\n",
        "best_estimator = min(estimators_variances, key=estimators_variances.get)\n",
        "print(\"The best estimator based on variance is:\", best_estimator)\n"
      ]
    },
    {
      "cell_type": "code",
      "execution_count": null,
      "metadata": {
        "colab": {
          "base_uri": "https://localhost:8080/"
        },
        "id": "mz0H5bTHkgpo",
        "outputId": "1eab37dd-a755-4610-d489-3a3bc73c7da3"
      },
      "outputs": [
        {
          "output_type": "stream",
          "name": "stdout",
          "text": [
            "HH Var True: 0.4535\n"
          ]
        }
      ],
      "source": [
        "# True Variance\n",
        "tau = np.sum(df[\"Water Temp (?C)\"].to_numpy())\n",
        "var_true = 0\n",
        "for i in df.index:\n",
        "  pi = df.loc[i, \"PH_Probabilities\"]\n",
        "  yi = df.loc[i, \"Water Temp (?C)\"]\n",
        "  var_true += pi*(((yi)/(pi)-tau)**2)\n",
        "var_true = var_true/(N*N*n)\n",
        "print(\"HH Var True:\", round(var_true, 4))"
      ]
    },
    {
      "cell_type": "code",
      "execution_count": null,
      "metadata": {
        "colab": {
          "base_uri": "https://localhost:8080/",
          "height": 39
        },
        "id": "tZey3PVzlFCb",
        "outputId": "69bb2be8-539c-46ca-dc84-6bc70d73d737"
      },
      "outputs": [
        {
          "output_type": "display_data",
          "data": {
            "text/plain": [
              "<IPython.core.display.Math object>"
            ],
            "text/latex": "$\\displaystyle {var}({\\hat{\\mu}}_{\\pi}) = 0.591$"
          },
          "metadata": {}
        }
      ],
      "source": [
        "### Calculate the true variance of HT\n",
        "# yi for pop\n",
        "population_values = df.loc[:, \"Water Temp (?C)\"].to_numpy()\n",
        "# pi_i for pop\n",
        "population_inclusion_probabilities = df.loc[:, \"Inclusion_Probabilities\"].to_numpy()\n",
        "# p_i for pop\n",
        "population_probabilities = df.loc[:, \"PH_Probabilities\"].to_numpy()\n",
        "# tau for pop\n",
        "population_tau = np.sum(population_values)\n",
        "\n",
        "\n",
        "# calculate the variance\n",
        "var_ht = np.sum(((1 - population_inclusion_probabilities) / population_inclusion_probabilities)*(population_values ** 2))\n",
        "for i in range(0, len(population_values)):\n",
        "  for j in range(0, len(population_values)):\n",
        "    if j != i:\n",
        "      var_ht += ((pi_ij(i, j, population_probabilities, population_inclusion_probabilities) - (population_inclusion_probabilities[i] * population_inclusion_probabilities[j])) \\\n",
        "      / (population_inclusion_probabilities[i] * population_inclusion_probabilities[j])) \\\n",
        "      * (population_values[i] * population_values[j])\n",
        "\n",
        "\n",
        "var_ht_mu = var_ht / (N ** 2)\n",
        "\n",
        "display(Math(r'{var}({\\hat{\\mu}}_{\\pi}) = ' + str(round(var_ht_mu, 3))))"
      ]
    },
    {
      "cell_type": "code",
      "execution_count": null,
      "metadata": {
        "colab": {
          "base_uri": "https://localhost:8080/",
          "height": 39
        },
        "id": "Vo3QchFkldw_",
        "outputId": "f11baed6-90f7-4f06-c8aa-ad1753dba6f6"
      },
      "outputs": [
        {
          "output_type": "display_data",
          "data": {
            "text/plain": [
              "<IPython.core.display.Math object>"
            ],
            "text/latex": "$\\displaystyle {var}({\\hat{\\mu}}_{g}) = 0.438$"
          },
          "metadata": {}
        }
      ],
      "source": [
        "# True variance calculation\n",
        "true_mu = 14.227\n",
        "var_gu = np.sum(((1 - population_inclusion_probabilities) / population_inclusion_probabilities)*((population_values - true_mu) ** 2))\n",
        "for i in range(0, len(population_values)):\n",
        "  for j in range(0, len(population_values)):\n",
        "    if j != i:\n",
        "      var_gu += ((pi_ij(i, j, population_probabilities, population_inclusion_probabilities) - (population_inclusion_probabilities[i] * population_inclusion_probabilities[j])) \\\n",
        "      / (population_inclusion_probabilities[i] * population_inclusion_probabilities[j])) \\\n",
        "      * ((population_values[i] - true_mu) * (population_values[j] - true_mu))\n",
        "\n",
        "\n",
        "var_gu_mu = var_gu / (N ** 2)\n",
        "\n",
        "display(Math(r'{var}({\\hat{\\mu}}_{g}) = ' + str(round(var_gu_mu, 3))))"
      ]
    },
    {
      "cell_type": "code",
      "execution_count": null,
      "metadata": {
        "colab": {
          "base_uri": "https://localhost:8080/",
          "height": 39
        },
        "id": "Jf4y60m0iXf1",
        "outputId": "29cc9420-910d-4e85-b66e-538e1bcefe1b"
      },
      "outputs": [
        {
          "output_type": "display_data",
          "data": {
            "text/plain": [
              "<IPython.core.display.Math object>"
            ],
            "text/latex": "$\\displaystyle {var}({\\hat{\\mu}}_{\\pi}) = 0.591$"
          },
          "metadata": {}
        }
      ],
      "source": [
        "# Calculate the true variance of HT\n",
        "# yi for pop\n",
        "population_values = df.loc[:, \"Water Temp (?C)\"].to_numpy()\n",
        "# pi_i for pop\n",
        "population_inclusion_probabilities = df.loc[:, \"Inclusion_Probabilities\"].to_numpy()\n",
        "# p_i for pop\n",
        "population_probabilities = df.loc[:, \"PH_Probabilities\"].to_numpy()\n",
        "# tau for pop\n",
        "population_tau = np.sum(population_values)\n",
        "\n",
        "\n",
        "# calculate the variance\n",
        "var_ht = np.sum(((1 - population_inclusion_probabilities) / population_inclusion_probabilities)*(population_values ** 2))\n",
        "for i in range(0, len(population_values)):\n",
        "  for j in range(0, len(population_values)):\n",
        "    if j != i:\n",
        "      var_ht += ((pi_ij(i, j, population_probabilities, population_inclusion_probabilities) - (population_inclusion_probabilities[i] * population_inclusion_probabilities[j])) \\\n",
        "      / (population_inclusion_probabilities[i] * population_inclusion_probabilities[j])) \\\n",
        "      * (population_values[i] * population_values[j])\n",
        "\n",
        "\n",
        "var_ht_mu = var_ht / (N ** 2)\n",
        "\n",
        "display(Math(r'{var}({\\hat{\\mu}}_{\\pi}) = ' + str(round(var_ht_mu, 3))))"
      ]
    },
    {
      "cell_type": "code",
      "execution_count": null,
      "metadata": {
        "colab": {
          "base_uri": "https://localhost:8080/"
        },
        "id": "yqasK3zU2jKR",
        "outputId": "d8b6435c-cd6b-4b3e-d20c-e0fa55482d91"
      },
      "outputs": [
        {
          "output_type": "stream",
          "name": "stdout",
          "text": [
            "The best estimator based on variance is: Horvitz-Thompson\n"
          ]
        }
      ],
      "source": [
        "# Comparing variances of the three estimators\n",
        "\n",
        "variance_hh = 875392.118\n",
        "variance_ht = 180400.957\n",
        "variance_gup= 2147941532.976\n",
        "\n",
        "estimators_variances = {\n",
        "    \"Hansen-Hurwitz\": variance_hh,\n",
        "    \"Horvitz-Thompson\": variance_ht,\n",
        "    \"Generalized\": variance_gup\n",
        "}\n",
        "\n",
        "# Choose the estimator with the smallest variance\n",
        "best_estimator = min(estimators_variances, key=estimators_variances.get)\n",
        "print(\"The best estimator based on variance is:\", best_estimator)\n"
      ]
    },
    {
      "cell_type": "markdown",
      "metadata": {
        "id": "c1a_oTxLtDG6"
      },
      "source": [
        "# Report 4"
      ]
    },
    {
      "cell_type": "code",
      "execution_count": null,
      "metadata": {
        "id": "WEmyVRPAtJng"
      },
      "outputs": [],
      "source": [
        "# The value of the parameter\n",
        "\n",
        "N = 514\n",
        "n = 85"
      ]
    },
    {
      "cell_type": "markdown",
      "metadata": {
        "id": "I4UOBDhXt9jM"
      },
      "source": [
        "## Question 1: Choose an auxiliary variable x that should be related to your variable of interest y. Take a SRS of size n (the same size as in Report 2)"
      ]
    },
    {
      "cell_type": "code",
      "execution_count": null,
      "metadata": {
        "colab": {
          "base_uri": "https://localhost:8080/"
        },
        "id": "WDZWYlP9t7tE",
        "outputId": "72c0fcef-b583-4584-f698-09a77b841efc"
      },
      "outputs": [
        {
          "output_type": "stream",
          "name": "stdout",
          "text": [
            "1044    11.0\n",
            "2265    25.0\n",
            "1928    18.0\n",
            "226     11.5\n",
            "2272    25.0\n",
            "        ... \n",
            "261      8.0\n",
            "480     12.0\n",
            "2333    12.0\n",
            "10      17.5\n",
            "102     11.0\n",
            "Name: Water Temp (?C), Length: 85, dtype: float64\n",
            "1044    43.00\n",
            "2265    73.00\n",
            "1928    60.00\n",
            "226     59.90\n",
            "2272    78.00\n",
            "        ...  \n",
            "261     50.90\n",
            "480     45.00\n",
            "2333    46.00\n",
            "10      61.88\n",
            "102     57.20\n",
            "Name: Air Temp (?F), Length: 85, dtype: float64\n"
          ]
        }
      ],
      "source": [
        "# Auxilary Variable chosen: Air Temperature\n",
        "\n",
        "np.random.seed(42)\n",
        "\n",
        "population = np.arange(0, N)\n",
        "\n",
        "sample = np.random.choice(population, size=n, replace=False)\n",
        "\n",
        "# Performing random sampling (without replacement) for Water Temp\n",
        "sample_water_temp = df[\"Water Temp (?C)\"].iloc[sample]\n",
        "\n",
        "\n",
        "# Performing random sampling (without replacement) for Air Temp\n",
        "sample_air_temp = df[\"Air Temp (?F)\"].iloc[sample]\n",
        "\n",
        "print(sample_water_temp)\n",
        "print(sample_air_temp)"
      ]
    },
    {
      "cell_type": "markdown",
      "metadata": {
        "id": "VFsJPKWdurGS"
      },
      "source": [
        "## Question 2: Perform a diagnostic analysis to determine if x and y have a linear relationship based on the sample data. Do regression analysis y ∼ x."
      ]
    },
    {
      "cell_type": "code",
      "execution_count": null,
      "metadata": {
        "colab": {
          "base_uri": "https://localhost:8080/"
        },
        "id": "PyI2Beus9CU1",
        "outputId": "65fd9627-22db-42ec-ddb3-6392ce3fa689"
      },
      "outputs": [
        {
          "output_type": "stream",
          "name": "stdout",
          "text": [
            "Intercept    8.057487e-11\n",
            "AirTemp      3.272540e-28\n",
            "dtype: float64\n"
          ]
        }
      ],
      "source": [
        "#Frank's attempt at answering this question is below\n",
        "data_thing = pd.DataFrame({\n",
        "    \"WaterTemp\": sample_water_temp,\n",
        "    \"AirTemp\": sample_air_temp\n",
        "})\n",
        "res = smf.ols(\"WaterTemp ~ AirTemp\", data = data_thing).fit()\n",
        "res.summary()\n",
        "\n",
        "print(res.pvalues)\n"
      ]
    },
    {
      "cell_type": "code",
      "execution_count": null,
      "metadata": {
        "colab": {
          "base_uri": "https://localhost:8080/",
          "height": 534
        },
        "id": "aWQIP6mRunfu",
        "outputId": "ec09d08a-20e0-464e-d921-600678ba0731"
      },
      "outputs": [
        {
          "output_type": "stream",
          "name": "stdout",
          "text": [
            "0.8774468245770644\n"
          ]
        },
        {
          "output_type": "display_data",
          "data": {
            "text/plain": [
              "<Figure size 640x480 with 1 Axes>"
            ],
            "image/png": "[encoded data removed]"
          },
          "metadata": {}
        },
        {
          "output_type": "stream",
          "name": "stdout",
          "text": [
            "Slope = 0.4710227632555459\n",
            "Intercept = -12.341115842994016\n",
            "R value = 0.8774468245770644\n",
            "p-value = 3.272539651157471e-28\n",
            "Standard Error = 0.028263643723796136\n"
          ]
        }
      ],
      "source": [
        "slope_sample1, intercept_sample1, r_sample1, p_sample1, std_err_sample1 = stats.linregress(sample_air_temp, sample_water_temp)\n",
        "print(r_sample1)\n",
        "\n",
        "def func(x):\n",
        "  return slope_sample1 * x + intercept_sample1\n",
        "\n",
        "model = list(map(func, sample_water_temp))\n",
        "\n",
        "plt.scatter(sample_water_temp, sample_air_temp)\n",
        "plt.plot(sample_water_temp, model)\n",
        "plt.show()\n",
        "\n",
        "print(\"Slope =\", slope_sample1)\n",
        "print(\"Intercept =\", intercept_sample1)\n",
        "print(\"R value =\", r_sample1)\n",
        "print(\"p-value =\", p_sample1)\n",
        "print(\"Standard Error =\", std_err_sample1)"
      ]
    },
    {
      "cell_type": "code",
      "execution_count": null,
      "metadata": {
        "colab": {
          "base_uri": "https://localhost:8080/"
        },
        "id": "6OcvpST7m1Ad",
        "outputId": "a6841630-e08c-4449-b9c2-a158f1265229"
      },
      "outputs": [
        {
          "output_type": "stream",
          "name": "stdout",
          "text": [
            "                            OLS Regression Results                            \n",
            "==============================================================================\n",
            "Dep. Variable:        Water Temp (?C)   R-squared:                       0.770\n",
            "Model:                            OLS   Adj. R-squared:                  0.767\n",
            "Method:                 Least Squares   F-statistic:                     277.7\n",
            "Date:                Mon, 09 Dec 2024   Prob (F-statistic):           3.27e-28\n",
            "Time:                        06:13:39   Log-Likelihood:                -207.86\n",
            "No. Observations:                  85   AIC:                             419.7\n",
            "Df Residuals:                      83   BIC:                             424.6\n",
            "Df Model:                           1                                         \n",
            "Covariance Type:            nonrobust                                         \n",
            "=================================================================================\n",
            "                    coef    std err          t      P>|t|      [0.025      0.975]\n",
            "---------------------------------------------------------------------------------\n",
            "const           -12.3411      1.657     -7.449      0.000     -15.636      -9.046\n",
            "Air Temp (?F)     0.4710      0.028     16.665      0.000       0.415       0.527\n",
            "==============================================================================\n",
            "Omnibus:                       26.890   Durbin-Watson:                   1.417\n",
            "Prob(Omnibus):                  0.000   Jarque-Bera (JB):               68.374\n",
            "Skew:                           1.037   Prob(JB):                     1.42e-15\n",
            "Kurtosis:                       6.873   Cond. No.                         317.\n",
            "==============================================================================\n",
            "\n",
            "Notes:\n",
            "[1] Standard Errors assume that the covariance matrix of the errors is correctly specified.\n"
          ]
        }
      ],
      "source": [
        "X = sample_air_temp\n",
        "X = sm.add_constant(X)\n",
        "\n",
        "y = sample_water_temp\n",
        "\n",
        "model = sm.OLS(y, X).fit()\n",
        "\n",
        "print(model.summary())"
      ]
    },
    {
      "cell_type": "markdown",
      "metadata": {
        "id": "OEZGqUHLyqDW"
      },
      "source": [
        "## Question 3: Based on the results of the regression analysis, make a conclusion about the appropriateness of using ratio and regression estimators. (TEXT ANSWER ONLY)"
      ]
    },
    {
      "cell_type": "markdown",
      "metadata": {
        "id": "_p196OIpzQsI"
      },
      "source": [
        "## Question 4: Estimate your parameter of interest by Ratio estimator. Estimate its variance and give a confidence interval of α level chosen in Report 2."
      ]
    },
    {
      "cell_type": "code",
      "execution_count": null,
      "metadata": {
        "colab": {
          "base_uri": "https://localhost:8080/"
        },
        "id": "pavBj5a-zVgY",
        "outputId": "37c20915-5135-4b70-cbe7-61a0c11568fd"
      },
      "outputs": [
        {
          "output_type": "stream",
          "name": "stdout",
          "text": [
            "0.25680140827237496\n",
            "mu_x = 56.72911284046692\n",
            "Ratio estimator = 14.568\n"
          ]
        }
      ],
      "source": [
        "# Ratio estimator: mu_hat_r = r * mu_x\n",
        "# mu_x = T_x / N\n",
        "\n",
        "print((np.mean(sample_water_temp))/(np.mean(sample_air_temp))) #FRANK CHANGED\n",
        "ratio_estimator = ((np.mean(sample_water_temp))/(np.mean(sample_air_temp))) #FRANK CHANGED\n",
        "T_x = sum(df[\"Air Temp (?F)\"])\n",
        "mu_x = T_x / N\n",
        "\n",
        "print(\"mu_x =\", mu_x)\n",
        "\n",
        "mu_hat_r = ratio_estimator * mu_x #Trust in the r_sample1 value being correctly calculated from the sample\n",
        "\n",
        "print(\"Ratio estimator =\", round(mu_hat_r, 3))"
      ]
    },
    {
      "cell_type": "code",
      "execution_count": null,
      "metadata": {
        "colab": {
          "base_uri": "https://localhost:8080/"
        },
        "id": "4wKNliKi0Yvm",
        "outputId": "91ea6b9b-6f4f-4836-ee02-5e0fe0983d88"
      },
      "outputs": [
        {
          "output_type": "stream",
          "name": "stdout",
          "text": [
            "Estimation of Variance of Ratio Esitmator = 0.129\n"
          ]
        }
      ],
      "source": [
        "# Estimation of Variance of Ratio Esitmator: var_hat_mu_hat_r = ((N-n)/N) * (sr_squared/n)\n",
        "#z = sample_air_temp - r_sample1 * sample_water_temp\n",
        "z = sample_water_temp - ratio_estimator * sample_air_temp #Frank changed\n",
        "sr_squared = np.var(z)\n",
        "\n",
        "var_hat_mu_hat_r = ((N-n)/N)*(sr_squared/n)\n",
        "\n",
        "print(\"Estimation of Variance of Ratio Esitmator =\", round(var_hat_mu_hat_r, 3))"
      ]
    },
    {
      "cell_type": "code",
      "execution_count": null,
      "metadata": {
        "colab": {
          "base_uri": "https://localhost:8080/"
        },
        "id": "OhIvr0KI17Rj",
        "outputId": "f6da7064-f9b6-4abf-f32e-bd7b974a8cb0"
      },
      "outputs": [
        {
          "output_type": "stream",
          "name": "stdout",
          "text": [
            "Confidence Inteval (for alpha = 0.05) = (13.853, 15.284)\n"
          ]
        }
      ],
      "source": [
        "# Confidence Inteval = (mu_hat_r - t_value(sqrt(var_hat_mu_hat_r), mu_hat_r + t_value(sqrt(var_hat_mu_hat_r))\n",
        "alpha = 0.05\n",
        "\n",
        "t_critical_value = t.ppf(1 - alpha / 2, df= n - 1)\n",
        "\n",
        "lower_bound = mu_hat_r - t_critical_value * (math.sqrt(var_hat_mu_hat_r))\n",
        "\n",
        "upper_bound = mu_hat_r + t_critical_value * (math.sqrt(var_hat_mu_hat_r))\n",
        "\n",
        "print(\"Confidence Inteval (for alpha = 0.05) =\", (round(lower_bound, 3), round(upper_bound, 3)))"
      ]
    },
    {
      "cell_type": "markdown",
      "metadata": {
        "id": "a7Teb_LpdwOe"
      },
      "source": [
        "## Question 5: Estimate your parameter of interest by Regression estimator. Estimate its variance and give a confidence interval of α level chosen in Report 2"
      ]
    },
    {
      "cell_type": "code",
      "execution_count": null,
      "metadata": {
        "colab": {
          "base_uri": "https://localhost:8080/"
        },
        "id": "Smtxmtr9eACF",
        "outputId": "de008662-932b-4f16-be15-30ddafb60e97"
      },
      "outputs": [
        {
          "output_type": "stream",
          "name": "stdout",
          "text": [
            "Regression estimator = 14.38\n"
          ]
        }
      ],
      "source": [
        "# Regression estimator: mu_hat_l = a + (b * mu_x)\n",
        "# mu_x = T_x / N\n",
        "# numerator = np.sum((sample_water_temp - x_bar) * (sample_air_temp - y_bar))\n",
        "# denominator = np.sum((sample_water_temp - x_bar) ** 2)\n",
        "# b = numerator / denominator\n",
        "# a = y_bar - (b * x_bar)\n",
        "\n",
        "T_x = sum(df[\"Air Temp (?F)\"])\n",
        "mu_x = T_x / N\n",
        "\n",
        "x_bar = np.mean(sample_air_temp)\n",
        "y_bar = np.mean(sample_water_temp)\n",
        "\n",
        "# ASSUME LENGTH X = LENGTH Y\n",
        "b = sum((sample_air_temp - x_bar) * (sample_water_temp - y_bar))\n",
        "b /= sum((sample_air_temp - x_bar) ** 2)\n",
        "a = y_bar - (b * x_bar)\n",
        "\n",
        "mu_hat_l = a + (b * mu_x)\n",
        "\n",
        "print(\"Regression estimator =\", round(mu_hat_l, 3))"
      ]
    },
    {
      "cell_type": "code",
      "execution_count": null,
      "metadata": {
        "colab": {
          "base_uri": "https://localhost:8080/"
        },
        "id": "hPBY6NJ21uSm",
        "outputId": "1b29a678-bd2d-4c13-abbc-0da54955bf8b"
      },
      "outputs": [
        {
          "output_type": "stream",
          "name": "stdout",
          "text": [
            "Estimation of Variance of Regression Esitmator = 0.078\n"
          ]
        }
      ],
      "source": [
        "# Estimation of Variance of Regression Esitmator: var_hat_mu_hat_l = ((N - n) / (N * n * (n - 2))) * np.sum((y - a - b * x) ** 2)\n",
        "\n",
        "var_hat_mu_hat_l = ((N - n) / (N * n * (n - 2))) * np.sum((sample_water_temp - a - b * sample_air_temp) ** 2)\n",
        "\n",
        "print(\"Estimation of Variance of Regression Esitmator =\", round(var_hat_mu_hat_l, 3))"
      ]
    },
    {
      "cell_type": "code",
      "execution_count": null,
      "metadata": {
        "colab": {
          "base_uri": "https://localhost:8080/"
        },
        "id": "I6tMnwFH2har",
        "outputId": "f6c2b151-96f4-4db5-f4d6-aa5f29484350"
      },
      "outputs": [
        {
          "output_type": "stream",
          "name": "stdout",
          "text": [
            "Confidence Inteval (for alpha = 0.05) = (13.823, 14.936)\n"
          ]
        }
      ],
      "source": [
        "# Confidence Inteval = (mu_hat_r - t_value(sqrt(var_hat_mu_hat_l), mu_hat_r + t_value(sqrt(var_hat_mu_hat_l))\n",
        "alpha = 0.05\n",
        "\n",
        "t_critical_value = t.ppf(1 - alpha / 2, df= n - 2)\n",
        "\n",
        "lower_bound = mu_hat_l - t_critical_value * (math.sqrt(var_hat_mu_hat_l))\n",
        "\n",
        "upper_bound = mu_hat_l + t_critical_value * (math.sqrt(var_hat_mu_hat_l))\n",
        "\n",
        "print(\"Confidence Inteval (for alpha = 0.05) =\", (round(lower_bound, 3), round(upper_bound, 3)))"
      ]
    },
    {
      "cell_type": "markdown",
      "metadata": {
        "id": "t1bs6gvvgHvb"
      },
      "source": [
        "## Question 6: Choose the best estimator of your parameter based on estimated variance. (TEXT ANSWER ONLY)"
      ]
    },
    {
      "cell_type": "markdown",
      "metadata": {
        "id": "LxeGxw4ngJp_"
      },
      "source": [
        "## Question 7: Calculate the true regression coefficients. Namely, do regression y ∼ x using whole data set (population). Is your conclusion in the part 3 changed? How does it change?"
      ]
    },
    {
      "cell_type": "code",
      "execution_count": null,
      "metadata": {
        "colab": {
          "base_uri": "https://localhost:8080/"
        },
        "id": "D7_u0eDYgWp9",
        "outputId": "bfeea3e1-175d-42da-d191-7a596c2d4e8d"
      },
      "outputs": [
        {
          "output_type": "stream",
          "name": "stdout",
          "text": [
            "Coefficients:\n",
            " Intercept   -11.374678\n",
            "AirTemp       0.449755\n",
            "dtype: float64\n",
            "\n",
            "P-values:\n",
            " Intercept     8.088877e-69\n",
            "AirTemp      1.070710e-188\n",
            "dtype: float64\n"
          ]
        }
      ],
      "source": [
        "whole_pop = pd.DataFrame({\n",
        "    \"WaterTemp\": df[\"Water Temp (?C)\"].to_numpy(),\n",
        "    \"AirTemp\": df[\"Air Temp (?F)\"].to_numpy()\n",
        "})\n",
        "res_whole_pop = smf.ols(\"WaterTemp ~ AirTemp\", data = whole_pop).fit()\n",
        "res_whole_pop.summary()\n",
        "\n",
        "print(\"Coefficients:\\n\", res_whole_pop.params)\n",
        "print(\"\\nP-values:\\n\", res_whole_pop.pvalues)\n",
        "\n",
        "#water_temp = df[\"Water Temp (?C)\"]\n",
        "#air_temp = df[\"Air Temp (?F)\"]\n",
        "#\n",
        "#slope_complete1, intercept_complete1, r_complete1, p_complete1, std_err_complete1 = stats.linregress(water_temp, air_temp)\n",
        "#\n",
        "#def func(x):\n",
        "#  return slope_complete1 * x + intercept_complete1\n",
        "#\n",
        "#model = list(map(func, water_temp))\n",
        "#\n",
        "#plt.scatter(water_temp, air_temp)\n",
        "#plt.plot(water_temp, model)\n",
        "#plt.show()\n",
        "#\n",
        "#print(\"Slope =\", slope_complete1)\n",
        "#print(\"Intercept =\", intercept_complete1)\n",
        "#print(\"R value =\", r_complete1)\n",
        "#print(\"p-value =\", p_complete1)\n",
        "#print(\"Standard Error =\", std_err_complete1)"
      ]
    },
    {
      "cell_type": "markdown",
      "metadata": {
        "id": "e14ibxF7hvZV"
      },
      "source": [
        "## Question 8: Repeat steps 1-7 with another auxiliary variable."
      ]
    },
    {
      "cell_type": "markdown",
      "metadata": {
        "id": "YrTdOg7liDD_"
      },
      "source": [
        "## Question 8a: Choose an auxiliary variable x that should be related to your variable of interest y. Take a SRS of size n (the same size as in Report 2)."
      ]
    },
    {
      "cell_type": "code",
      "execution_count": null,
      "metadata": {
        "colab": {
          "base_uri": "https://localhost:8080/"
        },
        "id": "4Nk5fG8OiEtz",
        "outputId": "ddf4951e-7067-43c2-aa19-782da754a623"
      },
      "outputs": [
        {
          "output_type": "stream",
          "name": "stdout",
          "text": [
            "1044    11.0\n",
            "2265    25.0\n",
            "1928    18.0\n",
            "226     11.5\n",
            "2272    25.0\n",
            "        ... \n",
            "261      8.0\n",
            "480     12.0\n",
            "2333    12.0\n",
            "10      17.5\n",
            "102     11.0\n",
            "Name: Water Temp (?C), Length: 85, dtype: float64\n",
            "1044     7.20\n",
            "2265     6.90\n",
            "1928     6.80\n",
            "226      9.90\n",
            "2272     4.20\n",
            "        ...  \n",
            "261     11.80\n",
            "480      9.75\n",
            "2333    10.00\n",
            "10       8.80\n",
            "102      9.95\n",
            "Name: Dissolved Oxygen (mg/L), Length: 85, dtype: float64\n"
          ]
        }
      ],
      "source": [
        "# Auxilary Variable chosen: Dissolved Oxygen (standard units)\n",
        "\n",
        "np.random.seed(42)\n",
        "\n",
        "population = np.arange(0, N)\n",
        "\n",
        "sample = np.random.choice(population, size=n, replace=False)\n",
        "\n",
        "# Performing random sampling (without replacement) for Water Temp\n",
        "sample_water_temp = df[\"Water Temp (?C)\"].iloc[sample]\n",
        "\n",
        "\n",
        "# Performing random sampling (without replacement) for Dissolved Oxygen (mg/L)\n",
        "sample_dissolved_oxygen = df[\"Dissolved Oxygen (mg/L)\"].iloc[sample]\n",
        "\n",
        "print(sample_water_temp)\n",
        "print(sample_dissolved_oxygen)"
      ]
    },
    {
      "cell_type": "markdown",
      "metadata": {
        "id": "eP7OiRfviRyC"
      },
      "source": [
        "## Question 8b: Perform a diagnostic analysis to determine if x and y have a linear relationship based on the sample data. Do regression analysis y ∼ x."
      ]
    },
    {
      "cell_type": "code",
      "execution_count": null,
      "metadata": {
        "colab": {
          "base_uri": "https://localhost:8080/"
        },
        "id": "ZZgs6LnKyaFz",
        "outputId": "bb617469-da86-445f-cda2-339d17b1cf51"
      },
      "outputs": [
        {
          "output_type": "stream",
          "name": "stdout",
          "text": [
            "Coefficients:\n",
            " Intercept          24.172451\n",
            "DissolvedOxygen    -1.147271\n",
            "dtype: float64\n",
            "\n",
            "P-values:\n",
            " Intercept          2.423520e-23\n",
            "DissolvedOxygen    2.048075e-07\n",
            "dtype: float64\n"
          ]
        }
      ],
      "source": [
        "#This is franks correct code\n",
        "data_thing = pd.DataFrame({\n",
        "    \"WaterTemp\": sample_water_temp,\n",
        "    \"DissolvedOxygen\": sample_dissolved_oxygen\n",
        "})\n",
        "res = smf.ols(\"WaterTemp ~ DissolvedOxygen\", data = data_thing).fit()\n",
        "res.summary()\n",
        "print(\"Coefficients:\\n\", res.params)\n",
        "print(\"\\nP-values:\\n\", res.pvalues)\n"
      ]
    },
    {
      "cell_type": "code",
      "execution_count": null,
      "metadata": {
        "colab": {
          "base_uri": "https://localhost:8080/",
          "height": 517
        },
        "id": "dSoaUlwpiVAL",
        "outputId": "86377a26-9861-44fd-8a9a-3f146eb7f2c9"
      },
      "outputs": [
        {
          "output_type": "display_data",
          "data": {
            "text/plain": [
              "<Figure size 640x480 with 1 Axes>"
            ],
            "image/png": "[encoded data removed]"
          },
          "metadata": {}
        },
        {
          "output_type": "stream",
          "name": "stdout",
          "text": [
            "Slope = -1.1472709817727709\n",
            "Intercept = 24.17245054429617\n",
            "R value = -0.5281645375243594\n",
            "p-value = 2.04807465031122e-07\n",
            "Standard Error = 0.20245945932932727\n"
          ]
        }
      ],
      "source": [
        "slope_sample2, intercept_sample2, r_sample2, p_sample2, std_err_sample2 = stats.linregress(sample_dissolved_oxygen, sample_water_temp)\n",
        "\n",
        "def func(x):\n",
        "  return slope_sample2 * x + intercept_sample2\n",
        "\n",
        "model = list(map(func, sample_water_temp))\n",
        "\n",
        "plt.scatter(sample_water_temp, sample_dissolved_oxygen)\n",
        "plt.plot(sample_water_temp, model)\n",
        "plt.show()\n",
        "\n",
        "print(\"Slope =\", slope_sample2)\n",
        "print(\"Intercept =\", intercept_sample2)\n",
        "print(\"R value =\", r_sample2)\n",
        "print(\"p-value =\", p_sample2)\n",
        "print(\"Standard Error =\", std_err_sample2)"
      ]
    },
    {
      "cell_type": "code",
      "execution_count": null,
      "metadata": {
        "colab": {
          "base_uri": "https://localhost:8080/"
        },
        "id": "URUGchgRwken",
        "outputId": "d767be6f-5e80-4617-dd15-2b4cdf261ef2"
      },
      "outputs": [
        {
          "output_type": "stream",
          "name": "stdout",
          "text": [
            "                            OLS Regression Results                            \n",
            "==============================================================================\n",
            "Dep. Variable:        Water Temp (?C)   R-squared:                       0.279\n",
            "Model:                            OLS   Adj. R-squared:                  0.270\n",
            "Method:                 Least Squares   F-statistic:                     32.11\n",
            "Date:                Mon, 09 Dec 2024   Prob (F-statistic):           2.05e-07\n",
            "Time:                        06:13:39   Log-Likelihood:                -256.41\n",
            "No. Observations:                  85   AIC:                             516.8\n",
            "Df Residuals:                      83   BIC:                             521.7\n",
            "Df Model:                           1                                         \n",
            "Covariance Type:            nonrobust                                         \n",
            "===========================================================================================\n",
            "                              coef    std err          t      P>|t|      [0.025      0.975]\n",
            "-------------------------------------------------------------------------------------------\n",
            "const                      24.1725      1.742     13.879      0.000      20.708      27.636\n",
            "Dissolved Oxygen (mg/L)    -1.1473      0.202     -5.667      0.000      -1.550      -0.745\n",
            "==============================================================================\n",
            "Omnibus:                        0.593   Durbin-Watson:                   2.201\n",
            "Prob(Omnibus):                  0.743   Jarque-Bera (JB):                0.705\n",
            "Skew:                          -0.180   Prob(JB):                        0.703\n",
            "Kurtosis:                       2.737   Cond. No.                         28.0\n",
            "==============================================================================\n",
            "\n",
            "Notes:\n",
            "[1] Standard Errors assume that the covariance matrix of the errors is correctly specified.\n"
          ]
        }
      ],
      "source": [
        "X = sample_dissolved_oxygen\n",
        "X = sm.add_constant(X)\n",
        "\n",
        "y = sample_water_temp\n",
        "\n",
        "model = sm.OLS(y, X).fit()\n",
        "\n",
        "print(model.summary())"
      ]
    },
    {
      "cell_type": "markdown",
      "metadata": {
        "id": "PKoENxpEipt4"
      },
      "source": [
        "## Question 8c: Based on the results of the regression analysis, make a conclusion about the appropriateness of using ratio and regression estimators. (TEXT ANSWER ONLY)"
      ]
    },
    {
      "cell_type": "markdown",
      "metadata": {
        "id": "F3qR2EBWmWLR"
      },
      "source": [
        "## Question 8d: Estimate your parameter of interest by Ratio estimator. Estimate its variance and give a confidence interval of α level chosen in Report 2"
      ]
    },
    {
      "cell_type": "code",
      "execution_count": null,
      "metadata": {
        "colab": {
          "base_uri": "https://localhost:8080/"
        },
        "id": "cTiMD5UVmV4K",
        "outputId": "0ffb67cc-89eb-4e4c-bf66-cca00f6ab830"
      },
      "outputs": [
        {
          "output_type": "stream",
          "name": "stdout",
          "text": [
            "1.8097952017040142\n",
            "mu_x = 8.145155642023346\n",
            "Ratio estimator = 14.741\n"
          ]
        }
      ],
      "source": [
        "# Ratio estimator: mu_hat_r = r * mu_x\n",
        "# mu_x = T_x / N\n",
        "\n",
        "print((np.mean(sample_water_temp))/(np.mean(sample_dissolved_oxygen))) #FRANK CHANGED\n",
        "ratio_estimator = ((np.mean(sample_water_temp))/(np.mean(sample_dissolved_oxygen))) #FRANK CHANGED\n",
        "T_x = sum(df[\"Dissolved Oxygen (mg/L)\"])\n",
        "mu_x = T_x / N\n",
        "\n",
        "print(\"mu_x =\", mu_x)\n",
        "\n",
        "mu_hat_r = ratio_estimator * mu_x #Trust in the r_sample1 value being correctly calculated from the sample\n",
        "\n",
        "print(\"Ratio estimator =\", round(mu_hat_r, 3))"
      ]
    },
    {
      "cell_type": "code",
      "execution_count": null,
      "metadata": {
        "colab": {
          "base_uri": "https://localhost:8080/"
        },
        "id": "rEIFF8KsmfOM",
        "outputId": "3b8ac628-a1d9-4b5c-b7c9-fe43df58020b"
      },
      "outputs": [
        {
          "output_type": "stream",
          "name": "stdout",
          "text": [
            "Estimation of Variance of Ratio Esitmator = 0.856\n"
          ]
        }
      ],
      "source": [
        "# Estimation of Variance of Ratio Esitmator: var_hat_mu_hat_r = ((N-n)/N) * (sr_squared/n)\n",
        "\n",
        "z = sample_water_temp - ratio_estimator * sample_dissolved_oxygen\n",
        "\n",
        "sr_squared = np.var(z)\n",
        "\n",
        "var_hat_mu_hat_r2 = ((N-n)/N)*(sr_squared/n)\n",
        "\n",
        "print(\"Estimation of Variance of Ratio Esitmator =\", round(var_hat_mu_hat_r2, 3))"
      ]
    },
    {
      "cell_type": "code",
      "execution_count": null,
      "metadata": {
        "colab": {
          "base_uri": "https://localhost:8080/"
        },
        "id": "IPmVW6IkqS6T",
        "outputId": "15f60e58-f6f8-4f06-e8ad-6041bafccd8c"
      },
      "outputs": [
        {
          "output_type": "stream",
          "name": "stdout",
          "text": [
            "Confidence Inteval (for alpha = 0.05) = (12.901, 16.581)\n"
          ]
        }
      ],
      "source": [
        "# Confidence Inteval = (mu_hat_r - t_value(sqrt(var_hat_mu_hat_r), mu_hat_r + t_value(sqrt(var_hat_mu_hat_r))\n",
        "alpha = 0.05\n",
        "\n",
        "\n",
        "t_critical_value = t.ppf(1 - alpha / 2, df= n - 1)\n",
        "\n",
        "\n",
        "lower_bound = mu_hat_r - t_critical_value * (math.sqrt(var_hat_mu_hat_r2))\n",
        "\n",
        "\n",
        "upper_bound = mu_hat_r + t_critical_value * (math.sqrt(var_hat_mu_hat_r2))\n",
        "\n",
        "\n",
        "print(\"Confidence Inteval (for alpha = 0.05) =\", (round(lower_bound, 3), round(upper_bound, 3)))"
      ]
    },
    {
      "cell_type": "markdown",
      "metadata": {
        "id": "zjl8QrFZiuuE"
      },
      "source": [
        "## Question 8e: Estimate your parameter of interest by Regression estimator. Estimate its variance and give a confidence interval of α level chosen in Report 2."
      ]
    },
    {
      "cell_type": "code",
      "execution_count": null,
      "metadata": {
        "colab": {
          "base_uri": "https://localhost:8080/"
        },
        "id": "wUJ2votAjdMg",
        "outputId": "b7caaf4a-ceea-404b-dddf-16fea015a021"
      },
      "outputs": [
        {
          "output_type": "stream",
          "name": "stdout",
          "text": [
            "Regression estimator = 14.828\n"
          ]
        }
      ],
      "source": [
        "# Regression estimator: mu_hat_l = a + (b * mu_x)\n",
        "# mu_x = T_x / N\n",
        "# numerator = np.sum((sample_water_temp - x_bar) * (sample_air_temp - y_bar))\n",
        "# denominator = np.sum((sample_water_temp - x_bar) ** 2)\n",
        "# b = numerator / denominator\n",
        "# a = y_bar - (b * x_bar)\n",
        "\n",
        "\n",
        "T_x = sum(df[\"Dissolved Oxygen (mg/L)\"])\n",
        "mu_x = T_x / N\n",
        "\n",
        "x_bar = np.mean(sample_dissolved_oxygen)\n",
        "y_bar = np.mean(sample_water_temp)\n",
        "\n",
        "# ASSUME LENGTH X = LENGTH Y\n",
        "b = sum((sample_dissolved_oxygen - x_bar) * (sample_water_temp - y_bar))\n",
        "b /= sum((sample_dissolved_oxygen - x_bar) ** 2)\n",
        "a = y_bar - (b * x_bar)\n",
        "\n",
        "mu_hat_l = a + (b * mu_x)\n",
        "\n",
        "print(\"Regression estimator =\", round(mu_hat_l, 3))"
      ]
    },
    {
      "cell_type": "code",
      "execution_count": null,
      "metadata": {
        "colab": {
          "base_uri": "https://localhost:8080/"
        },
        "id": "pGapGuZ5jlEF",
        "outputId": "dd7d7adc-d651-412d-93a1-b6341b64af7d"
      },
      "outputs": [
        {
          "output_type": "stream",
          "name": "stdout",
          "text": [
            "Estimation of Variance of Regression Esitmator = 0.246\n"
          ]
        }
      ],
      "source": [
        "# Estimation of Variance of Regression Esitmator: var_hat_mu_hat_l = ((N - n) / (N * n * (n - 2))) * np.sum((y - a - b * x) ** 2)\n",
        "\n",
        "var_hat_mu_hat_l = ((N - n) / (N * n * (n - 2))) * np.sum((sample_water_temp - a - b * sample_dissolved_oxygen) ** 2)\n",
        "\n",
        "print(\"Estimation of Variance of Regression Esitmator =\", round(var_hat_mu_hat_l, 3))"
      ]
    },
    {
      "cell_type": "code",
      "execution_count": null,
      "metadata": {
        "colab": {
          "base_uri": "https://localhost:8080/"
        },
        "id": "C_Zj3vzcjoZy",
        "outputId": "75366e00-daeb-4d96-fb1e-57843d1b7ece"
      },
      "outputs": [
        {
          "output_type": "stream",
          "name": "stdout",
          "text": [
            "Confidence Inteval (for alpha = 0.05) = (13.842, 15.813)\n"
          ]
        }
      ],
      "source": [
        "# Confidence Inteval = (mu_hat_r - t_value(sqrt(var_hat_mu_hat_l), mu_hat_r + t_value(sqrt(var_hat_mu_hat_l))\n",
        "alpha = 0.05\n",
        "\n",
        "t_critical_value = t.ppf(1 - alpha / 2, df= n - 2)\n",
        "\n",
        "lower_bound = mu_hat_l - t_critical_value * (math.sqrt(var_hat_mu_hat_l))\n",
        "\n",
        "upper_bound = mu_hat_l + t_critical_value * (math.sqrt(var_hat_mu_hat_l))\n",
        "\n",
        "print(\"Confidence Inteval (for alpha = 0.05) =\", (round(lower_bound, 3), round(upper_bound, 3)))"
      ]
    },
    {
      "cell_type": "markdown",
      "metadata": {
        "id": "wDSWMFDtjsQX"
      },
      "source": [
        "## Question 8f: Choose the best estimator of your parameter based on estimated variance. (TEXT ANSWER ONLY)"
      ]
    },
    {
      "cell_type": "markdown",
      "metadata": {
        "id": "w-fnCaxRjtQc"
      },
      "source": [
        "## Question 8g: Calculate the true regression coefficients. Namely, do regression y ∼ x using whole data set (population). Is your conclusion in the part 3 changed? How does it change?"
      ]
    },
    {
      "cell_type": "code",
      "execution_count": null,
      "metadata": {
        "colab": {
          "base_uri": "https://localhost:8080/"
        },
        "id": "nu_ebQSQ2qVP",
        "outputId": "95ade36a-f7fb-4070-8eee-d91825d6b6a5"
      },
      "outputs": [
        {
          "output_type": "stream",
          "name": "stdout",
          "text": [
            "Coefficients:\n",
            " Intercept   -11.374678\n",
            "AirTemp       0.449755\n",
            "dtype: float64\n",
            "\n",
            "P-values:\n",
            " Intercept     8.088877e-69\n",
            "AirTemp      1.070710e-188\n",
            "dtype: float64\n"
          ]
        }
      ],
      "source": [
        "#New correct Code\n",
        "whole_pops = pd.DataFrame({\n",
        "    \"WaterTemp\": df[\"Water Temp (?C)\"].to_numpy(),\n",
        "    \"DissolvedOxygen\": df[\"Dissolved Oxygen (mg/L)\"].to_numpy()\n",
        "})\n",
        "res_whole_pops = smf.ols(\"WaterTemp ~ DissolvedOxygen\", data = whole_pops).fit()\n",
        "res_whole_pops.summary()\n",
        "\n",
        "print(\"Coefficients:\\n\", res_whole_pop.params)\n",
        "print(\"\\nP-values:\\n\", res_whole_pop.pvalues)"
      ]
    },
    {
      "cell_type": "code",
      "execution_count": null,
      "metadata": {
        "colab": {
          "base_uri": "https://localhost:8080/",
          "height": 517
        },
        "id": "FMfiLvkAnAYo",
        "outputId": "7eafb1f2-12ea-42c0-a072-ffdedd686b7f"
      },
      "outputs": [
        {
          "output_type": "display_data",
          "data": {
            "text/plain": [
              "<Figure size 640x480 with 1 Axes>"
            ],
            "image/png": "[encoded data removed]"
          },
          "metadata": {}
        },
        {
          "output_type": "stream",
          "name": "stdout",
          "text": [
            "Slope = -0.18652566716971444\n",
            "Intercept = 10.782537853202344\n",
            "R value = -0.48479018084345243\n",
            "p-value = 1.183125866799803e-31\n",
            "Standard Error = 0.014872172560039325\n"
          ]
        }
      ],
      "source": [
        "water_temp = df[\"Water Temp (?C)\"]\n",
        "dissolved_oxygen = df[\"Dissolved Oxygen (mg/L)\"]\n",
        "\n",
        "slope_complete2, intercept_complete2, r_complete2, p_complete2, std_err_complete2 = stats.linregress(water_temp, dissolved_oxygen)\n",
        "\n",
        "def func(x):\n",
        "  return slope_complete2 * x + intercept_complete2\n",
        "\n",
        "model = list(map(func, water_temp))\n",
        "\n",
        "plt.scatter(water_temp, dissolved_oxygen)\n",
        "plt.plot(water_temp, model)\n",
        "plt.show()\n",
        "\n",
        "print(\"Slope =\", slope_complete2)\n",
        "print(\"Intercept =\", intercept_complete2)\n",
        "print(\"R value =\", r_complete2)\n",
        "print(\"p-value =\", p_complete2)\n",
        "print(\"Standard Error =\", std_err_complete2)"
      ]
    },
    {
      "cell_type": "markdown",
      "metadata": {
        "id": "oKmuJtzot5EX"
      },
      "source": [
        "# Report 5"
      ]
    },
    {
      "cell_type": "code",
      "execution_count": null,
      "metadata": {
        "id": "EizXgtaQuNJx"
      },
      "outputs": [],
      "source": [
        "# True Parameter\n",
        "import random\n",
        "import statistics\n",
        "\n",
        "mu = 14.227\n",
        "\n",
        "# Population Size\n",
        "N = 514\n",
        "\n",
        "# Total Sample Size\n",
        "n = 85"
      ]
    },
    {
      "cell_type": "markdown",
      "metadata": {
        "id": "YYH3sgpszy0J"
      },
      "source": [
        "## Question 1: Divide your population into strata with unequal sizes (Nh’s) using any variable besides the variable of interest. It can be a categorical variable as well\n"
      ]
    },
    {
      "cell_type": "code",
      "execution_count": null,
      "metadata": {
        "id": "8YpVxq1Wyb4i",
        "colab": {
          "base_uri": "https://localhost:8080/"
        },
        "outputId": "9d4be17e-6282-4c55-8068-e5f843a2a404"
      },
      "outputs": [
        {
          "output_type": "stream",
          "name": "stdout",
          "text": [
            "max:  28.0\n",
            "min:  1.3\n"
          ]
        }
      ],
      "source": [
        "# Random sampling\n",
        "np.random.seed(419)\n",
        "\n",
        "# Get the data\n",
        "full_list = list(range(0, N))\n",
        "full_df = df['Air Temp (?F)'].iloc[full_list].copy()\n",
        "\n",
        "\n",
        "ful = df[\"Water Temp (?C)\"].iloc[full_list].copy()\n",
        "\n",
        "maximum = -100\n",
        "minimum = 90\n",
        "for i, value in enumerate(ful):\n",
        "  if value < minimum:\n",
        "    minimum = value\n",
        "  if value > maximum:\n",
        "    maximum = value\n",
        "print(\"max: \", maximum)\n",
        "print(\"min: \", minimum)\n",
        "#print(ful)\n"
      ]
    },
    {
      "cell_type": "code",
      "execution_count": null,
      "metadata": {
        "id": "SLAojzw8t7SM",
        "colab": {
          "base_uri": "https://localhost:8080/"
        },
        "outputId": "86dc9d9f-c627-4d2a-fc44-f9ee3a788e36"
      },
      "outputs": [
        {
          "output_type": "stream",
          "name": "stdout",
          "text": [
            "First way of stratifying the population: \n",
            "I used 5 groups. The Nh's are below\n",
            "N_ 1  :  46\n",
            "N_ 2  :  120\n",
            "N_ 3  :  143\n",
            "N_ 4  :  109\n",
            "N_ 5  :  96\n",
            "Second way of stratifying the population: \n",
            "I used 4 groups. The Nh's are below\n",
            "N_ 1  :  46\n",
            "N_ 2  :  181\n",
            "N_ 3  :  191\n",
            "N_ 4  :  96\n",
            "Third way of stratifying the population: \n",
            "I used 3 groups. The Nh's are below\n",
            "N_ 1  :  46\n",
            "N_ 2  :  277\n",
            "N_ 3  :  191\n"
          ]
        }
      ],
      "source": [
        "# Stratify the sample using Air Temperature\n",
        "\n",
        "list_1 = list()\n",
        "list_2 = list()\n",
        "list_3 = list()\n",
        "list_4 = list()\n",
        "list_5 = list()\n",
        "\n",
        "for i, value in enumerate(full_df):\n",
        "    original_index = df.index[full_list[i]]  # Get the original index\n",
        "    #print(f\"Original Index: {original_index}, Value: {value}\")\n",
        "    if value < 40 :\n",
        "    #Append list_1\n",
        "      list_1.append(original_index)\n",
        "    elif value >= 40 and value < 50 :\n",
        "    #Append list_2\n",
        "      list_2.append(original_index)\n",
        "    elif value >= 50 and value < 60 :\n",
        "    #Append list_3\n",
        "      list_3.append(original_index)\n",
        "    elif value >= 60 and value < 70 :\n",
        "    #Append list_4\n",
        "      list_4.append(original_index)\n",
        "    else:\n",
        "    #Append list_5\n",
        "      list_5.append(original_index)\n",
        "\n",
        "#We will acess stuff in the lists this way\n",
        "#value = df.loc[original_index, 'Water Temp (?C)']\n",
        "list_of_lists_1 = list()\n",
        "\n",
        "to_add = list()\n",
        "for x in list_1:\n",
        "  value = df.loc[x, 'Water Temp (?C)']\n",
        "  to_add.append(value)\n",
        "list_of_lists_1.append(to_add)\n",
        "to_add = list()\n",
        "for x in list_2:\n",
        "  value = df.loc[x, 'Water Temp (?C)']\n",
        "  to_add.append(value)\n",
        "list_of_lists_1.append(to_add)\n",
        "to_add = list()\n",
        "for x in list_3:\n",
        "  value = df.loc[x, 'Water Temp (?C)']\n",
        "  to_add.append(value)\n",
        "list_of_lists_1.append(to_add)\n",
        "to_add = list()\n",
        "for x in list_4:\n",
        "  value = df.loc[x, 'Water Temp (?C)']\n",
        "  to_add.append(value)\n",
        "list_of_lists_1.append(to_add)\n",
        "to_add = list()\n",
        "for x in list_5:\n",
        "  value = df.loc[x, 'Water Temp (?C)']\n",
        "  to_add.append(value)\n",
        "list_of_lists_1.append(to_add)\n",
        "print(\"First way of stratifying the population: \")\n",
        "print(\"I used 5 groups. The Nh's are below\")\n",
        "counter = 1\n",
        "cou = 0\n",
        "for g in list_of_lists_1:\n",
        "  print(\"N_\", counter, \" : \", len(g))\n",
        "  counter  = counter + 1\n",
        "\n",
        "#Population Stratification 2\n",
        "\n",
        "list_1_2 = list()\n",
        "list_2_2 = list()\n",
        "list_3_2 = list()\n",
        "list_4_2 = list()\n",
        "for i, value in enumerate(full_df):\n",
        "    original_index = df.index[full_list[i]]  # Get the original index\n",
        "    #print(f\"Original Index: {original_index}, Value: {value}\")\n",
        "    if value < 40 :\n",
        "      list_1_2.append(original_index)\n",
        "    elif value >= 40 and value < 55 :\n",
        "      list_2_2.append(original_index)\n",
        "    elif value >= 55 and value < 70 :\n",
        "      list_3_2.append(original_index)\n",
        "    else:\n",
        "      list_4_2.append(original_index)\n",
        "\n",
        "list_of_lists_2 = list()\n",
        "\n",
        "to_add = list()\n",
        "for x in list_1_2:\n",
        "  value = df.loc[x, 'Water Temp (?C)']\n",
        "  to_add.append(value)\n",
        "list_of_lists_2.append(to_add)\n",
        "to_add = list()\n",
        "for x in list_2_2:\n",
        "  value = df.loc[x, 'Water Temp (?C)']\n",
        "  to_add.append(value)\n",
        "list_of_lists_2.append(to_add)\n",
        "to_add = list()\n",
        "for x in list_3_2:\n",
        "  value = df.loc[x, 'Water Temp (?C)']\n",
        "  to_add.append(value)\n",
        "list_of_lists_2.append(to_add)\n",
        "to_add = list()\n",
        "for x in list_4_2:\n",
        "  value = df.loc[x, 'Water Temp (?C)']\n",
        "  to_add.append(value)\n",
        "list_of_lists_2.append(to_add)\n",
        "\n",
        "print(\"Second way of stratifying the population: \")\n",
        "print(\"I used 4 groups. The Nh's are below\")\n",
        "counter = 1\n",
        "for g in list_of_lists_2:\n",
        "  print(\"N_\", counter, \" : \", len(g))\n",
        "  counter  = counter + 1\n",
        "#Population Stratification 3\n",
        "\n",
        "list_1_3 = list()\n",
        "list_2_3 = list()\n",
        "list_3_3 = list()\n",
        "for i, value in enumerate(full_df):\n",
        "    original_index = df.index[full_list[i]]  # Get the original index\n",
        "    #print(f\"Original Index: {original_index}, Value: {value}\")\n",
        "    if value < 40 :\n",
        "      list_1_3.append(original_index)\n",
        "    elif value >= 45 and value < 65 :\n",
        "      list_2_3.append(original_index)\n",
        "    else:\n",
        "      list_3_3.append(original_index)\n",
        "\n",
        "list_of_lists_3 = list()\n",
        "\n",
        "to_add = list()\n",
        "for x in list_1_3:\n",
        "  value = df.loc[x, 'Water Temp (?C)']\n",
        "  to_add.append(value)\n",
        "list_of_lists_3.append(to_add)\n",
        "to_add = list()\n",
        "for x in list_2_3:\n",
        "  value = df.loc[x, 'Water Temp (?C)']\n",
        "  to_add.append(value)\n",
        "list_of_lists_3.append(to_add)\n",
        "to_add = list()\n",
        "for x in list_3_3:\n",
        "  value = df.loc[x, 'Water Temp (?C)']\n",
        "  to_add.append(value)\n",
        "list_of_lists_3.append(to_add)\n",
        "\n",
        "\n",
        "print(\"Third way of stratifying the population: \")\n",
        "print(\"I used 3 groups. The Nh's are below\")\n",
        "counter = 1\n",
        "for g in list_of_lists_3:\n",
        "  print(\"N_\",counter, \" : \", len(g))\n",
        "  counter  = counter + 1"
      ]
    },
    {
      "cell_type": "code",
      "source": [],
      "metadata": {
        "id": "CLtPmnRkcMNQ"
      },
      "execution_count": null,
      "outputs": []
    },
    {
      "cell_type": "markdown",
      "metadata": {
        "id": "ajG7XW3N30oZ"
      },
      "source": [
        "## Question 2: Calculate ∆ for at least three different ways of stratifying your population"
      ]
    },
    {
      "cell_type": "code",
      "execution_count": null,
      "metadata": {
        "id": "JA2W7VtZw20a",
        "colab": {
          "base_uri": "https://localhost:8080/"
        },
        "outputId": "e6d43807-5b28-42ee-cac1-7d30897a1595"
      },
      "outputs": [
        {
          "output_type": "stream",
          "name": "stdout",
          "text": [
            "Three deltas:  79405.14907503518 78438.49403053077 70536.31736464282\n"
          ]
        }
      ],
      "source": [
        "#Calculate ∆ for the first method of stratification\n",
        "\n",
        "#Obtaining full population\n",
        "\n",
        "fulll = list()\n",
        "to__add = list()\n",
        "for i, value in enumerate(full_df):\n",
        "  original_index = df.index[full_list[i]]  # Get the original index\n",
        "  to__add.append(value)\n",
        "fulll.append(to__add)\n",
        "\n",
        "full_var = 0\n",
        "for lis in fulll:\n",
        "  delta_toadd = 0\n",
        "  for r in lis:\n",
        "    delta_toadd = delta_toadd + ((r - np.mean(lis))**2)\n",
        "  full_var = full_var + (delta_toadd)\n",
        "\n",
        "delta_1 = full_var\n",
        "for lis in list_of_lists_1:\n",
        "  delta_toadd = 0\n",
        "  for r in lis:\n",
        "    delta_toadd = delta_toadd + ((r - np.mean(lis))**2)\n",
        "  delta_1 = delta_1 - (delta_toadd)\n",
        "\n",
        "delta_2 = full_var\n",
        "for lis in list_of_lists_2:\n",
        "  delta_toadd = 0\n",
        "  for r in lis:\n",
        "    delta_toadd = delta_toadd + ((r - np.mean(lis))**2)\n",
        "  delta_2 = delta_2 - (delta_toadd)\n",
        "\n",
        "delta_3 = full_var\n",
        "for lis in list_of_lists_3:\n",
        "  delta_toadd = 0\n",
        "  for r in lis:\n",
        "    delta_toadd = delta_toadd + ((r - np.mean(lis))**2)\n",
        "  delta_3 = delta_3 - (delta_toadd)\n",
        "\n",
        "print(\"Three deltas: \", delta_1, delta_2, delta_3)"
      ]
    },
    {
      "cell_type": "code",
      "source": [
        "\n"
      ],
      "metadata": {
        "id": "RM8fD1HrmMGo"
      },
      "execution_count": null,
      "outputs": []
    },
    {
      "cell_type": "markdown",
      "metadata": {
        "id": "2LfIjLy_35Xa"
      },
      "source": [
        "## Question 3: Take stratified random sample with size n (chosen in Report 2) with equal allocation. (nh = nL)"
      ]
    },
    {
      "cell_type": "code",
      "execution_count": null,
      "metadata": {
        "id": "9xEHFuNuzF0z",
        "colab": {
          "base_uri": "https://localhost:8080/",
          "height": 127
        },
        "outputId": "56af224e-0ac8-4b00-ba55-83f05c08a6a5"
      },
      "outputs": [
        {
          "output_type": "stream",
          "name": "stdout",
          "text": [
            "Stratified random sampling with equal allocation\n",
            "Equal allocation: n_1 =  17 n_2 =  17 n_3 =  17 n_4 =  17 n_5 =  17\n"
          ]
        },
        {
          "output_type": "display_data",
          "data": {
            "text/plain": [
              "<IPython.core.display.Math object>"
            ],
            "text/latex": "$\\displaystyle {\\hat{\\mu_{st}}} = 14.06$"
          },
          "metadata": {}
        },
        {
          "output_type": "display_data",
          "data": {
            "text/plain": [
              "<IPython.core.display.Math object>"
            ],
            "text/latex": "$\\displaystyle {\\hat{var}}({\\hat{\\mu_{st}}}) = 0.118$"
          },
          "metadata": {}
        },
        {
          "output_type": "stream",
          "name": "stdout",
          "text": [
            "Degrees of Freedom:  46.55628425778407\n",
            "95% CI: {13.368} {14.751}\n"
          ]
        }
      ],
      "source": [
        "# Parameters based on Report 2\n",
        "N = 514\n",
        "n = 85\n",
        "alpha = 0.05\n",
        "\n",
        "#Stratified random sampling with equal allocation\n",
        "# Since we are using method one for stratification L  = 5\n",
        "L =  5\n",
        "n_all = n // L\n",
        "list_of_nhs = [n_all, n_all, n_all, n_all, n_all]\n",
        "print(\"Stratified random sampling with equal allocation\")\n",
        "print(\"Equal allocation: n_1 = \", n_all, \"n_2 = \", n_all, \"n_3 = \", n_all, \"n_4 = \", n_all, \"n_5 = \", n_all)\n",
        "\n",
        "#Generate the indices of the random sample\n",
        "random_indices = list()\n",
        "for g in range(0, 5):\n",
        "  gg = random.sample(list(range(0, len(list_of_lists_1[g]))), list_of_nhs[g])\n",
        "  random_indices.append(gg)\n",
        "y_bar_h = list()\n",
        "for g in range(0, 5):\n",
        "  y_bar = 0\n",
        "  for x in random_indices[g]:\n",
        "    y_bar = y_bar + list_of_lists_1[g][x]\n",
        "  y_bar = y_bar / list_of_nhs[g]\n",
        "  y_bar_h.append(y_bar)\n",
        "s_squared_h = list()\n",
        "for g in range(0, 5):\n",
        "  to_addd = 0\n",
        "  for x in random_indices[g]:\n",
        "    to_addd = to_addd + ((list_of_lists_1[g][x] - y_bar_h[g]) ** 2)\n",
        "  to_addd = to_addd / (list_of_nhs[g] - 1)\n",
        "  s_squared_h.append(to_addd)\n",
        "#Estimate the parameter of interest\n",
        "tau_hat_st = 0\n",
        "for g in range(0, 5):\n",
        "  tau_hat_st = tau_hat_st + (len(list_of_lists_1[g]))*(y_bar_h[g])\n",
        "mu_hat_st = tau_hat_st / N\n",
        "display(Math(r'{\\hat{\\mu_{st}}} = ' + str(round(mu_hat_st, 3))))\n",
        "#Estimated variance of the parameter of interest\n",
        "var_hat_tau_hat_st = 0\n",
        "for g in range(0, 5):\n",
        "  cap = (len(list_of_lists_1[g]))*(len(list_of_lists_1[g]) - list_of_nhs[g])*((s_squared_h[g])/(list_of_nhs[g]))\n",
        "  var_hat_tau_hat_st = var_hat_tau_hat_st + cap\n",
        "var_hat_mu_hat_st = var_hat_tau_hat_st / (N ** 2)\n",
        "display(Math(r'{\\hat{var}}({\\hat{\\mu_{st}}}) = ' + str(round(var_hat_mu_hat_st, 3))))\n",
        "\n",
        "#We will use Satterthwaite formula for adjusted degrees of freedom\n",
        "number_1 = 0\n",
        "number_2 = 0\n",
        "for g in range(0, 5):\n",
        "  number_1 = number_1 + (len(list_of_lists_1[g]))*(len(list_of_lists_1[g]) - list_of_nhs[g])*((s_squared_h[g])/(list_of_nhs[g]))\n",
        "  number_2 = number_2 + ((((len(list_of_lists_1[g]))*(len(list_of_lists_1[g]) - list_of_nhs[g])*((s_squared_h[g])/(list_of_nhs[g]))) ** 2) / (list_of_nhs[g] - 1))\n",
        "degrees_of_freedom = (number_1 ** 2) / number_2\n",
        "print(\"Degrees of Freedom: \", degrees_of_freedom)\n",
        "#The alpha level chosen in report 2 was 0.95\n",
        "#A 95% CI for my estimator is below\n",
        "\n",
        "# First get the t-distribution crictal value\n",
        "alpha = 0.05\n",
        "t_critical_95 = t.ppf(1 - alpha / 2, df = degrees_of_freedom)\n",
        "\n",
        "# Calculating the lower and upper bounds of the confidence interval\n",
        "lower_95_CI = round(mu_hat_st - (t_critical_95 * np.sqrt(var_hat_mu_hat_st)), 3)\n",
        "upper_95_CI = round(mu_hat_st + (t_critical_95 * np.sqrt(var_hat_mu_hat_st)), 3)\n",
        "\n",
        "print(\"95% CI:\", {lower_95_CI}, {upper_95_CI})"
      ]
    },
    {
      "cell_type": "markdown",
      "metadata": {
        "id": "b2dEj0BzCn07"
      },
      "source": [
        "## Question 4: Take stratified random sample with size n (chosen in Report 2) with proportional allocation. (nh = nL)"
      ]
    },
    {
      "cell_type": "code",
      "execution_count": null,
      "metadata": {
        "id": "hniR7nokDKgL",
        "colab": {
          "base_uri": "https://localhost:8080/",
          "height": 338
        },
        "outputId": "c963a527-31c7-49e6-d2c1-204b23f078f3"
      },
      "outputs": [
        {
          "output_type": "stream",
          "name": "stdout",
          "text": [
            "Stratified Random Sample with Proportional allocation\n",
            "The nh's are below\n",
            "n_ 1  :  8 rounded from:  7.607003891050583\n",
            "n_ 2  :  20 rounded from:  19.844357976653697\n",
            "n_ 3  :  24 rounded from:  23.647859922178988\n",
            "n_ 4  :  18 rounded from:  18.025291828793776\n",
            "n_ 5  :  16 rounded from:  15.875486381322958\n",
            "Since n_1 was rounded the most and the sum of the n_h's is 86 and is not equal to n. I manually adjust n_1 to be 7\n",
            "n_ 1  :  7\n",
            "n_ 2  :  20\n",
            "n_ 3  :  24\n",
            "n_ 4  :  18\n",
            "n_ 5  :  16\n"
          ]
        },
        {
          "output_type": "display_data",
          "data": {
            "text/plain": [
              "<IPython.core.display.Math object>"
            ],
            "text/latex": "$\\displaystyle {\\hat{\\mu_{st}}} = 13.669$"
          },
          "metadata": {}
        },
        {
          "output_type": "display_data",
          "data": {
            "text/plain": [
              "<IPython.core.display.Math object>"
            ],
            "text/latex": "$\\displaystyle {\\hat{var}}({\\hat{\\mu_{st}}}) = 0.069$"
          },
          "metadata": {}
        },
        {
          "output_type": "stream",
          "name": "stdout",
          "text": [
            "Degrees of Freedom:  69.64378403820413\n",
            "95% CI: {13.147} {14.191}\n"
          ]
        }
      ],
      "source": [
        "#Stratified Random Sample with Proportional allocation\n",
        "print(\"Stratified Random Sample with Proportional allocation\")\n",
        "print(\"The nh's are below\")\n",
        "list_of_nhs = list()\n",
        "counter = 1\n",
        "for g in list_of_lists_1:\n",
        "  top = int(round((n * len(g)) / N))\n",
        "  list_of_nhs.append(top)\n",
        "  print(\"n_\",counter, \" : \", top, \"rounded from: \", ((n * len(g)) / N))\n",
        "  counter  = counter + 1\n",
        "print(\"Since n_1 was rounded the most and the sum of the n_h's is 86 and is not equal to n. I manually adjust n_1 to be 7\")\n",
        "list_of_nhs[0] = 7\n",
        "\n",
        "counter = 1\n",
        "for g in list_of_nhs:\n",
        "  print(\"n_\",counter, \" : \", g)\n",
        "  counter  = counter + 1\n",
        "#Generate the indices of the random sample\n",
        "random_indices = list()\n",
        "for g in range(0, 5):\n",
        "  gg = random.sample(list(range(0, len(list_of_lists_1[g]))), list_of_nhs[g])\n",
        "  random_indices.append(gg)\n",
        "y_bar_h = list()\n",
        "for g in range(0, 5):\n",
        "  y_bar = 0\n",
        "  for x in random_indices[g]:\n",
        "    y_bar = y_bar + list_of_lists_1[g][x]\n",
        "  y_bar = y_bar / list_of_nhs[g]\n",
        "  y_bar_h.append(y_bar)\n",
        "s_squared_h = list()\n",
        "for g in range(0, 5):\n",
        "  to_addd = 0\n",
        "  for x in random_indices[g]:\n",
        "    to_addd = to_addd + ((list_of_lists_1[g][x] - y_bar_h[g]) ** 2)\n",
        "  to_addd = to_addd / (list_of_nhs[g] - 1)\n",
        "  s_squared_h.append(to_addd)\n",
        "#Estimate the parameter of interest\n",
        "tau_hat_st = 0\n",
        "for g in range(0, 5):\n",
        "  tau_hat_st = tau_hat_st + (len(list_of_lists_1[g]))*(y_bar_h[g])\n",
        "mu_hat_st = tau_hat_st / N\n",
        "display(Math(r'{\\hat{\\mu_{st}}} = ' + str(round(mu_hat_st, 3))))\n",
        "#Estimated variance of the parameter of interest\n",
        "var_hat_tau_hat_st = 0\n",
        "for g in range(0, 5):\n",
        "  cap = (len(list_of_lists_1[g]))*(len(list_of_lists_1[g]) - list_of_nhs[g])*((s_squared_h[g])/(list_of_nhs[g]))\n",
        "  var_hat_tau_hat_st = var_hat_tau_hat_st + cap\n",
        "var_hat_mu_hat_st = var_hat_tau_hat_st / (N ** 2)\n",
        "display(Math(r'{\\hat{var}}({\\hat{\\mu_{st}}}) = ' + str(round(var_hat_mu_hat_st, 3))))\n",
        "\n",
        "#We will use Satterthwaite formula for adjusted degrees of freedom\n",
        "number_1 = 0\n",
        "number_2 = 0\n",
        "for g in range(0, 5):\n",
        "  number_1 = number_1 + (len(list_of_lists_1[g]))*(len(list_of_lists_1[g]) - list_of_nhs[g])*((s_squared_h[g])/(list_of_nhs[g]))\n",
        "  number_2 = number_2 + ((((len(list_of_lists_1[g]))*(len(list_of_lists_1[g]) - list_of_nhs[g])*((s_squared_h[g])/(list_of_nhs[g]))) ** 2) / (list_of_nhs[g] - 1))\n",
        "degrees_of_freedom = (number_1 ** 2) / number_2\n",
        "print(\"Degrees of Freedom: \", degrees_of_freedom)\n",
        "#The alpha level chosen in report 2 was 0.95\n",
        "#A 95% CI for my estimator is below\n",
        "\n",
        "# First get the t-distribution crictal value\n",
        "alpha = 0.05\n",
        "t_critical_95 = t.ppf(1 - alpha / 2, df = degrees_of_freedom)\n",
        "\n",
        "# Calculating the lower and upper bounds of the confidence interval\n",
        "lower_95_CI = round(mu_hat_st - (t_critical_95 * np.sqrt(var_hat_mu_hat_st)), 3)\n",
        "upper_95_CI = round(mu_hat_st + (t_critical_95 * np.sqrt(var_hat_mu_hat_st)), 3)\n",
        "\n",
        "print(\"95% CI:\", {lower_95_CI}, {upper_95_CI})"
      ]
    },
    {
      "cell_type": "markdown",
      "metadata": {
        "id": "JbWHjPoNFINv"
      },
      "source": [
        "## Question 5: Take stratified random sample with size n (chosen in Report 2) with Optimum allocation. (nh = nL)"
      ]
    },
    {
      "cell_type": "code",
      "execution_count": null,
      "metadata": {
        "id": "TSFGWnlHFOI8",
        "colab": {
          "base_uri": "https://localhost:8080/",
          "height": 214
        },
        "outputId": "5fcb8ec9-c183-4904-e1ea-292957160026"
      },
      "outputs": [
        {
          "output_type": "stream",
          "name": "stdout",
          "text": [
            "Stratified Random Sample with Optimum allocation\n",
            "The nh's are below\n",
            "n_ 1  :  9\n",
            "n_ 2  :  19\n",
            "n_ 3  :  24\n",
            "n_ 4  :  20\n",
            "n_ 5  :  13\n"
          ]
        },
        {
          "output_type": "display_data",
          "data": {
            "text/plain": [
              "<IPython.core.display.Math object>"
            ],
            "text/latex": "$\\displaystyle {\\hat{\\mu_{st}}} = 13.862$"
          },
          "metadata": {}
        },
        {
          "output_type": "display_data",
          "data": {
            "text/plain": [
              "<IPython.core.display.Math object>"
            ],
            "text/latex": "$\\displaystyle {\\hat{var}}({\\hat{\\mu_{st}}}) = 0.072$"
          },
          "metadata": {}
        },
        {
          "output_type": "stream",
          "name": "stdout",
          "text": [
            "Degrees of Freedom:  75.37323664909475\n",
            "95% CI: {13.33} {14.395}\n"
          ]
        }
      ],
      "source": [
        "#Stratified Random Sample with Optimum allocation\n",
        "sigma_squared_h = list()\n",
        "for lis in list_of_lists_1:\n",
        "  delta_toadd = 0\n",
        "  for r in lis:\n",
        "    delta_toadd = delta_toadd + ((r - np.mean(lis))**2)\n",
        "  delta_toadd = delta_toadd * (1/(len(lis) - 1))\n",
        "  sigma_squared_h.append(delta_toadd)\n",
        "\n",
        "important_number = 0\n",
        "for g in range(0, 5):\n",
        "  important_number = important_number + (len(list_of_lists_1[g]))*(math.sqrt(sigma_squared_h[g]))\n",
        "print(\"Stratified Random Sample with Optimum allocation\")\n",
        "print(\"The nh's are below\")\n",
        "list_of_nhs = list()\n",
        "\n",
        "counter = 1\n",
        "for g in range(0, 5):\n",
        "  top = int(round((n*(len(list_of_lists_1[g]))*(math.sqrt(sigma_squared_h[g]))) / (important_number)))\n",
        "  list_of_nhs.append(top)\n",
        "  print(\"n_\",counter, \" : \", top)\n",
        "  counter  = counter + 1\n",
        "\n",
        "#Generate the indices of the random sample\n",
        "random_indices = list()\n",
        "for g in range(0, 5):\n",
        "  gg = random.sample(list(range(0, len(list_of_lists_1[g]))), list_of_nhs[g])\n",
        "  random_indices.append(gg)\n",
        "y_bar_h = list()\n",
        "for g in range(0, 5):\n",
        "  y_bar = 0\n",
        "  for x in random_indices[g]:\n",
        "    y_bar = y_bar + list_of_lists_1[g][x]\n",
        "  y_bar = y_bar / list_of_nhs[g]\n",
        "  y_bar_h.append(y_bar)\n",
        "s_squared_h = list()\n",
        "for g in range(0, 5):\n",
        "  to_addd = 0\n",
        "  for x in random_indices[g]:\n",
        "    to_addd = to_addd + ((list_of_lists_1[g][x] - y_bar_h[g]) ** 2)\n",
        "  to_addd = to_addd / (list_of_nhs[g] - 1)\n",
        "  s_squared_h.append(to_addd)\n",
        "#Estimate the parameter of interest\n",
        "tau_hat_st = 0\n",
        "for g in range(0, 5):\n",
        "  tau_hat_st = tau_hat_st + (len(list_of_lists_1[g]))*(y_bar_h[g])\n",
        "mu_hat_st = tau_hat_st / N\n",
        "display(Math(r'{\\hat{\\mu_{st}}} = ' + str(round(mu_hat_st, 3))))\n",
        "#Estimated variance of the parameter of interest\n",
        "var_hat_tau_hat_st = 0\n",
        "for g in range(0, 5):\n",
        "  cap = (len(list_of_lists_1[g]))*(len(list_of_lists_1[g]) - list_of_nhs[g])*((s_squared_h[g])/(list_of_nhs[g]))\n",
        "  var_hat_tau_hat_st = var_hat_tau_hat_st + cap\n",
        "var_hat_mu_hat_st = var_hat_tau_hat_st / (N ** 2)\n",
        "display(Math(r'{\\hat{var}}({\\hat{\\mu_{st}}}) = ' + str(round(var_hat_mu_hat_st, 3))))\n",
        "\n",
        "#We will use Satterthwaite formula for adjusted degrees of freedom\n",
        "number_1 = 0\n",
        "number_2 = 0\n",
        "for g in range(0, 5):\n",
        "  number_1 = number_1 + (len(list_of_lists_1[g]))*(len(list_of_lists_1[g]) - list_of_nhs[g])*((s_squared_h[g])/(list_of_nhs[g]))\n",
        "  number_2 = number_2 + ((((len(list_of_lists_1[g]))*(len(list_of_lists_1[g]) - list_of_nhs[g])*((s_squared_h[g])/(list_of_nhs[g]))) ** 2) / (list_of_nhs[g] - 1))\n",
        "degrees_of_freedom = (number_1 ** 2) / number_2\n",
        "print(\"Degrees of Freedom: \", degrees_of_freedom)\n",
        "#The alpha level chosen in report 2 was 0.95\n",
        "#A 95% CI for my estimator is below\n",
        "\n",
        "# First get the t-distribution crictal value\n",
        "alpha = 0.05\n",
        "t_critical_95 = t.ppf(1 - alpha / 2, df = degrees_of_freedom)\n",
        "\n",
        "# Calculating the lower and upper bounds of the confidence interval\n",
        "lower_95_CI = round(mu_hat_st - (t_critical_95 * np.sqrt(var_hat_mu_hat_st)), 3)\n",
        "upper_95_CI = round(mu_hat_st + (t_critical_95 * np.sqrt(var_hat_mu_hat_st)), 3)\n",
        "\n",
        "print(\"95% CI:\", {lower_95_CI}, {upper_95_CI})"
      ]
    },
    {
      "cell_type": "markdown",
      "metadata": {
        "id": "7m1_8OaUl_U4"
      },
      "source": [
        "# Report 6"
      ]
    },
    {
      "cell_type": "markdown",
      "metadata": {
        "id": "TPVz36oLmW1f"
      },
      "source": [
        "# Question 1: Perform a systematic sample with (approximately) the same total sample size as you used in previous Reports."
      ]
    },
    {
      "cell_type": "code",
      "execution_count": null,
      "metadata": {
        "id": "ESMw1IO9nvcg",
        "colab": {
          "base_uri": "https://localhost:8080/"
        },
        "outputId": "c76a55ad-a99a-4517-c7ab-64497bc40c46"
      },
      "outputs": [
        {
          "output_type": "stream",
          "name": "stdout",
          "text": [
            "Sampled Indices: [6, 3, 1, 7, 19, 36, 33, 31, 37, 49, 66, 63, 61, 67, 79, 96, 93, 91, 97, 109, 126, 123, 121, 127, 139, 156, 153, 151, 157, 169, 186, 183, 181, 187, 199, 216, 213, 211, 217, 229, 246, 243, 241, 247, 259, 276, 273, 271, 277, 289, 306, 303, 301, 307, 319, 336, 333, 331, 337, 349, 366, 363, 361, 367, 379, 396, 393, 391, 397, 409, 426, 423, 421, 427, 439, 456, 453, 451, 457, 469, 486, 483, 481, 487, 499]\n"
          ]
        }
      ],
      "source": [
        "np.random.seed(42)\n",
        "# Parameters\n",
        "M = 514 #Total number of units in the population\n",
        "needed_sample_size = 85 #Total sample size we need\n",
        "n = 5 # Sample size of primary units\n",
        "N = 30 # Number of Primary Units in the population\n",
        "\n",
        "import random\n",
        "import statistics\n",
        "# Generate initial sample of 5 random indices between 0 and 29 inclusive\n",
        "random_indices1 = random.sample(list(range(0, N)), n)\n",
        "\n",
        "# Generate a larger sample by adding 30, 17 times to each initial sample index\n",
        "larger_sample1 = []\n",
        "j = 0\n",
        "while j <= 510:\n",
        "    for index in random_indices1:\n",
        "        if j + index >= 514 :\n",
        "          break;\n",
        "        else:\n",
        "          larger_sample1.extend([j + index])\n",
        "    j += 30\n",
        "\n",
        "print(\"Sampled Indices:\", larger_sample1)\n",
        "\n"
      ]
    },
    {
      "cell_type": "markdown",
      "metadata": {
        "id": "DiRkY1SfSfQN"
      },
      "source": [
        "# 3. Estimate your parameter of interest by an unbiased estimator. Estimate its variance and give a confidence interval of α level chosen in report 2"
      ]
    },
    {
      "cell_type": "code",
      "execution_count": null,
      "metadata": {
        "id": "8sJ7bk5IT1rh",
        "colab": {
          "base_uri": "https://localhost:8080/",
          "height": 75
        },
        "outputId": "86cfc1a3-2585-4d0b-8a01-71623d08f255"
      },
      "outputs": [
        {
          "output_type": "display_data",
          "data": {
            "text/plain": [
              "<IPython.core.display.Math object>"
            ],
            "text/latex": "$\\displaystyle {\\hat{\\mu}} = 14.647$"
          },
          "metadata": {}
        },
        {
          "output_type": "display_data",
          "data": {
            "text/plain": [
              "<IPython.core.display.Math object>"
            ],
            "text/latex": "$\\displaystyle {\\hat{var}}({\\hat{\\mu}}) = 0.189$"
          },
          "metadata": {}
        },
        {
          "output_type": "stream",
          "name": "stdout",
          "text": [
            "95% CI: {13.783} {15.512}\n"
          ]
        }
      ],
      "source": [
        "np.random.seed(42)\n",
        "#The lists below contain the primary units I declare but don't initialize them.\n",
        "list_1 = []\n",
        "list_2 = []\n",
        "list_3 = []\n",
        "list_4 = []\n",
        "list_5 = []\n",
        "#Instantiate the primary units\n",
        "j = 0\n",
        "while j <= 510:\n",
        "    for k in range(5):\n",
        "        if j + random_indices1[k] >= 514 :\n",
        "          break;\n",
        "        else:\n",
        "          if k == 0:\n",
        "            list_1.extend([j + random_indices1[k]])\n",
        "          elif k == 1:\n",
        "            list_2.extend([j + random_indices1[k]])\n",
        "          elif k == 2:\n",
        "            list_3.extend([j + random_indices1[k]])\n",
        "          elif k == 3:\n",
        "            list_4.extend([j + random_indices1[k]])\n",
        "          else:\n",
        "            list_5.extend([j + random_indices1[k]])\n",
        "    j += 30\n",
        "\n",
        "y_1_ = df[\"Water Temp (?C)\"].iloc[list_1]\n",
        "y_2_ = df[\"Water Temp (?C)\"].iloc[list_2]\n",
        "y_3_ = df[\"Water Temp (?C)\"].iloc[list_3]\n",
        "y_4_ = df[\"Water Temp (?C)\"].iloc[list_4]\n",
        "y_5_ = df[\"Water Temp (?C)\"].iloc[list_5]\n",
        "\n",
        "primary_unit_totals1 = [y_1_.sum(), y_2_.sum(), y_3_.sum(), y_4_.sum(), y_5_.sum()]\n",
        "#Estimated parameter of interest is below\n",
        "mu_hat_1 = ((N/n)*((y_1_.sum())+(y_2_.sum())+(y_3_.sum())+(y_4_.sum())+(y_5_.sum())))/M\n",
        "\n",
        "display(Math(r'{\\hat{\\mu}} = ' + str(round(mu_hat_1, 3))))\n",
        "\n",
        "#Estimated Variance of the parameter of Interest\n",
        "s_u_squared1 = 0\n",
        "for y_i in primary_unit_totals1:\n",
        "  s_u_squared1 += (y_i - statistics.mean(primary_unit_totals1)) ** 2\n",
        "s_u_squared1 = s_u_squared1 / (n - 1)\n",
        "\n",
        "var_hat_mu_hat1 = (1/(M ** 2))*((N*(N - n)*s_u_squared1)/(n))\n",
        "\n",
        "display(Math(r'{\\hat{var}}({\\hat{\\mu}}) = ' + str(round(var_hat_mu_hat1, 3))))\n",
        "\n",
        "#The alpha level chosen in report 2 was 0.95\n",
        "#A 95% CI for my estimator is [12.944, 15.784]\n",
        "\n",
        "# First get the t-distribution crictal value\n",
        "alpha = 0.05\n",
        "t_critical_95 = t.ppf(1 - alpha / 2, df = len(larger_sample1) - 1)\n",
        "\n",
        "# Calculating the lower and upper bounds of the confidence interval\n",
        "lower_95_CI = round(mu_hat_1 - (t_critical_95 * np.sqrt(var_hat_mu_hat1)), 3)\n",
        "upper_95_CI = round(mu_hat_1 + (t_critical_95 * np.sqrt(var_hat_mu_hat1)), 3)\n",
        "\n",
        "print(\"95% CI:\", {lower_95_CI}, {upper_95_CI})\n"
      ]
    },
    {
      "cell_type": "markdown",
      "metadata": {
        "id": "kbG4awGETk04"
      },
      "source": [
        "# 4. Perform another systematic sampling approach, but this time, let’s change the value of N that you used before. (As result, your n will be changed also)."
      ]
    },
    {
      "cell_type": "code",
      "execution_count": null,
      "metadata": {
        "id": "Sc1FCbMPsEe9"
      },
      "outputs": [],
      "source": [
        "# New Parameters\n",
        "M = 514 #Total number of units in the population\n",
        "needed_sample_size = 85 #Total sample size we need\n",
        "n = 17 # Sample size of primary units\n",
        "N = 103 # Number of Primary Units in the population\n",
        "\n",
        "# 102 of the primary units contain 5 elements and 1 contains 4 elements"
      ]
    },
    {
      "cell_type": "code",
      "execution_count": null,
      "metadata": {
        "id": "joT-nSwauKV4",
        "colab": {
          "base_uri": "https://localhost:8080/"
        },
        "outputId": "d181e1da-432a-4cee-da7f-c4dc5838748c"
      },
      "outputs": [
        {
          "output_type": "stream",
          "name": "stdout",
          "text": [
            "Sampled Indices: [17, 6, 59, 14, 33, 41, 25, 80, 83, 94, 85, 34, 49, 30, 57, 47, 87, 120, 109, 162, 117, 136, 144, 128, 183, 186, 197, 188, 137, 152, 133, 160, 150, 190, 223, 212, 265, 220, 239, 247, 231, 286, 289, 300, 291, 240, 255, 236, 263, 253, 293, 326, 315, 368, 323, 342, 350, 334, 389, 392, 403, 394, 343, 358, 339, 366, 356, 396, 429, 418, 471, 426, 445, 453, 437, 492, 495, 506, 497, 446, 461, 442, 469, 459, 499]\n"
          ]
        }
      ],
      "source": [
        "np.random.seed(42)\n",
        "# Generate initial sample of 5 random indices between 0 and 103\n",
        "random_indices = random.sample(list(range(0, N)), n)\n",
        "\n",
        "# Generate a larger sample by adding 30, 17 times to each initial sample index\n",
        "larger_sample = []\n",
        "j = 0\n",
        "while j <= 510:\n",
        "    for index in random_indices:\n",
        "        if j + index >= 514 :\n",
        "          break;\n",
        "        else:\n",
        "          larger_sample.extend([j + index])\n",
        "    j += 103\n",
        "\n",
        "print(\"Sampled Indices:\", larger_sample)"
      ]
    },
    {
      "cell_type": "markdown",
      "source": [
        "5. Estimate your parameter of interest by an unbiased estimator. Estimate its variance and give a confidence interval of α level chosen in Report 2."
      ],
      "metadata": {
        "id": "h0d7SJPKwCFD"
      }
    },
    {
      "cell_type": "code",
      "source": [
        "np.random.seed(42)\n",
        "#The list of lists below contains the primary units that have not yet been initialized\n",
        "list_of_lists = []\n",
        "#for i in range(17):\n",
        "#  list_of_lists.append([])\n",
        "#Instantiate the primary units\n",
        "for f in range(len(random_indices)):\n",
        "  primary_unit = []\n",
        "  for g in range(5):\n",
        "    if g*103 + random_indices[f] >= 514:\n",
        "      break\n",
        "    else:\n",
        "      primary_unit.append(g*103 + random_indices[f])\n",
        "  list_of_lists.append(primary_unit)\n",
        "\n",
        "y_i = []\n",
        "for y in list_of_lists:\n",
        "  y_toadd = df[\"Water Temp (?C)\"].iloc[y]\n",
        "  y_i.append(y_toadd)\n",
        "\n",
        "primary_unit_totals = []\n",
        "for y in y_i:\n",
        "  primary_unit_totals.append(y.sum())\n",
        "#Estimated parameter of interest is below\n",
        "mu_hat_ = 0\n",
        "for y in primary_unit_totals:\n",
        "  mu_hat_ += y\n",
        "mu_hat_ = ((N/n)*(mu_hat_))/M\n",
        "\n",
        "display(Math(r'{\\hat{\\mu}} = ' + str(round(mu_hat_, 3))))\n",
        "\n",
        "#Estimated Variance of the parameter of Interest\n",
        "s_u_squared = 0\n",
        "for y_i in primary_unit_totals:\n",
        "  s_u_squared += (y_i - statistics.mean(primary_unit_totals)) ** 2\n",
        "s_u_squared = s_u_squared / (n - 1)\n",
        "\n",
        "var_hat_mu_hat = (1/(M ** 2))*((N*(N - n)*s_u_squared)/(n))\n",
        "\n",
        "display(Math(r'{\\hat{var}}({\\hat{\\mu}}) = ' + str(round(var_hat_mu_hat, 3))))\n",
        "\n",
        "#The alpha level chosen in report 2 was 0.95\n",
        "#A 95% CI for my estimator is [12.931, 14.367]\n",
        "\n",
        "# First get the t-distribution crictal value\n",
        "alpha = 0.05\n",
        "t_critical_95 = t.ppf(1 - alpha / 2, df = len(larger_sample) - 1)\n",
        "\n",
        "# Calculating the lower and upper bounds of the confidence interval\n",
        "lower_95_CI = round(mu_hat_ - (t_critical_95 * np.sqrt(var_hat_mu_hat)), 3)\n",
        "upper_95_CI = round(mu_hat_ + (t_critical_95 * np.sqrt(var_hat_mu_hat)), 3)\n",
        "\n",
        "print(\"95% CI:\", {lower_95_CI}, {upper_95_CI})"
      ],
      "metadata": {
        "id": "49wtHxbdwQrE",
        "colab": {
          "base_uri": "https://localhost:8080/",
          "height": 75
        },
        "outputId": "e831fab5-63de-4291-de5b-eaf57babe588"
      },
      "execution_count": null,
      "outputs": [
        {
          "output_type": "display_data",
          "data": {
            "text/plain": [
              "<IPython.core.display.Math object>"
            ],
            "text/latex": "$\\displaystyle {\\hat{\\mu}} = 14.594$"
          },
          "metadata": {}
        },
        {
          "output_type": "display_data",
          "data": {
            "text/plain": [
              "<IPython.core.display.Math object>"
            ],
            "text/latex": "$\\displaystyle {\\hat{var}}({\\hat{\\mu}}) = 0.381$"
          },
          "metadata": {}
        },
        {
          "output_type": "stream",
          "name": "stdout",
          "text": [
            "95% CI: {13.367} {15.821}\n"
          ]
        }
      ]
    },
    {
      "cell_type": "markdown",
      "source": [
        "6. Order your population with respect to y (variable of interest). Repeat\n",
        "steps 1-4 for the ordered data."
      ],
      "metadata": {
        "id": "n3rt9mySw0Zt"
      }
    },
    {
      "cell_type": "code",
      "source": [
        "np.random.seed(42)\n",
        "#Parameters\n",
        "M = 514 #Total number of units in the population\n",
        "needed_sample_size = 85 #Total sample size we need\n",
        "n = 5 # Sample size of primary units\n",
        "N = 30 # Number of Primary Units in the population\n",
        "\n",
        "#random_indices1 #Still holds the same indices from before to enable an accurate comparison\n",
        "#larger_sample1 # Still holds the same sample indices as before\n",
        "\n",
        "print(\"All Sample Indices: \", larger_sample1)\n",
        "\n",
        "#The lists below contain the primary units I declare but don't initialize them.\n",
        "list_1__ = []\n",
        "list_2__ = []\n",
        "list_3__ = []\n",
        "list_4__ = []\n",
        "list_5__ = []\n",
        "#Instantiate the primary units\n",
        "j = 0\n",
        "while j <= 510:\n",
        "    for k in range(5):\n",
        "        if j + random_indices1[k] >= 514 :\n",
        "          break;\n",
        "        else:\n",
        "          if k == 0:\n",
        "            list_1__.extend([j + random_indices1[k]])\n",
        "          elif k == 1:\n",
        "            list_2__.extend([j + random_indices1[k]])\n",
        "          elif k == 2:\n",
        "            list_3__.extend([j + random_indices1[k]])\n",
        "          elif k == 3:\n",
        "            list_4__.extend([j + random_indices1[k]])\n",
        "          else:\n",
        "            list_5__.extend([j + random_indices1[k]])\n",
        "    j += 30\n",
        "\n",
        "\n",
        "list_of_all__ = df[\"Water Temp (?C)\"].iloc[list(range(514))]\n",
        "list_of_all__ = list_of_all__.sort_values()\n",
        "\n",
        "\n",
        "list_1__new = list()\n",
        "list_2__new = list()\n",
        "list_3__new = list()\n",
        "list_4__new = list()\n",
        "list_5__new = list()\n",
        "for i in list_1__:\n",
        "  list_1__new.append(list_of_all__.iloc[i])\n",
        "for i in list_2__:\n",
        "  list_2__new.append(list_of_all__.iloc[i])\n",
        "for i in list_3__:\n",
        "  list_3__new.append(list_of_all__.iloc[i])\n",
        "for i in list_4__:\n",
        "  list_4__new.append(list_of_all__.iloc[i])\n",
        "for i in list_5__:\n",
        "  list_5__new.append(list_of_all__.iloc[i])\n",
        "\n",
        "primary_unit_totals1 = [sum(list_1__new), sum(list_2__new), sum(list_3__new), sum(list_4__new), sum(list_5__new)]\n",
        "#Estimated parameter of interest is below\n",
        "mu_hat_1 = ((N/n)*((sum(list_1__new))+(sum(list_2__new))+(sum(list_3__new))+(sum(list_4__new))+(sum(list_5__new))))/M\n",
        "\n",
        "display(Math(r'{\\hat{\\mu}} = ' + str(round(mu_hat_1, 3))))\n",
        "\n",
        "#Estimated Variance of the parameter of Interest\n",
        "s_u_squared1 = 0\n",
        "for y_i in primary_unit_totals1:\n",
        "  s_u_squared1 += (y_i - statistics.mean(primary_unit_totals1)) ** 2\n",
        "s_u_squared1 = s_u_squared1 / (n - 1)\n",
        "\n",
        "var_hat_mu_hat1 = (1/(M ** 2))*((N*(N - n)*s_u_squared1)/(n))\n",
        "\n",
        "display(Math(r'{\\hat{var}}({\\hat{\\mu}}) = ' + str(round(var_hat_mu_hat1, 3))))\n",
        "\n",
        "#The alpha level chosen in report 2 was 0.95\n",
        "#A 95% CI for my estimator is [13.815, 15.01]\n",
        "\n",
        "# First get the t-distribution crictal value\n",
        "alpha = 0.05\n",
        "t_critical_95 = t.ppf(1 - alpha / 2, df = len(larger_sample1) - 1)\n",
        "\n",
        "# Calculating the lower and upper bounds of the confidence interval\n",
        "lower_95_CI = round(mu_hat_1 - (t_critical_95 * np.sqrt(var_hat_mu_hat1)), 3)\n",
        "upper_95_CI = round(mu_hat_1 + (t_critical_95 * np.sqrt(var_hat_mu_hat1)), 3)\n",
        "\n",
        "print(\"95% CI:\", {lower_95_CI}, {upper_95_CI})\n"
      ],
      "metadata": {
        "id": "8__RMhAow-z6",
        "colab": {
          "base_uri": "https://localhost:8080/",
          "height": 112
        },
        "outputId": "ef21651a-9396-4a4d-aae0-cb9ea65034fb"
      },
      "execution_count": null,
      "outputs": [
        {
          "output_type": "stream",
          "name": "stdout",
          "text": [
            "All Sample Indices:  [6, 3, 1, 7, 19, 36, 33, 31, 37, 49, 66, 63, 61, 67, 79, 96, 93, 91, 97, 109, 126, 123, 121, 127, 139, 156, 153, 151, 157, 169, 186, 183, 181, 187, 199, 216, 213, 211, 217, 229, 246, 243, 241, 247, 259, 276, 273, 271, 277, 289, 306, 303, 301, 307, 319, 336, 333, 331, 337, 349, 366, 363, 361, 367, 379, 396, 393, 391, 397, 409, 426, 423, 421, 427, 439, 456, 453, 451, 457, 469, 486, 483, 481, 487, 499]\n"
          ]
        },
        {
          "output_type": "display_data",
          "data": {
            "text/plain": [
              "<IPython.core.display.Math object>"
            ],
            "text/latex": "$\\displaystyle {\\hat{\\mu}} = 13.579$"
          },
          "metadata": {}
        },
        {
          "output_type": "display_data",
          "data": {
            "text/plain": [
              "<IPython.core.display.Math object>"
            ],
            "text/latex": "$\\displaystyle {\\hat{var}}({\\hat{\\mu}}) = 0.022$"
          },
          "metadata": {}
        },
        {
          "output_type": "stream",
          "name": "stdout",
          "text": [
            "95% CI: {13.285} {13.874}\n"
          ]
        }
      ]
    },
    {
      "cell_type": "code",
      "source": [
        "np.random.seed(42)\n",
        "# New Parameters    repeat above step 4 and 5 with new parameters\n",
        "M = 514 #Total number of units in the population\n",
        "needed_sample_size = 85 #Total sample size we need\n",
        "n = 17 # Sample size of primary units\n",
        "N = 103 # Number of Primary Units in the population\n",
        "\n",
        "# 102 of the primary units contain 5 elements and 1 contains 4 elements\n",
        "\n",
        "#random_indices #Still holds the same indices from before to enable an accurate comparison\n",
        "#larger_sample # Still holds the same sample indices as before\n",
        "\n",
        "print(\"All Sample Indices: \", larger_sample)\n",
        "\n",
        "#The list of lists below contains the primary units that have not yet been initialized\n",
        "list_of_lists = []\n",
        "#for i in range(17):\n",
        "#  list_of_lists.append([])\n",
        "#Instantiate the primary units\n",
        "for f in range(len(random_indices)):\n",
        "  primary_unit = []\n",
        "  for g in range(5):\n",
        "    if g*103 + random_indices[f] >= 514:\n",
        "      break\n",
        "    else:\n",
        "      primary_unit.append(g*103 + random_indices[f])\n",
        "  list_of_lists.append(primary_unit)\n",
        "\n",
        "y_i = []\n",
        "\n",
        "#Sort the data\n",
        "list_of_all__2 = df[\"Water Temp (?C)\"].iloc[list(range(514))]\n",
        "list_of_all__2 = list_of_all__2.sort_values()\n",
        "\n",
        "for y in list_of_lists:\n",
        "  y_toadd = list_of_all__2.iloc[y]\n",
        "  y_i.append(y_toadd)\n",
        "\n",
        "primary_unit_totals = []\n",
        "for y in y_i:\n",
        "  primary_unit_totals.append(y.sum())\n",
        "#Estimated parameter of interest is below\n",
        "mu_hat_ = 0\n",
        "for y in primary_unit_totals:\n",
        "  mu_hat_ += y\n",
        "mu_hat_ = ((N/n)*(mu_hat_))/M\n",
        "\n",
        "display(Math(r'{\\hat{\\mu}} = ' + str(round(mu_hat_, 3))))\n",
        "\n",
        "#Estimated Variance of the parameter of Interest\n",
        "s_u_squared = 0\n",
        "for y_i in primary_unit_totals:\n",
        "  s_u_squared += (y_i - statistics.mean(primary_unit_totals)) ** 2\n",
        "s_u_squared = s_u_squared / (n - 1)\n",
        "\n",
        "var_hat_mu_hat = (1/(M ** 2))*((N*(N - n)*s_u_squared)/(n))\n",
        "\n",
        "display(Math(r'{\\hat{var}}({\\hat{\\mu}}) = ' + str(round(var_hat_mu_hat, 3))))\n",
        "\n",
        "#The alpha level chosen in report 2 was 0.95\n",
        "#A 95% CI for my estimator is [13.912, 15.311]\n",
        "\n",
        "# First get the t-distribution crictal value\n",
        "alpha = 0.05\n",
        "t_critical_95 = t.ppf(1 - alpha / 2, df = len(larger_sample) - 1)\n",
        "\n",
        "# Calculating the lower and upper bounds of the confidence interval\n",
        "lower_95_CI = round(mu_hat_ - (t_critical_95 * np.sqrt(var_hat_mu_hat)), 3)\n",
        "upper_95_CI = round(mu_hat_ + (t_critical_95 * np.sqrt(var_hat_mu_hat)), 3)\n",
        "\n",
        "print(\"95% CI:\", {lower_95_CI}, {upper_95_CI})\n"
      ],
      "metadata": {
        "id": "huP_2hHjuqtu",
        "colab": {
          "base_uri": "https://localhost:8080/",
          "height": 112
        },
        "outputId": "a0ce4173-aaf4-4fe0-a137-e51906d081b2"
      },
      "execution_count": null,
      "outputs": [
        {
          "output_type": "stream",
          "name": "stdout",
          "text": [
            "All Sample Indices:  [17, 6, 59, 14, 33, 41, 25, 80, 83, 94, 85, 34, 49, 30, 57, 47, 87, 120, 109, 162, 117, 136, 144, 128, 183, 186, 197, 188, 137, 152, 133, 160, 150, 190, 223, 212, 265, 220, 239, 247, 231, 286, 289, 300, 291, 240, 255, 236, 263, 253, 293, 326, 315, 368, 323, 342, 350, 334, 389, 392, 403, 394, 343, 358, 339, 366, 356, 396, 429, 418, 471, 426, 445, 453, 437, 492, 495, 506, 497, 446, 461, 442, 469, 459, 499]\n"
          ]
        },
        {
          "output_type": "display_data",
          "data": {
            "text/plain": [
              "<IPython.core.display.Math object>"
            ],
            "text/latex": "$\\displaystyle {\\hat{\\mu}} = 14.076$"
          },
          "metadata": {}
        },
        {
          "output_type": "display_data",
          "data": {
            "text/plain": [
              "<IPython.core.display.Math object>"
            ],
            "text/latex": "$\\displaystyle {\\hat{var}}({\\hat{\\mu}}) = 0.097$"
          },
          "metadata": {}
        },
        {
          "output_type": "stream",
          "name": "stdout",
          "text": [
            "95% CI: {13.455} {14.696}\n"
          ]
        }
      ]
    },
    {
      "cell_type": "markdown",
      "metadata": {
        "id": "oIQqmbQIyhTP"
      },
      "source": [
        "# Report 7"
      ]
    },
    {
      "cell_type": "code",
      "execution_count": null,
      "metadata": {
        "id": "oJb_ZaSQ6kTg"
      },
      "outputs": [],
      "source": [
        "# True Parameter\n",
        "mu = np.mean(all_values)\n",
        "\n",
        "# Population Size\n",
        "M = 504\n",
        "\n",
        "N = 514\n",
        "\n",
        "# Total Sample Size\n",
        "n = 85"
      ]
    },
    {
      "cell_type": "markdown",
      "metadata": {
        "id": "bVQ-CM5TyoGh"
      },
      "source": [
        "## Divide the population into N"
      ]
    },
    {
      "cell_type": "code",
      "execution_count": null,
      "metadata": {
        "id": "jejyC1kb6f5Y",
        "colab": {
          "base_uri": "https://localhost:8080/"
        },
        "outputId": "07351845-f41d-4489-90fe-77ae16206939"
      },
      "outputs": [
        {
          "output_type": "stream",
          "name": "stdout",
          "text": [
            "\n",
            "Primary Unit Sizes (Nh):\n",
            "Cold (< 5°C): 62 units\n",
            "Cool (5-10°C): 116 units\n",
            "Mild (10-15°C): 122 units\n",
            "Warm (> 15°C): 214 units\n"
          ]
        }
      ],
      "source": [
        "temp_bins = [-np.inf, 5, 10, 15, np.inf]\n",
        "labels = ['Cold (< 5°C)', 'Cool (5-10°C)', 'Mild (10-15°C)', 'Warm (> 15°C)']\n",
        "\n",
        "df['PSU'] = pd.cut(df['AirTemp (C)'], bins=temp_bins, labels=labels)\n",
        "\n",
        "print(\"\\nPrimary Unit Sizes (Nh):\")\n",
        "psu_sizes_before = df.groupby('PSU', observed=False).size()\n",
        "for psu, size in psu_sizes_before.items():\n",
        "    print(f\"{psu}: {size} units\")"
      ]
    },
    {
      "cell_type": "markdown",
      "metadata": {
        "id": "KLikFsXlytbf"
      },
      "source": [
        "## Two-stage design with SRS"
      ]
    },
    {
      "cell_type": "code",
      "execution_count": null,
      "metadata": {
        "id": "uWZUWL366gVW",
        "colab": {
          "base_uri": "https://localhost:8080/"
        },
        "outputId": "456a2a1d-d186-4340-9fa3-d80d16e4c552"
      },
      "outputs": [
        {
          "output_type": "stream",
          "name": "stdout",
          "text": [
            "\n",
            "Sampling Statistics:\n",
            "Total units selected: 84\n",
            "\n",
            "Cool (5-10°C):\n",
            "Total units: 116\n",
            "Secondary units (Nh): 116\n",
            "Sampled units: 29\n",
            "\n",
            "Warm (> 15°C):\n",
            "Total units: 214\n",
            "Secondary units (Nh): 214\n",
            "Sampled units: 55\n",
            "\n",
            "Sample Statistics by Primary Unit:\n",
            "               Water Temp (?C)              AirTemp (C)      \n",
            "                         count   mean   std        mean   std\n",
            "PSU                                                          \n",
            "Cold (< 5°C)                 0    NaN   NaN         NaN   NaN\n",
            "Cool (5-10°C)               29   8.95  2.17        8.19  1.34\n",
            "Mild (10-15°C)               0    NaN   NaN         NaN   NaN\n",
            "Warm (> 15°C)               55  19.32  4.29       20.16  4.00\n"
          ]
        }
      ],
      "source": [
        "np.random.seed(42)\n",
        "selected_psus = np.random.choice(psu_sizes_before.index, size=2, replace=False)\n",
        "\n",
        "total_units_in_selected = psu_sizes_before[selected_psus].sum()\n",
        "psu_sample_sizes = {}\n",
        "\n",
        "remaining_sample = n\n",
        "for psu in selected_psus:\n",
        "    proportion = psu_sizes_before[psu] / total_units_in_selected\n",
        "    allocated_size = int(n * proportion)\n",
        "    if allocated_size < 2:\n",
        "        allocated_size = 2\n",
        "    psu_sample_sizes[psu] = min(allocated_size, psu_sizes_before[psu])\n",
        "    remaining_sample -= psu_sample_sizes[psu]\n",
        "\n",
        "final_sample = pd.DataFrame()\n",
        "sampling_stats = {\n",
        "    'primary_units': {},\n",
        "    'total_units_selected': 0\n",
        "}\n",
        "\n",
        "for psu in selected_psus:\n",
        "    psu_data = df[df['PSU'] == psu]\n",
        "    nh = psu_sample_sizes[psu]\n",
        "\n",
        "    psu_sample = psu_data.sample(n=nh)\n",
        "    final_sample = pd.concat([final_sample, psu_sample])\n",
        "\n",
        "    sampling_stats['primary_units'][psu] = {\n",
        "        'total_units': len(psu_data),\n",
        "        'secondary_units': len(psu_data),\n",
        "        'sampled_units': len(psu_sample)\n",
        "    }\n",
        "    sampling_stats['total_units_selected'] += len(psu_sample)\n",
        "\n",
        "final_sample = final_sample.reset_index(drop=True)\n",
        "\n",
        "print(\"\\nSampling Statistics:\")\n",
        "print(f\"Total units selected: {sampling_stats['total_units_selected']}\")\n",
        "for psu, psu_stats in sampling_stats['primary_units'].items():\n",
        "    print(f\"\\n{psu}:\")\n",
        "    print(f\"Total units: {psu_stats['total_units']}\")\n",
        "    print(f\"Secondary units (Nh): {psu_stats['secondary_units']}\")\n",
        "    print(f\"Sampled units: {psu_stats['sampled_units']}\")\n",
        "\n",
        "print(\"\\nSample Statistics by Primary Unit:\")\n",
        "summary_by_psu = final_sample.groupby('PSU', observed=False).agg({\n",
        "    'Water Temp (?C)': ['count', 'mean', 'std'],\n",
        "    'AirTemp (C)': ['mean', 'std']\n",
        "}).round(2)\n",
        "print(summary_by_psu)"
      ]
    },
    {
      "cell_type": "markdown",
      "metadata": {
        "id": "bnZGrYIgyxjG"
      },
      "source": [
        "## Estimates SRS"
      ]
    },
    {
      "cell_type": "code",
      "execution_count": null,
      "metadata": {
        "id": "Z5P-x3-_zh4r",
        "colab": {
          "base_uri": "https://localhost:8080/"
        },
        "outputId": "5acb3fec-fb07-4b1a-c900-d599eda57e8a"
      },
      "outputs": [
        {
          "output_type": "stream",
          "name": "stdout",
          "text": [
            "Estimate Unbiased Estimator (mu_hat): 2953.8515\n",
            "Estimate Variance of Unbiased Estimator (var_hat_mu_hat): 5879.8474\n",
            "Standard Deviation of Unbiased Estimator: 76.6802\n"
          ]
        }
      ],
      "source": [
        "sampled_df = df[df['PSU'].isin(['Cool (5-10°C)', 'Warm (> 15°C)'])]\n",
        "\n",
        "Mi = sampled_df['PSU'].map(df.groupby('PSU', observed=False).size().to_dict()).to_numpy()\n",
        "yi = sampled_df[\"Water Temp (?C)\"].to_numpy()\n",
        "mi = sampled_df['PSU'].map(psu_sample_sizes).to_numpy()\n",
        "si2 = sampled_df['PSU'].map(df.groupby('PSU', observed=False)['Water Temp (?C)'].var(ddof=1)).to_numpy()\n",
        "\n",
        "#  Unbiased Estimator\n",
        "yi_hat = np.mean(yi) * Mi\n",
        "\n",
        "mu_hat = N*np.mean(yi_hat)/M\n",
        "\n",
        "# Variance of Unbiased Estimator\n",
        "Var_hat_mu_hat = N*(N-n)*np.var(yi_hat)/(n*M**2)+N*sum(Mi*(Mi-mi)*si2/mi)/(n*M**2)\n",
        "\n",
        "# Standard Deviation of Unbiased Estimator\n",
        "std_dev_hat_mu_hat = np.sqrt(Var_hat_mu_hat)\n",
        "\n",
        "# Output\n",
        "print(f\"Estimate Unbiased Estimator (mu_hat): {mu_hat:.4f}\")\n",
        "print(f\"Estimate Variance of Unbiased Estimator (var_hat_mu_hat): {Var_hat_mu_hat:.4f}\")\n",
        "print(f\"Standard Deviation of Unbiased Estimator: {std_dev_hat_mu_hat:.4f}\")"
      ]
    },
    {
      "cell_type": "markdown",
      "metadata": {
        "id": "Z5zz-jPVy8H7"
      },
      "source": [
        "## Estimate by Ratio estimator\n"
      ]
    },
    {
      "cell_type": "code",
      "execution_count": null,
      "metadata": {
        "id": "qZPbo2-hz3Go",
        "colab": {
          "base_uri": "https://localhost:8080/"
        },
        "outputId": "963bc0c9-6ae8-4493-e021-f1190c90ff71"
      },
      "outputs": [
        {
          "output_type": "stream",
          "name": "stdout",
          "text": [
            "Ratio Estimator (mu_hat_r): 16.1312\n",
            "Variance of Ratio Estimator (var_mu_r): 61.8912\n",
            "Standard Deviation of Ratio Estimator: 7.8671\n"
          ]
        }
      ],
      "source": [
        "# Ratio Estimator\n",
        "mu_hat_r = sum(yi_hat)/sum(Mi)\n",
        "\n",
        "#Variance of Ratio Estimator\n",
        "z = yi_hat - Mi * mu_hat_r\n",
        "\n",
        "Var_hat_mu_hat_r = N*(N-n)*np.var(z)/(n*M**2)+N*sum(Mi*(Mi-mi)*si2/mi)/(n*M**2)\n",
        "\n",
        "# Standard Deviation of Ratio Estimator\n",
        "std_dev_hat_var_mu_r = np.sqrt(Var_hat_mu_hat_r)\n",
        "\n",
        "# Output\n",
        "print(f\"Ratio Estimator (mu_hat_r): {mu_hat_r:.4f}\")\n",
        "print(f\"Variance of Ratio Estimator (var_mu_r): {Var_hat_mu_hat_r:.4f}\")\n",
        "print(f\"Standard Deviation of Ratio Estimator: {std_dev_hat_var_mu_r:.4f}\")"
      ]
    },
    {
      "cell_type": "markdown",
      "metadata": {
        "id": "oIAqIsFIzAIw"
      },
      "source": [
        "# Two-stage design with PPS"
      ]
    },
    {
      "cell_type": "code",
      "source": [
        "# Calculate PSU sizes\n",
        "print(\"\\nNew Primary Unit Sizes (Nh):\")\n",
        "new_psu_sizes = df.groupby('PSU', observed=False).size()\n",
        "for psu, size in psu_sizes_before.items():\n",
        "    print(f\"{psu}: {size} units\")\n",
        "\n",
        "# Calculate probabilities proportional to size\n",
        "pps_probs = psu_sizes_before / psu_sizes_before.sum()\n",
        "\n",
        "# Select PSUs with replacement using PPS\n",
        "np.random.seed(42)\n",
        "selected_psus = np.random.choice(\n",
        "    psu_sizes_before.index,\n",
        "    size=2,\n",
        "    replace=True,\n",
        "    p=pps_probs\n",
        ")\n",
        "\n",
        "# Calculate sample sizes for selected PSUs\n",
        "total_units_in_selected = sum(new_psu_sizes[psu] for psu in selected_psus)\n",
        "psu_sizes_before = {}\n",
        "\n",
        "remaining_sample = n\n",
        "for psu in selected_psus:\n",
        "    proportion = new_psu_sizes[psu] / total_units_in_selected\n",
        "    allocated_size = int(n * proportion)\n",
        "    if allocated_size < 2:\n",
        "        allocated_size = 2\n",
        "    psu_sizes_before[psu] = min(allocated_size, new_psu_sizes[psu])\n",
        "    remaining_sample -= psu_sizes_before[psu]\n",
        "\n",
        "# Perform the sampling\n",
        "final_sample = pd.DataFrame()\n",
        "sampling_stats = {\n",
        "    'primary_units': {},\n",
        "    'total_units_selected': 0\n",
        "}\n",
        "\n",
        "for psu in selected_psus:\n",
        "    psu_data = df[df['PSU'] == psu]\n",
        "    nh = psu_sizes_before[psu]\n",
        "\n",
        "    # Simple random sample within each PSU\n",
        "    psu_sample = psu_data.sample(n=nh)\n",
        "    final_sample = pd.concat([final_sample, psu_sample])\n",
        "\n",
        "    sampling_stats['primary_units'][psu] = {\n",
        "        'total_units': len(psu_data),\n",
        "        'secondary_units': len(psu_data),\n",
        "        'sampled_units': len(psu_sample),\n",
        "        'selection_probability': pps_probs[psu]\n",
        "    }\n",
        "    sampling_stats['total_units_selected'] += len(psu_sample)\n",
        "\n",
        "final_sample = final_sample.reset_index(drop=True)\n",
        "\n",
        "print(\"\\nSampling Statistics:\")\n",
        "print(f\"Total units selected: {sampling_stats['total_units_selected']}\")\n",
        "for psu, psu_stats in sampling_stats['primary_units'].items():\n",
        "    print(f\"\\n{psu}:\")\n",
        "    print(f\"Total units: {psu_stats['total_units']}\")\n",
        "    print(f\"Secondary units (Nh): {psu_stats['secondary_units']}\")\n",
        "    print(f\"Sampled units: {psu_stats['sampled_units']}\")\n",
        "    print(f\"Selection probability: {psu_stats['selection_probability']:.4f}\")\n",
        "\n",
        "print(\"\\nSample Statistics by Primary Unit:\")\n",
        "summary_by_psu = final_sample.groupby('PSU', observed=False).agg({\n",
        "    'Water Temp (?C)': ['count', 'mean', 'std'],\n",
        "    'AirTemp (C)': ['mean', 'std']\n",
        "}).round(2)\n",
        "print(summary_by_psu)"
      ],
      "metadata": {
        "id": "Z7MUFookAacj",
        "colab": {
          "base_uri": "https://localhost:8080/"
        },
        "outputId": "94a7aed5-efeb-4437-855f-7f7e3e69f881"
      },
      "execution_count": null,
      "outputs": [
        {
          "output_type": "stream",
          "name": "stdout",
          "text": [
            "\n",
            "New Primary Unit Sizes (Nh):\n",
            "Cold (< 5°C): 62 units\n",
            "Cool (5-10°C): 116 units\n",
            "Mild (10-15°C): 122 units\n",
            "Warm (> 15°C): 214 units\n",
            "\n",
            "Sampling Statistics:\n",
            "Total units selected: 84\n",
            "\n",
            "Mild (10-15°C):\n",
            "Total units: 122\n",
            "Secondary units (Nh): 122\n",
            "Sampled units: 30\n",
            "Selection probability: 0.2374\n",
            "\n",
            "Warm (> 15°C):\n",
            "Total units: 214\n",
            "Secondary units (Nh): 214\n",
            "Sampled units: 54\n",
            "Selection probability: 0.4163\n",
            "\n",
            "Sample Statistics by Primary Unit:\n",
            "               Water Temp (?C)              AirTemp (C)      \n",
            "                         count   mean   std        mean   std\n",
            "PSU                                                          \n",
            "Cold (< 5°C)                 0    NaN   NaN         NaN   NaN\n",
            "Cool (5-10°C)                0    NaN   NaN         NaN   NaN\n",
            "Mild (10-15°C)              30  13.23  3.36       12.79  1.56\n",
            "Warm (> 15°C)               54  19.11  4.26       19.89  3.83\n"
          ]
        }
      ]
    },
    {
      "cell_type": "markdown",
      "metadata": {
        "id": "0zHSg8i6zFuO"
      },
      "source": [
        "## Estimate by Hansen-Horvitz estimator"
      ]
    },
    {
      "cell_type": "code",
      "execution_count": null,
      "metadata": {
        "id": "Fo_vw3Jj0uOD",
        "colab": {
          "base_uri": "https://localhost:8080/"
        },
        "outputId": "03926d89-0aab-478d-d9fd-8d1d2cdd7dba"
      },
      "outputs": [
        {
          "output_type": "stream",
          "name": "stdout",
          "text": [
            "mu_hat_p: 16.1687\n",
            "Var_hat_mu_hat_p: 0.1016\n",
            "std_dev_hat_var_hat_mu_hat_p: 0.3187\n"
          ]
        }
      ],
      "source": [
        "# Estimating mean using the Hansen-Hurwitz estimator (PPS)\n",
        "yi_bar = final_sample.groupby('PSU', observed=False)['Water Temp (?C)'].mean()\n",
        "\n",
        "mu_hat_p = np.mean(yi_bar)\n",
        "\n",
        "# Estimating variance of the Hansen-Hurwitz Estimator\n",
        "Var_hat_mu_hat_p = np.var(yi_bar)/n\n",
        "\n",
        "# Estimating standard Deviation of the Hansen-Hurwitz Estimator\n",
        "std_dev_hat_var_hat_mu_hat_p = np.sqrt(Var_hat_mu_hat_p)\n",
        "\n",
        "# Output results\n",
        "print(f\"mu_hat_p: {mu_hat_p:.4f}\")\n",
        "print(f\"Var_hat_mu_hat_p: {Var_hat_mu_hat_p:.4f}\")\n",
        "print(f\"std_dev_hat_var_hat_mu_hat_p: {std_dev_hat_var_hat_mu_hat_p:.4f}\")"
      ]
    },
    {
      "cell_type": "markdown",
      "metadata": {
        "id": "_m3vII9N2MdV"
      },
      "source": [
        "# Repeat with a different N\n"
      ]
    },
    {
      "cell_type": "code",
      "source": [
        "temp_bins = [-np.inf, 10, 20, np.inf]\n",
        "labels = ['Cold (< 10°C)', 'Mild (10-20°C)', 'Warm (> 20°C)']\n",
        "\n",
        "df['New_PSU'] = pd.cut(df['AirTemp (C)'], bins=temp_bins, labels=labels)\n",
        "\n",
        "print(\"\\nNew Primary Unit Sizes (Nh):\")\n",
        "new_psu_sizes = df.groupby('New_PSU', observed=False).size()\n",
        "for psu, size in new_psu_sizes.items():\n",
        "    print(f\"{psu}: {size} units\")"
      ],
      "metadata": {
        "id": "9O89ZxLRO2v-",
        "colab": {
          "base_uri": "https://localhost:8080/"
        },
        "outputId": "8864d54a-70b2-4ed1-e460-22c26bf34c69"
      },
      "execution_count": null,
      "outputs": [
        {
          "output_type": "stream",
          "name": "stdout",
          "text": [
            "\n",
            "New Primary Unit Sizes (Nh):\n",
            "Cold (< 10°C): 178 units\n",
            "Mild (10-20°C): 224 units\n",
            "Warm (> 20°C): 112 units\n"
          ]
        }
      ]
    },
    {
      "cell_type": "markdown",
      "metadata": {
        "id": "upyOhwEo3nmc"
      },
      "source": [
        "## Two-stage design with SRS"
      ]
    },
    {
      "cell_type": "code",
      "source": [
        "np.random.seed(42)\n",
        "selected_psus = np.random.choice(new_psu_sizes.index, size=2, replace=False)\n",
        "\n",
        "total_units_in_selected = new_psu_sizes[selected_psus].sum()\n",
        "psu_sample_sizes = {}\n",
        "\n",
        "remaining_sample = n\n",
        "for psu in selected_psus:\n",
        "    proportion = new_psu_sizes[psu] / total_units_in_selected\n",
        "    allocated_size = int(n * proportion)\n",
        "    if allocated_size < 2:\n",
        "        allocated_size = 2\n",
        "    psu_sample_sizes[psu] = min(allocated_size, new_psu_sizes[psu])\n",
        "    remaining_sample -= psu_sample_sizes[psu]\n",
        "\n",
        "final_sample = pd.DataFrame()\n",
        "sampling_stats = {\n",
        "    'primary_units': {},\n",
        "    'total_units_selected': 0\n",
        "}\n",
        "\n",
        "for psu in selected_psus:\n",
        "    psu_data = df[df['New_PSU'] == psu]\n",
        "    nh = psu_sample_sizes[psu]\n",
        "\n",
        "    psu_sample = psu_data.sample(n=nh)\n",
        "    final_sample = pd.concat([final_sample, psu_sample])\n",
        "\n",
        "    sampling_stats['primary_units'][psu] = {\n",
        "        'total_units': len(psu_data),\n",
        "        'secondary_units': len(psu_data),\n",
        "        'sampled_units': len(psu_sample)\n",
        "    }\n",
        "    sampling_stats['total_units_selected'] += len(psu_sample)\n",
        "\n",
        "final_sample = final_sample.reset_index(drop=True)\n",
        "\n",
        "print(\"\\nSampling Statistics:\")\n",
        "print(f\"Total units selected: {sampling_stats['total_units_selected']}\")\n",
        "for psu, psu_stats in sampling_stats['primary_units'].items():\n",
        "    print(f\"\\n{psu}:\")\n",
        "    print(f\"Total units: {psu_stats['total_units']}\")\n",
        "    print(f\"Secondary units (Nh): {psu_stats['secondary_units']}\")\n",
        "    print(f\"Sampled units: {psu_stats['sampled_units']}\")\n",
        "\n",
        "print(\"\\nSample Statistics by Primary Unit:\")\n",
        "summary_by_psu = final_sample.groupby('New_PSU', observed=False).agg({\n",
        "    'Water Temp (?C)': ['count', 'mean', 'std'],\n",
        "    'AirTemp (C)': ['mean', 'std']\n",
        "}).round(2)\n",
        "print(summary_by_psu)"
      ],
      "metadata": {
        "id": "xVSQl1MmPw75",
        "colab": {
          "base_uri": "https://localhost:8080/"
        },
        "outputId": "6ac93e01-ca50-4dba-bcf0-8300c9758262"
      },
      "execution_count": null,
      "outputs": [
        {
          "output_type": "stream",
          "name": "stdout",
          "text": [
            "\n",
            "Sampling Statistics:\n",
            "Total units selected: 84\n",
            "\n",
            "Cold (< 10°C):\n",
            "Total units: 178\n",
            "Secondary units (Nh): 178\n",
            "Sampled units: 37\n",
            "\n",
            "Mild (10-20°C):\n",
            "Total units: 224\n",
            "Secondary units (Nh): 224\n",
            "Sampled units: 47\n",
            "\n",
            "Sample Statistics by Primary Unit:\n",
            "               Water Temp (?C)              AirTemp (C)      \n",
            "                         count   mean   std        mean   std\n",
            "New_PSU                                                      \n",
            "Cold (< 10°C)               37   8.78  2.94        6.54  3.25\n",
            "Mild (10-20°C)              47  14.20  3.60       14.47  2.54\n",
            "Warm (> 20°C)                0    NaN   NaN         NaN   NaN\n"
          ]
        }
      ]
    },
    {
      "cell_type": "markdown",
      "metadata": {
        "id": "nJa8EMDu2ZV6"
      },
      "source": [
        "# Estimates SRS"
      ]
    },
    {
      "cell_type": "code",
      "execution_count": null,
      "metadata": {
        "id": "8lEOmE4V2pHh",
        "colab": {
          "base_uri": "https://localhost:8080/"
        },
        "outputId": "c55dfa50-eb4e-4446-cf0f-ca30dc2b4a7a"
      },
      "outputs": [
        {
          "output_type": "stream",
          "name": "stdout",
          "text": [
            "Estimate Unbiased Estimator (mu_hat): 2451.2082\n",
            "Estimate Variance of Unbiased Estimator (var_hat_mu_hat): 841.0699\n",
            "Standard Deviation of Unbiased Estimator: 29.0012\n"
          ]
        }
      ],
      "source": [
        "sampled_df2 = df[df['New_PSU'].isin(['Cold (< 10°C)', 'Mild (10-20°C)'])]\n",
        "\n",
        "Mi = sampled_df2['New_PSU'].map(df.groupby('New_PSU', observed=False).size().to_dict()).to_numpy()\n",
        "yi = sampled_df2[\"Water Temp (?C)\"].to_numpy()\n",
        "mi = sampled_df2['New_PSU'].map(psu_sample_sizes).to_numpy()\n",
        "si2 = sampled_df2['New_PSU'].map(df.groupby('New_PSU', observed=False)['Water Temp (?C)'].var(ddof=1)).to_numpy()\n",
        "\n",
        "#  Unbiased Estimator\n",
        "yi_hat = np.mean(yi) * Mi\n",
        "\n",
        "mu_hat = N*np.mean(yi_hat)/M\n",
        "\n",
        "# Variance of Unbiased Estimator\n",
        "Var_hat_mu_hat = N*(N-n)*np.var(yi_hat)/(n*M**2)+N*sum(Mi*(Mi-mi)*si2/mi)/(n*M**2)\n",
        "\n",
        "# Standard Deviation of Unbiased Estimator\n",
        "std_dev_hat_mu_hat = np.sqrt(Var_hat_mu_hat)\n",
        "\n",
        "# Output\n",
        "print(f\"Estimate Unbiased Estimator (mu_hat): {mu_hat:.4f}\")\n",
        "print(f\"Estimate Variance of Unbiased Estimator (var_hat_mu_hat): {Var_hat_mu_hat:.4f}\")\n",
        "print(f\"Standard Deviation of Unbiased Estimator: {std_dev_hat_mu_hat:.4f}\")"
      ]
    },
    {
      "cell_type": "markdown",
      "metadata": {
        "id": "XA9PyT9m2axi"
      },
      "source": [
        "# Estimate by Ratio estimator"
      ]
    },
    {
      "cell_type": "code",
      "execution_count": null,
      "metadata": {
        "id": "nOXyQZwO2wJW",
        "colab": {
          "base_uri": "https://localhost:8080/"
        },
        "outputId": "0dfbceab-adcb-4bf0-8d8b-fd9f41195981"
      },
      "outputs": [
        {
          "output_type": "stream",
          "name": "stdout",
          "text": [
            "Ratio Estimator (mu_hat_r): 11.8033\n",
            "Variance of Ratio Estimator (var_mu_r): 98.2632\n",
            "Standard Deviation of Ratio Estimator: 9.9128\n"
          ]
        }
      ],
      "source": [
        "# Ratio Estimator\n",
        "mu_hat_r = sum(yi_hat)/sum(Mi)\n",
        "\n",
        "#Variance of Ratio Estimator\n",
        "z = yi_hat - Mi * mu_hat_r\n",
        "\n",
        "Var_hat_mu_hat_r = N*(N-n)*np.var(z)/(n*M**2)+N*sum(Mi*(Mi-mi)*si2/mi)/(n*M**2)\n",
        "\n",
        "# Standard Deviation of Ratio Estimator\n",
        "std_dev_hat_var_mu_r = np.sqrt(Var_hat_mu_hat_r)\n",
        "\n",
        "# Output\n",
        "print(f\"Ratio Estimator (mu_hat_r): {mu_hat_r:.4f}\")\n",
        "print(f\"Variance of Ratio Estimator (var_mu_r): {Var_hat_mu_hat_r:.4f}\")\n",
        "print(f\"Standard Deviation of Ratio Estimator: {std_dev_hat_var_mu_r:.4f}\")"
      ]
    },
    {
      "cell_type": "markdown",
      "metadata": {
        "id": "HA3VFK372l9z"
      },
      "source": [
        "# Two-stage design with PPS"
      ]
    },
    {
      "cell_type": "code",
      "source": [
        "# Calculate PSU sizes\n",
        "print(\"\\nNew Primary Unit Sizes (Nh):\")\n",
        "new_psu_sizes = df.groupby('New_PSU', observed=False).size()\n",
        "for psu, size in new_psu_sizes.items():\n",
        "    print(f\"{psu}: {size} units\")\n",
        "\n",
        "# Calculate probabilities proportional to size\n",
        "pps_probs = new_psu_sizes / new_psu_sizes.sum()\n",
        "\n",
        "# Select PSUs with replacement using PPS\n",
        "np.random.seed(42)\n",
        "selected_psus = np.random.choice(\n",
        "    new_psu_sizes.index,\n",
        "    size=2,\n",
        "    replace=True,\n",
        "    p=pps_probs\n",
        ")\n",
        "\n",
        "# Calculate sample sizes for selected PSUs\n",
        "total_units_in_selected = sum(new_psu_sizes[psu] for psu in selected_psus)\n",
        "psu_sample_sizes = {}\n",
        "\n",
        "remaining_sample = n\n",
        "for psu in selected_psus:\n",
        "    proportion = new_psu_sizes[psu] / total_units_in_selected\n",
        "    allocated_size = int(n * proportion)\n",
        "    if allocated_size < 2:\n",
        "        allocated_size = 2\n",
        "    psu_sample_sizes[psu] = min(allocated_size, new_psu_sizes[psu])\n",
        "    remaining_sample -= psu_sample_sizes[psu]\n",
        "\n",
        "# Perform the sampling\n",
        "final_sample = pd.DataFrame()\n",
        "sampling_stats = {\n",
        "    'primary_units': {},\n",
        "    'total_units_selected': 0\n",
        "}\n",
        "\n",
        "for psu in selected_psus:\n",
        "    psu_data = df[df['New_PSU'] == psu]\n",
        "    nh = psu_sample_sizes[psu]\n",
        "\n",
        "    # Simple random sample within each PSU\n",
        "    psu_sample = psu_data.sample(n=nh)\n",
        "    final_sample = pd.concat([final_sample, psu_sample])\n",
        "\n",
        "    sampling_stats['primary_units'][psu] = {\n",
        "        'total_units': len(psu_data),\n",
        "        'secondary_units': len(psu_data),\n",
        "        'sampled_units': len(psu_sample),\n",
        "        'selection_probability': pps_probs[psu]\n",
        "    }\n",
        "    sampling_stats['total_units_selected'] += len(psu_sample)\n",
        "\n",
        "final_sample = final_sample.reset_index(drop=True)\n",
        "\n",
        "print(\"\\nSampling Statistics:\")\n",
        "print(f\"Total units selected: {sampling_stats['total_units_selected']}\")\n",
        "for psu, psu_stats in sampling_stats['primary_units'].items():\n",
        "    print(f\"\\n{psu}:\")\n",
        "    print(f\"Total units: {psu_stats['total_units']}\")\n",
        "    print(f\"Secondary units (Nh): {psu_stats['secondary_units']}\")\n",
        "    print(f\"Sampled units: {psu_stats['sampled_units']}\")\n",
        "    print(f\"Selection probability: {psu_stats['selection_probability']:.4f}\")\n",
        "\n",
        "print(\"\\nSample Statistics by Primary Unit:\")\n",
        "summary_by_psu = final_sample.groupby('New_PSU', observed=False).agg({\n",
        "    'Water Temp (?C)': ['count', 'mean', 'std'],\n",
        "    'AirTemp (C)': ['mean', 'std']\n",
        "}).round(2)\n",
        "print(summary_by_psu)"
      ],
      "metadata": {
        "id": "Zq0C8lPLAN2R",
        "colab": {
          "base_uri": "https://localhost:8080/"
        },
        "outputId": "f26a0f68-2bd4-446a-94dc-1ab8282b0309"
      },
      "execution_count": null,
      "outputs": [
        {
          "output_type": "stream",
          "name": "stdout",
          "text": [
            "\n",
            "New Primary Unit Sizes (Nh):\n",
            "Cold (< 10°C): 178 units\n",
            "Mild (10-20°C): 224 units\n",
            "Warm (> 20°C): 112 units\n",
            "\n",
            "Sampling Statistics:\n",
            "Total units selected: 84\n",
            "\n",
            "Mild (10-20°C):\n",
            "Total units: 224\n",
            "Secondary units (Nh): 224\n",
            "Sampled units: 56\n",
            "Selection probability: 0.4358\n",
            "\n",
            "Warm (> 20°C):\n",
            "Total units: 112\n",
            "Secondary units (Nh): 112\n",
            "Sampled units: 28\n",
            "Selection probability: 0.2179\n",
            "\n",
            "Sample Statistics by Primary Unit:\n",
            "               Water Temp (?C)              AirTemp (C)      \n",
            "                         count   mean   std        mean   std\n",
            "New_PSU                                                      \n",
            "Cold (< 10°C)                0    NaN   NaN         NaN   NaN\n",
            "Mild (10-20°C)              56  14.42  4.41       14.49  2.54\n",
            "Warm (> 20°C)               28  22.61  2.42       23.41  1.93\n"
          ]
        }
      ]
    },
    {
      "cell_type": "markdown",
      "metadata": {
        "id": "sOv6SW2D2a_O"
      },
      "source": [
        "# Estimate by Hansen-Horvitz estimator"
      ]
    },
    {
      "cell_type": "code",
      "execution_count": null,
      "metadata": {
        "id": "nY2otjJ62y3W",
        "colab": {
          "base_uri": "https://localhost:8080/"
        },
        "outputId": "6d173c13-7012-43ac-a01c-83800c091434"
      },
      "outputs": [
        {
          "output_type": "stream",
          "name": "stdout",
          "text": [
            "mu_hat_p: 18.5170\n",
            "Var_hat_mu_hat_p: 0.1972\n",
            "std_dev_hat_var_hat_mu_hat_p: 0.4440\n"
          ]
        }
      ],
      "source": [
        "# Estimating mean using the Hansen-Hurwitz estimator (PPS)\n",
        "yi_bar = final_sample.groupby('New_PSU', observed=False)['Water Temp (?C)'].mean()\n",
        "\n",
        "mu_hat_p = np.mean(yi_bar)\n",
        "\n",
        "# Estimating variance of the Hansen-Hurwitz Estimator\n",
        "Var_hat_mu_hat_p = np.var(yi_bar)/n\n",
        "\n",
        "# Estimating standard Deviation of the Hansen-Hurwitz Estimator\n",
        "std_dev_hat_var_hat_mu_hat_p = np.sqrt(Var_hat_mu_hat_p)\n",
        "\n",
        "# Output results\n",
        "print(f\"mu_hat_p: {mu_hat_p:.4f}\")\n",
        "print(f\"Var_hat_mu_hat_p: {Var_hat_mu_hat_p:.4f}\")\n",
        "print(f\"std_dev_hat_var_hat_mu_hat_p: {std_dev_hat_var_hat_mu_hat_p:.4f}\")"
      ]
    },
    {
      "cell_type": "markdown",
      "source": [
        "*italicized text*# Report 8"
      ],
      "metadata": {
        "id": "vtJxvL3dw1fL"
      }
    },
    {
      "cell_type": "markdown",
      "source": [
        "# Auxiliary Variables"
      ],
      "metadata": {
        "id": "inzIVh5GwvxU"
      }
    },
    {
      "cell_type": "code",
      "source": [
        "import random\n",
        "import statistics\n",
        "N = 514\n",
        "n = 85\n",
        "mu = 14.227 #True Parameter\n",
        "\n",
        "# Auxilary Variable chosen: Air Temperature\n",
        "\n",
        "np.random.seed(42)\n",
        "\n",
        "population = np.arange(0, N)\n",
        "sample = np.random.choice(population, size=n, replace=False)\n",
        "\n",
        "\n",
        "\n",
        "# Performing random sampling (without replacement) for Water Temp\n",
        "sample_water_temp = df[\"Water Temp (?C)\"].iloc[sample]\n",
        "\n",
        "\n",
        "\n",
        "\n",
        "# Performing random sampling (without replacement) for Air Temp\n",
        "sample_air_temp = df[\"Air Temp (?F)\"].iloc[sample]\n",
        "\n",
        "# Performing random sampling (without replacement) for Dissolved Oxygen\n",
        "sample_dissolved_oxygen = df[\"Dissolved Oxygen (mg/L)\"].iloc[sample]\n",
        "\n",
        "\n",
        "print(sample_water_temp)\n",
        "print(sample_air_temp)\n",
        "print(sample_dissolved_oxygen)\n",
        "\n"
      ],
      "metadata": {
        "id": "PwXk6jKYw4nT",
        "colab": {
          "base_uri": "https://localhost:8080/"
        },
        "outputId": "48240466-cfbb-48be-93e5-1319d2be9d48"
      },
      "execution_count": null,
      "outputs": [
        {
          "output_type": "stream",
          "name": "stdout",
          "text": [
            "1044    11.0\n",
            "2265    25.0\n",
            "1928    18.0\n",
            "226     11.5\n",
            "2272    25.0\n",
            "        ... \n",
            "261      8.0\n",
            "480     12.0\n",
            "2333    12.0\n",
            "10      17.5\n",
            "102     11.0\n",
            "Name: Water Temp (?C), Length: 85, dtype: float64\n",
            "1044    43.00\n",
            "2265    73.00\n",
            "1928    60.00\n",
            "226     59.90\n",
            "2272    78.00\n",
            "        ...  \n",
            "261     50.90\n",
            "480     45.00\n",
            "2333    46.00\n",
            "10      61.88\n",
            "102     57.20\n",
            "Name: Air Temp (?F), Length: 85, dtype: float64\n",
            "1044     7.20\n",
            "2265     6.90\n",
            "1928     6.80\n",
            "226      9.90\n",
            "2272     4.20\n",
            "        ...  \n",
            "261     11.80\n",
            "480      9.75\n",
            "2333    10.00\n",
            "10       8.80\n",
            "102      9.95\n",
            "Name: Dissolved Oxygen (mg/L), Length: 85, dtype: float64\n"
          ]
        }
      ]
    },
    {
      "cell_type": "markdown",
      "source": [
        "# Double Sampling with SRS"
      ],
      "metadata": {
        "id": "uYIgCql0w9dt"
      }
    },
    {
      "cell_type": "code",
      "source": [
        "n0 = 170\n",
        "n = 85\n",
        "\n",
        "\n",
        "# First-phase sampling (SRS)\n",
        "np.random.seed(42)\n",
        "population_indices = np.arange(0, N)\n",
        "first_phase_sample_indices = np.random.choice(population_indices, size=n0, replace=False)\n",
        "\n",
        "\n",
        "# First-phase sample for Water Temp and Air Temp\n",
        "first_phase_water_temp = df[\"Water Temp (?C)\"].iloc[first_phase_sample_indices]\n",
        "first_phase_air_temp = df[\"Air Temp (?F)\"].iloc[first_phase_sample_indices]\n",
        "first_phase_dissolved_oxygen = df[\"Dissolved Oxygen (mg/L)\"].iloc[first_phase_sample_indices]\n",
        "\n",
        "# Second-phase sampling\n",
        "second_phase_sample_indices = np.random.choice(np.arange(0, n0), size=n, replace=False)\n",
        "\n",
        "\n",
        "# Second-phase sample for Water Temp and Air Temp\n",
        "second_phase_water_temp = first_phase_water_temp.iloc[second_phase_sample_indices]\n",
        "second_phase_air_temp = first_phase_air_temp.iloc[second_phase_sample_indices]\n",
        "second_phase_dissolved_oxygen = first_phase_dissolved_oxygen.iloc[second_phase_sample_indices]\n",
        "\n",
        "# Combine first-phase and second-phase samples\n",
        "first_phase_df = pd.DataFrame({\n",
        "    \"WaterTemp\": first_phase_water_temp,\n",
        "    \"AirTemp\": first_phase_air_temp,\n",
        "    \"DissolvedOxygen\": first_phase_dissolved_oxygen\n",
        "})\n",
        "\n",
        "\n",
        "second_phase_df = pd.DataFrame({\n",
        "    \"WaterTemp\": second_phase_water_temp,\n",
        "    \"AirTemp\": second_phase_air_temp,\n",
        "    \"DissolvedOxygen\": second_phase_dissolved_oxygen\n",
        "})\n",
        "\n",
        "\n",
        "# Perform regression analysis for first phase\n",
        "first_phase_res = smf.ols(\"WaterTemp ~ AirTemp\", data=first_phase_df).fit()\n",
        "first_phase_res_oxy = smf.ols(\"WaterTemp ~ DissolvedOxygen\", data=first_phase_df).fit()\n",
        "\n",
        "# Perform regression analysis for second phase\n",
        "second_phase_res = smf.ols(\"WaterTemp ~ AirTemp\", data=second_phase_df).fit()\n",
        "second_phase_res_oxy = smf.ols(\"WaterTemp ~ DissolvedOxygen\", data=second_phase_df).fit()\n",
        "\n",
        "# Print results\n",
        "print(\"\\nFirst Phase Regression Summary (WaterTemp ~ AirTemp):\")\n",
        "print(first_phase_res.summary())\n",
        "\n",
        "print(\"\\nSecond Phase Regression Summary (WaterTemp ~ AirTemp):\")\n",
        "print(second_phase_res.summary())\n",
        "\n",
        "print(\"\\nFirst Phase Regression Summary (WaterTemp ~ DissolvedOxygen):\")\n",
        "print(first_phase_res_oxy.summary())\n",
        "\n",
        "print(\"\\nSecond Phase Regression Summary (WaterTemp ~ DissolvedOxygen):\")\n",
        "print(second_phase_res_oxy.summary())\n"
      ],
      "metadata": {
        "id": "De7jMtB-xBwb",
        "colab": {
          "base_uri": "https://localhost:8080/"
        },
        "outputId": "fb66e930-7af4-441e-cadc-253b93c8c215"
      },
      "execution_count": null,
      "outputs": [
        {
          "output_type": "stream",
          "name": "stdout",
          "text": [
            "\n",
            "First Phase Regression Summary (WaterTemp ~ AirTemp):\n",
            "                            OLS Regression Results                            \n",
            "==============================================================================\n",
            "Dep. Variable:              WaterTemp   R-squared:                       0.807\n",
            "Model:                            OLS   Adj. R-squared:                  0.806\n",
            "Method:                 Least Squares   F-statistic:                     703.6\n",
            "Date:                Mon, 09 Dec 2024   Prob (F-statistic):           5.97e-62\n",
            "Time:                        06:13:41   Log-Likelihood:                -410.40\n",
            "No. Observations:                 170   AIC:                             824.8\n",
            "Df Residuals:                     168   BIC:                             831.1\n",
            "Df Model:                           1                                         \n",
            "Covariance Type:            nonrobust                                         \n",
            "==============================================================================\n",
            "                 coef    std err          t      P>|t|      [0.025      0.975]\n",
            "------------------------------------------------------------------------------\n",
            "Intercept    -11.2080      0.998    -11.235      0.000     -13.177      -9.239\n",
            "AirTemp        0.4492      0.017     26.525      0.000       0.416       0.483\n",
            "==============================================================================\n",
            "Omnibus:                       20.782   Durbin-Watson:                   1.711\n",
            "Prob(Omnibus):                  0.000   Jarque-Bera (JB):               71.799\n",
            "Skew:                           0.324   Prob(JB):                     2.56e-16\n",
            "Kurtosis:                       6.117   Cond. No.                         282.\n",
            "==============================================================================\n",
            "\n",
            "Notes:\n",
            "[1] Standard Errors assume that the covariance matrix of the errors is correctly specified.\n",
            "\n",
            "Second Phase Regression Summary (WaterTemp ~ AirTemp):\n",
            "                            OLS Regression Results                            \n",
            "==============================================================================\n",
            "Dep. Variable:              WaterTemp   R-squared:                       0.854\n",
            "Model:                            OLS   Adj. R-squared:                  0.853\n",
            "Method:                 Least Squares   F-statistic:                     487.0\n",
            "Date:                Mon, 09 Dec 2024   Prob (F-statistic):           1.77e-36\n",
            "Time:                        06:13:41   Log-Likelihood:                -192.33\n",
            "No. Observations:                  85   AIC:                             388.7\n",
            "Df Residuals:                      83   BIC:                             393.6\n",
            "Df Model:                           1                                         \n",
            "Covariance Type:            nonrobust                                         \n",
            "==============================================================================\n",
            "                 coef    std err          t      P>|t|      [0.025      0.975]\n",
            "------------------------------------------------------------------------------\n",
            "Intercept    -11.1910      1.184     -9.450      0.000     -13.546      -8.836\n",
            "AirTemp        0.4490      0.020     22.068      0.000       0.408       0.489\n",
            "==============================================================================\n",
            "Omnibus:                        0.847   Durbin-Watson:                   2.074\n",
            "Prob(Omnibus):                  0.655   Jarque-Bera (JB):                0.848\n",
            "Skew:                           0.020   Prob(JB):                        0.654\n",
            "Kurtosis:                       2.512   Cond. No.                         270.\n",
            "==============================================================================\n",
            "\n",
            "Notes:\n",
            "[1] Standard Errors assume that the covariance matrix of the errors is correctly specified.\n",
            "\n",
            "First Phase Regression Summary (WaterTemp ~ DissolvedOxygen):\n",
            "                            OLS Regression Results                            \n",
            "==============================================================================\n",
            "Dep. Variable:              WaterTemp   R-squared:                       0.314\n",
            "Model:                            OLS   Adj. R-squared:                  0.310\n",
            "Method:                 Least Squares   F-statistic:                     77.06\n",
            "Date:                Mon, 09 Dec 2024   Prob (F-statistic):           1.83e-15\n",
            "Time:                        06:13:41   Log-Likelihood:                -518.25\n",
            "No. Observations:                 170   AIC:                             1040.\n",
            "Df Residuals:                     168   BIC:                             1047.\n",
            "Df Model:                           1                                         \n",
            "Covariance Type:            nonrobust                                         \n",
            "===================================================================================\n",
            "                      coef    std err          t      P>|t|      [0.025      0.975]\n",
            "-----------------------------------------------------------------------------------\n",
            "Intercept          26.0903      1.360     19.191      0.000      23.406      28.774\n",
            "DissolvedOxygen    -1.4085      0.160     -8.778      0.000      -1.725      -1.092\n",
            "==============================================================================\n",
            "Omnibus:                        3.288   Durbin-Watson:                   2.266\n",
            "Prob(Omnibus):                  0.193   Jarque-Bera (JB):                3.093\n",
            "Skew:                          -0.264   Prob(JB):                        0.213\n",
            "Kurtosis:                       2.602   Cond. No.                         29.6\n",
            "==============================================================================\n",
            "\n",
            "Notes:\n",
            "[1] Standard Errors assume that the covariance matrix of the errors is correctly specified.\n",
            "\n",
            "Second Phase Regression Summary (WaterTemp ~ DissolvedOxygen):\n",
            "                            OLS Regression Results                            \n",
            "==============================================================================\n",
            "Dep. Variable:              WaterTemp   R-squared:                       0.232\n",
            "Model:                            OLS   Adj. R-squared:                  0.223\n",
            "Method:                 Least Squares   F-statistic:                     25.08\n",
            "Date:                Mon, 09 Dec 2024   Prob (F-statistic):           3.05e-06\n",
            "Time:                        06:13:41   Log-Likelihood:                -263.00\n",
            "No. Observations:                  85   AIC:                             530.0\n",
            "Df Residuals:                      83   BIC:                             534.9\n",
            "Df Model:                           1                                         \n",
            "Covariance Type:            nonrobust                                         \n",
            "===================================================================================\n",
            "                      coef    std err          t      P>|t|      [0.025      0.975]\n",
            "-----------------------------------------------------------------------------------\n",
            "Intercept          23.7489      1.970     12.054      0.000      19.830      27.668\n",
            "DissolvedOxygen    -1.1369      0.227     -5.008      0.000      -1.588      -0.685\n",
            "==============================================================================\n",
            "Omnibus:                        3.516   Durbin-Watson:                   1.681\n",
            "Prob(Omnibus):                  0.172   Jarque-Bera (JB):                2.498\n",
            "Skew:                          -0.254   Prob(JB):                        0.287\n",
            "Kurtosis:                       2.332   Cond. No.                         29.5\n",
            "==============================================================================\n",
            "\n",
            "Notes:\n",
            "[1] Standard Errors assume that the covariance matrix of the errors is correctly specified.\n"
          ]
        }
      ]
    },
    {
      "cell_type": "markdown",
      "source": [
        "# Diagnostic Analysis"
      ],
      "metadata": {
        "id": "3HBL27_xxOV6"
      }
    },
    {
      "cell_type": "code",
      "source": [
        "dataframe = pd.DataFrame({\n",
        "    \"WaterTemp\": sample_water_temp,\n",
        "    \"AirTemp\": sample_air_temp,\n",
        "    \"DissolvedOxygen\": sample_dissolved_oxygen\n",
        "})\n",
        "\n",
        "print(\"\\nPopulation regression results (WaterTemp ~ AirTemp):\")\n",
        "res = smf.ols(\"WaterTemp ~ AirTemp\", data = dataframe).fit()\n",
        "print(res.summary())\n",
        "print(\"Coefficients:\\n\", res.params)\n",
        "print(\"\\nP-values:\\n\", res.pvalues)\n",
        "\n",
        "print(\"\\nPopulation regression results (WaterTemp ~ DissolvedOxygen):\")\n",
        "res_oxy = smf.ols(\"WaterTemp ~ DissolvedOxygen\", data = dataframe).fit()\n",
        "print(res_oxy.summary())\n",
        "print(\"Coefficients:\\n\", res_oxy.params)\n",
        "print(\"\\nP-values:\\n\", res_oxy.pvalues)"
      ],
      "metadata": {
        "id": "2G3QIHtixPzw",
        "colab": {
          "base_uri": "https://localhost:8080/"
        },
        "outputId": "362a5f36-7755-40e4-f94f-346e2b9cb546"
      },
      "execution_count": null,
      "outputs": [
        {
          "output_type": "stream",
          "name": "stdout",
          "text": [
            "\n",
            "Population regression results (WaterTemp ~ AirTemp):\n",
            "                            OLS Regression Results                            \n",
            "==============================================================================\n",
            "Dep. Variable:              WaterTemp   R-squared:                       0.770\n",
            "Model:                            OLS   Adj. R-squared:                  0.767\n",
            "Method:                 Least Squares   F-statistic:                     277.7\n",
            "Date:                Mon, 09 Dec 2024   Prob (F-statistic):           3.27e-28\n",
            "Time:                        06:13:41   Log-Likelihood:                -207.86\n",
            "No. Observations:                  85   AIC:                             419.7\n",
            "Df Residuals:                      83   BIC:                             424.6\n",
            "Df Model:                           1                                         \n",
            "Covariance Type:            nonrobust                                         \n",
            "==============================================================================\n",
            "                 coef    std err          t      P>|t|      [0.025      0.975]\n",
            "------------------------------------------------------------------------------\n",
            "Intercept    -12.3411      1.657     -7.449      0.000     -15.636      -9.046\n",
            "AirTemp        0.4710      0.028     16.665      0.000       0.415       0.527\n",
            "==============================================================================\n",
            "Omnibus:                       26.890   Durbin-Watson:                   1.417\n",
            "Prob(Omnibus):                  0.000   Jarque-Bera (JB):               68.374\n",
            "Skew:                           1.037   Prob(JB):                     1.42e-15\n",
            "Kurtosis:                       6.873   Cond. No.                         317.\n",
            "==============================================================================\n",
            "\n",
            "Notes:\n",
            "[1] Standard Errors assume that the covariance matrix of the errors is correctly specified.\n",
            "Coefficients:\n",
            " Intercept   -12.341116\n",
            "AirTemp       0.471023\n",
            "dtype: float64\n",
            "\n",
            "P-values:\n",
            " Intercept    8.057487e-11\n",
            "AirTemp      3.272540e-28\n",
            "dtype: float64\n",
            "\n",
            "Population regression results (WaterTemp ~ DissolvedOxygen):\n",
            "                            OLS Regression Results                            \n",
            "==============================================================================\n",
            "Dep. Variable:              WaterTemp   R-squared:                       0.279\n",
            "Model:                            OLS   Adj. R-squared:                  0.270\n",
            "Method:                 Least Squares   F-statistic:                     32.11\n",
            "Date:                Mon, 09 Dec 2024   Prob (F-statistic):           2.05e-07\n",
            "Time:                        06:13:41   Log-Likelihood:                -256.41\n",
            "No. Observations:                  85   AIC:                             516.8\n",
            "Df Residuals:                      83   BIC:                             521.7\n",
            "Df Model:                           1                                         \n",
            "Covariance Type:            nonrobust                                         \n",
            "===================================================================================\n",
            "                      coef    std err          t      P>|t|      [0.025      0.975]\n",
            "-----------------------------------------------------------------------------------\n",
            "Intercept          24.1725      1.742     13.879      0.000      20.708      27.636\n",
            "DissolvedOxygen    -1.1473      0.202     -5.667      0.000      -1.550      -0.745\n",
            "==============================================================================\n",
            "Omnibus:                        0.593   Durbin-Watson:                   2.201\n",
            "Prob(Omnibus):                  0.743   Jarque-Bera (JB):                0.705\n",
            "Skew:                          -0.180   Prob(JB):                        0.703\n",
            "Kurtosis:                       2.737   Cond. No.                         28.0\n",
            "==============================================================================\n",
            "\n",
            "Notes:\n",
            "[1] Standard Errors assume that the covariance matrix of the errors is correctly specified.\n",
            "Coefficients:\n",
            " Intercept          24.172451\n",
            "DissolvedOxygen    -1.147271\n",
            "dtype: float64\n",
            "\n",
            "P-values:\n",
            " Intercept          2.423520e-23\n",
            "DissolvedOxygen    2.048075e-07\n",
            "dtype: float64\n"
          ]
        }
      ]
    },
    {
      "cell_type": "markdown",
      "source": [
        "# Ratio Estimator for Two Phase Sampling\n",
        "(Air temp auxiliary variable)"
      ],
      "metadata": {
        "id": "_YRQm_fd-ye2"
      }
    },
    {
      "cell_type": "code",
      "source": [
        "two_phase_r = np.sum(second_phase_df[\"WaterTemp\"].to_numpy()) / np.sum(second_phase_df[\"AirTemp\"].to_numpy())\n",
        "two_phase_est_mu_r = two_phase_r * np.mean(first_phase_df[\"AirTemp\"].to_numpy())\n",
        "\n",
        "two_phase_subsample_var = np.var(second_phase_df[\"WaterTemp\"].to_numpy())\n",
        "\n",
        "two_phase_est_var_est_mu_r = N * (N - n0) * (two_phase_subsample_var / n0)\n",
        "for i in range(0, n):\n",
        "    two_phase_est_var_est_mu_r += (N**2) * ((n0-n)/(n0*n*(n-1))) * ((second_phase_df[\"WaterTemp\"].iloc[i] - (two_phase_r*second_phase_df[\"AirTemp\"].iloc[i]))**2)\n",
        "two_phase_est_var_est_mu_r /= (N**2) # divide by N^2 for mu var instead of tau var\n",
        "\n",
        "print(\"mu^_r using auxiliary variable Air Temp: \" + str(two_phase_est_mu_r))\n",
        "print(\"V^(mu^_r) using auxiliary variable Air Temp: \" + str(two_phase_est_var_est_mu_r))"
      ],
      "metadata": {
        "id": "XlxzcgWV_y0G",
        "colab": {
          "base_uri": "https://localhost:8080/"
        },
        "outputId": "3f02eb7e-a626-40aa-f950-03044f0e16b0"
      },
      "execution_count": null,
      "outputs": [
        {
          "output_type": "stream",
          "name": "stdout",
          "text": [
            "mu^_r using auxiliary variable Air Temp: 14.520108795831275\n",
            "V^(mu^_r) using auxiliary variable Air Temp: 0.21467551988848166\n"
          ]
        }
      ]
    },
    {
      "cell_type": "markdown",
      "source": [
        "(Dissolved oxygen auxiliary variable)"
      ],
      "metadata": {
        "id": "opruu_eJK4sb"
      }
    },
    {
      "cell_type": "code",
      "source": [
        "two_phase_r_oxy = np.sum(second_phase_df[\"WaterTemp\"].to_numpy()) / np.sum(second_phase_df[\"DissolvedOxygen\"].to_numpy())\n",
        "two_phase_est_mu_r_oxy = two_phase_r_oxy * np.mean(first_phase_df[\"DissolvedOxygen\"].to_numpy())\n",
        "\n",
        "two_phase_est_var_est_mu_r_oxy = N * (N - n0) * (two_phase_subsample_var / n0)\n",
        "for j in range(0, n):\n",
        "    two_phase_est_var_est_mu_r_oxy += (N**2) * ((n0-n)/(n0*n*(n-1))) * ((second_phase_df[\"WaterTemp\"].iloc[j] - (two_phase_r_oxy*second_phase_df[\"DissolvedOxygen\"].iloc[j]))**2)\n",
        "two_phase_est_var_est_mu_r_oxy /= (N**2) # divide by N^2 for mu var instead of tau var\n",
        "\n",
        "print(\"mu^_r using auxiliary variable Dissolved Oxygen: \" + str(two_phase_est_mu_r_oxy))\n",
        "print(\"V^(mu^_r) using auxiliary variable Dissolved Oxygen: \" + str(two_phase_est_var_est_mu_r_oxy))"
      ],
      "metadata": {
        "colab": {
          "base_uri": "https://localhost:8080/"
        },
        "id": "W81jl9WWK8Gf",
        "outputId": "b2e25755-fc95-4107-b04b-46aef7a50add"
      },
      "execution_count": null,
      "outputs": [
        {
          "output_type": "stream",
          "name": "stdout",
          "text": [
            "mu^_r using auxiliary variable Dissolved Oxygen: 14.024407212964697\n",
            "V^(mu^_r) using auxiliary variable Dissolved Oxygen: 0.6418596832567505\n"
          ]
        }
      ]
    },
    {
      "cell_type": "markdown",
      "source": [
        "Report 8 Alternate"
      ],
      "metadata": {
        "id": "R-VN9PTx8n2A"
      }
    },
    {
      "cell_type": "code",
      "source": [
        "import random\n",
        "import statistics\n",
        "N = 514\n",
        "n = 85\n",
        "mu = 14.227 #True Parameter\n",
        "\n",
        "# Auxilary Variable chosen: Air Temperature\n",
        "\n",
        "np.random.seed(42)\n",
        "\n",
        "#Double Sampling with SRS\n",
        "first_phase_sample = random.sample(list(range(0, N)), n*2)\n",
        "second_phase_sample = random.sample(first_phase_sample, n)\n",
        "\n",
        "#sample = np.random.choice(population, size=n, replace=False)\n",
        "\n",
        "# Performing random sampling (without replacement) for Water Temp\n",
        "sample_water_temp = df[\"Water Temp (?C)\"].iloc[second_phase_sample]\n",
        "\n",
        "\n",
        "# Performing random sampling (without replacement) for Air Temp\n",
        "sample_air_temp = df[\"Air Temp (?F)\"].iloc[second_phase_sample]\n",
        "print(sample_water_temp)\n",
        "print(sample_air_temp)\n",
        "data_thing = pd.DataFrame({\n",
        "    \"WaterTemp\": sample_water_temp,\n",
        "    \"AirTemp\": sample_air_temp\n",
        "})\n",
        "#res = smf.ols(\"WaterTemp ~ AirTemp\", data = data_thing).fit()\n",
        "#res.summary()"
      ],
      "metadata": {
        "colab": {
          "base_uri": "https://localhost:8080/"
        },
        "id": "M9L2Dswy8rxF",
        "outputId": "c9339ef3-31b0-4e80-cd4e-2b34b5670862"
      },
      "execution_count": null,
      "outputs": [
        {
          "output_type": "stream",
          "name": "stdout",
          "text": [
            "483     23.0\n",
            "2168    20.0\n",
            "32      17.0\n",
            "1894    19.0\n",
            "477      3.0\n",
            "        ... \n",
            "1508    24.0\n",
            "1147    17.0\n",
            "2334    15.0\n",
            "2045    13.0\n",
            "1494    12.0\n",
            "Name: Water Temp (?C), Length: 85, dtype: float64\n",
            "483     71.0\n",
            "2168    72.0\n",
            "32      62.6\n",
            "1894    69.0\n",
            "477     43.0\n",
            "        ... \n",
            "1508    70.0\n",
            "1147    62.6\n",
            "2334    59.0\n",
            "2045    55.0\n",
            "1494    55.0\n",
            "Name: Air Temp (?F), Length: 85, dtype: float64\n"
          ]
        }
      ]
    },
    {
      "cell_type": "code",
      "source": [
        "print(res.pvalues)\n",
        "#Since both the p-values are <0.05 they are statistically significant and therefore\n",
        "#x and y have a linear relationship and the fitted line doesn't go through the origin\n",
        "\n",
        "#As a result of the fitted line not going through the origin I would recommend to\n",
        "#Use linear regression estimator instead of ratio estimator\n",
        "\n",
        "full_list = list(range(0, N))\n",
        "full_df = df['Air Temp (?F)'].iloc[full_list].copy()\n",
        "full_df_ = list()\n",
        "for i, value in enumerate(full_df):\n",
        "  full_df_.append(value)\n",
        "ful = df[\"Water Temp (?C)\"].iloc[full_list].copy()\n",
        "ful_ = list()\n",
        "for i, value in enumerate(ful):\n",
        "  ful_.append(value)\n",
        "top = 0\n",
        "for x in second_phase_sample:\n",
        "  top = top + ful_[x]\n",
        "bottom = 0\n",
        "for x in second_phase_sample:\n",
        "  bottom = bottom + full_df_[x]\n",
        "r = top / bottom\n",
        "tau_hat_x = 0\n",
        "for x in first_phase_sample:\n",
        "  tau_hat_x = tau_hat_x + full_df_[x]\n",
        "tau_hat_x = tau_hat_x*(N/(n*2))\n",
        "\n",
        "#Estimate parameter of interest by ratio estimator\n",
        "mu_hat_r = (r*tau_hat_x)/N\n",
        "display(Math(r'{\\hat{\\mu_{r}}} = ' + str(round(mu_hat_r, 3))))\n",
        "\n",
        "#Estimating variance\n",
        "data = list()\n",
        "for x in second_phase_sample:\n",
        "  data.append(ful_[x])\n",
        "s_squared = statistics.variance(data)\n",
        "\n",
        "var_hat_mu_hat_r = 0\n",
        "for x in second_phase_sample:\n",
        "  var_hat_mu_hat_r = var_hat_mu_hat_r + ((ful_[x] - r*full_df_[x]) ** 2)\n",
        "var_hat_mu_hat_r = ((N**2)*((2*n - n)/((2*n)*n*(n - 1))))*var_hat_mu_hat_r\n",
        "var_hat_mu_hat_r = var_hat_mu_hat_r + N*(N - 2*n)*s_squared/(2*n)\n",
        "var_hat_mu_hat_r = (1/(N**2))*var_hat_mu_hat_r\n",
        "display(Math(r'{\\hat{var}}({\\hat{\\mu_{r}}}) = ' + str(round(var_hat_mu_hat_r, 3))))\n",
        "print(\"Standard Deviation: \", math.sqrt(var_hat_mu_hat_r))"
      ],
      "metadata": {
        "colab": {
          "base_uri": "https://localhost:8080/",
          "height": 127
        },
        "id": "UidVMn_aIf8C",
        "outputId": "8eb6876f-d9f4-4ad8-cbdb-732aab499b8b"
      },
      "execution_count": null,
      "outputs": [
        {
          "output_type": "stream",
          "name": "stdout",
          "text": [
            "Intercept    8.057487e-11\n",
            "AirTemp      3.272540e-28\n",
            "dtype: float64\n"
          ]
        },
        {
          "output_type": "display_data",
          "data": {
            "text/plain": [
              "<IPython.core.display.Math object>"
            ],
            "text/latex": "$\\displaystyle {\\hat{\\mu_{r}}} = 13.853$"
          },
          "metadata": {}
        },
        {
          "output_type": "display_data",
          "data": {
            "text/plain": [
              "<IPython.core.display.Math object>"
            ],
            "text/latex": "$\\displaystyle {\\hat{var}}({\\hat{\\mu_{r}}}) = 0.254$"
          },
          "metadata": {}
        },
        {
          "output_type": "stream",
          "name": "stdout",
          "text": [
            "Standard Deviation:  0.5036278432361316\n"
          ]
        }
      ]
    },
    {
      "cell_type": "code",
      "source": [
        "# Auxilary Variable chosen: Dissolved Oxygen\n",
        "\n",
        "# Performing random sampling (without replacement) for Dissolved Oxygen\n",
        "sample_air_temp = df[\"Dissolved Oxygen (mg/L)\"].iloc[second_phase_sample]\n",
        "\n",
        "data_thing = pd.DataFrame({\n",
        "    \"WaterTemp\": sample_water_temp,\n",
        "    \"DissolvedOxygen\": sample_air_temp\n",
        "})\n",
        "res = smf.ols(\"WaterTemp ~ DissolvedOxygen\", data = data_thing).fit()\n",
        "res.summary()\n"
      ],
      "metadata": {
        "colab": {
          "base_uri": "https://localhost:8080/",
          "height": 451
        },
        "id": "qmYt9YqsCIiF",
        "outputId": "93d93d9a-eef9-4b59-b5df-d5b9c7428246"
      },
      "execution_count": null,
      "outputs": [
        {
          "output_type": "execute_result",
          "data": {
            "text/plain": [
              "<class 'statsmodels.iolib.summary.Summary'>\n",
              "\"\"\"\n",
              "                            OLS Regression Results                            \n",
              "==============================================================================\n",
              "Dep. Variable:              WaterTemp   R-squared:                       0.186\n",
              "Model:                            OLS   Adj. R-squared:                  0.177\n",
              "Method:                 Least Squares   F-statistic:                     19.01\n",
              "Date:                Mon, 09 Dec 2024   Prob (F-statistic):           3.71e-05\n",
              "Time:                        06:13:42   Log-Likelihood:                -270.35\n",
              "No. Observations:                  85   AIC:                             544.7\n",
              "Df Residuals:                      83   BIC:                             549.6\n",
              "Df Model:                           1                                         \n",
              "Covariance Type:            nonrobust                                         \n",
              "===================================================================================\n",
              "                      coef    std err          t      P>|t|      [0.025      0.975]\n",
              "-----------------------------------------------------------------------------------\n",
              "Intercept          23.5076      2.304     10.201      0.000      18.924      28.091\n",
              "DissolvedOxygen    -1.1852      0.272     -4.360      0.000      -1.726      -0.645\n",
              "==============================================================================\n",
              "Omnibus:                        2.027   Durbin-Watson:                   1.859\n",
              "Prob(Omnibus):                  0.363   Jarque-Bera (JB):                1.940\n",
              "Skew:                          -0.361   Prob(JB):                        0.379\n",
              "Kurtosis:                       2.835   Cond. No.                         31.0\n",
              "==============================================================================\n",
              "\n",
              "Notes:\n",
              "[1] Standard Errors assume that the covariance matrix of the errors is correctly specified.\n",
              "\"\"\""
            ],
            "text/html": [
              "<table class=\"simpletable\">\n",
              "<caption>OLS Regression Results</caption>\n",
              "<tr>\n",
              "  <th>Dep. Variable:</th>        <td>WaterTemp</td>    <th>  R-squared:         </th> <td>   0.186</td>\n",
              "</tr>\n",
              "<tr>\n",
              "  <th>Model:</th>                   <td>OLS</td>       <th>  Adj. R-squared:    </th> <td>   0.177</td>\n",
              "</tr>\n",
              "<tr>\n",
              "  <th>Method:</th>             <td>Least Squares</td>  <th>  F-statistic:       </th> <td>   19.01</td>\n",
              "</tr>\n",
              "<tr>\n",
              "  <th>Date:</th>             <td>Mon, 09 Dec 2024</td> <th>  Prob (F-statistic):</th> <td>3.71e-05</td>\n",
              "</tr>\n",
              "<tr>\n",
              "  <th>Time:</th>                 <td>06:13:42</td>     <th>  Log-Likelihood:    </th> <td> -270.35</td>\n",
              "</tr>\n",
              "<tr>\n",
              "  <th>No. Observations:</th>      <td>    85</td>      <th>  AIC:               </th> <td>   544.7</td>\n",
              "</tr>\n",
              "<tr>\n",
              "  <th>Df Residuals:</th>          <td>    83</td>      <th>  BIC:               </th> <td>   549.6</td>\n",
              "</tr>\n",
              "<tr>\n",
              "  <th>Df Model:</th>              <td>     1</td>      <th>                     </th>     <td> </td>   \n",
              "</tr>\n",
              "<tr>\n",
              "  <th>Covariance Type:</th>      <td>nonrobust</td>    <th>                     </th>     <td> </td>   \n",
              "</tr>\n",
              "</table>\n",
              "<table class=\"simpletable\">\n",
              "<tr>\n",
              "         <td></td>            <th>coef</th>     <th>std err</th>      <th>t</th>      <th>P>|t|</th>  <th>[0.025</th>    <th>0.975]</th>  \n",
              "</tr>\n",
              "<tr>\n",
              "  <th>Intercept</th>       <td>   23.5076</td> <td>    2.304</td> <td>   10.201</td> <td> 0.000</td> <td>   18.924</td> <td>   28.091</td>\n",
              "</tr>\n",
              "<tr>\n",
              "  <th>DissolvedOxygen</th> <td>   -1.1852</td> <td>    0.272</td> <td>   -4.360</td> <td> 0.000</td> <td>   -1.726</td> <td>   -0.645</td>\n",
              "</tr>\n",
              "</table>\n",
              "<table class=\"simpletable\">\n",
              "<tr>\n",
              "  <th>Omnibus:</th>       <td> 2.027</td> <th>  Durbin-Watson:     </th> <td>   1.859</td>\n",
              "</tr>\n",
              "<tr>\n",
              "  <th>Prob(Omnibus):</th> <td> 0.363</td> <th>  Jarque-Bera (JB):  </th> <td>   1.940</td>\n",
              "</tr>\n",
              "<tr>\n",
              "  <th>Skew:</th>          <td>-0.361</td> <th>  Prob(JB):          </th> <td>   0.379</td>\n",
              "</tr>\n",
              "<tr>\n",
              "  <th>Kurtosis:</th>      <td> 2.835</td> <th>  Cond. No.          </th> <td>    31.0</td>\n",
              "</tr>\n",
              "</table><br/><br/>Notes:<br/>[1] Standard Errors assume that the covariance matrix of the errors is correctly specified."
            ],
            "text/latex": "\\begin{center}\n\\begin{tabular}{lclc}\n\\toprule\n\\textbf{Dep. Variable:}    &    WaterTemp     & \\textbf{  R-squared:         } &     0.186   \\\\\n\\textbf{Model:}            &       OLS        & \\textbf{  Adj. R-squared:    } &     0.177   \\\\\n\\textbf{Method:}           &  Least Squares   & \\textbf{  F-statistic:       } &     19.01   \\\\\n\\textbf{Date:}             & Mon, 09 Dec 2024 & \\textbf{  Prob (F-statistic):} &  3.71e-05   \\\\\n\\textbf{Time:}             &     06:13:42     & \\textbf{  Log-Likelihood:    } &   -270.35   \\\\\n\\textbf{No. Observations:} &          85      & \\textbf{  AIC:               } &     544.7   \\\\\n\\textbf{Df Residuals:}     &          83      & \\textbf{  BIC:               } &     549.6   \\\\\n\\textbf{Df Model:}         &           1      & \\textbf{                     } &             \\\\\n\\textbf{Covariance Type:}  &    nonrobust     & \\textbf{                     } &             \\\\\n\\bottomrule\n\\end{tabular}\n\\begin{tabular}{lcccccc}\n                         & \\textbf{coef} & \\textbf{std err} & \\textbf{t} & \\textbf{P$> |$t$|$} & \\textbf{[0.025} & \\textbf{0.975]}  \\\\\n\\midrule\n\\textbf{Intercept}       &      23.5076  &        2.304     &    10.201  &         0.000        &       18.924    &       28.091     \\\\\n\\textbf{DissolvedOxygen} &      -1.1852  &        0.272     &    -4.360  &         0.000        &       -1.726    &       -0.645     \\\\\n\\bottomrule\n\\end{tabular}\n\\begin{tabular}{lclc}\n\\textbf{Omnibus:}       &  2.027 & \\textbf{  Durbin-Watson:     } &    1.859  \\\\\n\\textbf{Prob(Omnibus):} &  0.363 & \\textbf{  Jarque-Bera (JB):  } &    1.940  \\\\\n\\textbf{Skew:}          & -0.361 & \\textbf{  Prob(JB):          } &    0.379  \\\\\n\\textbf{Kurtosis:}      &  2.835 & \\textbf{  Cond. No.          } &     31.0  \\\\\n\\bottomrule\n\\end{tabular}\n%\\caption{OLS Regression Results}\n\\end{center}\n\nNotes: \\newline\n [1] Standard Errors assume that the covariance matrix of the errors is correctly specified."
          },
          "metadata": {},
          "execution_count": 97
        }
      ]
    },
    {
      "cell_type": "code",
      "source": [
        "print(res.pvalues)\n",
        "#Since both the p-values are <0.05 they are statistically significant and therefore\n",
        "#x and y have a linear relationship and the fitted line doesn't go through the origin\n",
        "\n",
        "#As a result of the fitted line not going through the origin I would recommend to\n",
        "#Use linear regression estimator instead of ratio estimator\n",
        "\n",
        "full_list = list(range(0, N))\n",
        "full_df = df['Dissolved Oxygen (mg/L)'].iloc[full_list].copy()\n",
        "full_df_ = list()\n",
        "for i, value in enumerate(full_df):\n",
        "  full_df_.append(value)\n",
        "ful = df[\"Water Temp (?C)\"].iloc[full_list].copy()\n",
        "ful_ = list()\n",
        "for i, value in enumerate(ful):\n",
        "  ful_.append(value)\n",
        "top = 0\n",
        "for x in second_phase_sample:\n",
        "  top = top + ful_[x]\n",
        "bottom = 0\n",
        "for x in second_phase_sample:\n",
        "  bottom = bottom + full_df_[x]\n",
        "r = top / bottom\n",
        "tau_hat_x = 0\n",
        "for x in first_phase_sample:\n",
        "  tau_hat_x = tau_hat_x + full_df_[x]\n",
        "tau_hat_x = tau_hat_x*(N/(n*2))\n",
        "\n",
        "#Estimate parameter of interest by ratio estimator\n",
        "mu_hat_r = (r*tau_hat_x)/N\n",
        "display(Math(r'{\\hat{\\mu_{r}}} = ' + str(round(mu_hat_r, 3))))\n",
        "\n",
        "#Estimating variance\n",
        "data = list()\n",
        "for x in second_phase_sample:\n",
        "  data.append(ful_[x])\n",
        "s_squared = statistics.variance(data)\n",
        "\n",
        "var_hat_mu_hat_r = 0\n",
        "for x in second_phase_sample:\n",
        "  var_hat_mu_hat_r = var_hat_mu_hat_r + ((ful_[x] - r*full_df_[x]) ** 2)\n",
        "var_hat_mu_hat_r = ((N**2)*((2*n - n)/((2*n)*n*(n - 1))))*var_hat_mu_hat_r\n",
        "var_hat_mu_hat_r = var_hat_mu_hat_r + N*(N - 2*n)*s_squared/(2*n)\n",
        "var_hat_mu_hat_r = (1/(N**2))*var_hat_mu_hat_r\n",
        "display(Math(r'{\\hat{var}}({\\hat{\\mu_{r}}}) = ' + str(round(var_hat_mu_hat_r, 3))))\n",
        "print(\"Standard Deviation: \", math.sqrt(var_hat_mu_hat_r))\n",
        "print(\"95% CI: \", f\"({mu_hat_r - 1.989*np.sqrt(var_hat_mu_hat_r)}, {mu_hat_r + 1.989*np.sqrt(var_hat_mu_hat_r)})\")"
      ],
      "metadata": {
        "colab": {
          "base_uri": "https://localhost:8080/",
          "height": 144
        },
        "id": "O3Ji0LSCIVE_",
        "outputId": "7b8d0927-0389-429c-f526-edecde0b503a"
      },
      "execution_count": null,
      "outputs": [
        {
          "output_type": "stream",
          "name": "stdout",
          "text": [
            "Intercept          2.622453e-16\n",
            "DissolvedOxygen    3.705553e-05\n",
            "dtype: float64\n"
          ]
        },
        {
          "output_type": "display_data",
          "data": {
            "text/plain": [
              "<IPython.core.display.Math object>"
            ],
            "text/latex": "$\\displaystyle {\\hat{\\mu_{r}}} = 13.71$"
          },
          "metadata": {}
        },
        {
          "output_type": "display_data",
          "data": {
            "text/plain": [
              "<IPython.core.display.Math object>"
            ],
            "text/latex": "$\\displaystyle {\\hat{var}}({\\hat{\\mu_{r}}}) = 0.642$"
          },
          "metadata": {}
        },
        {
          "output_type": "stream",
          "name": "stdout",
          "text": [
            "Standard Deviation:  0.8010635355268343\n",
            "95% CI:  (12.11631761591609, 15.302948360241837)\n"
          ]
        }
      ]
    },
    {
      "cell_type": "markdown",
      "source": [
        "Report 7 (Ammended)"
      ],
      "metadata": {
        "id": "2L5lmcW7MyqR"
      }
    },
    {
      "cell_type": "code",
      "source": [
        "import random\n",
        "import statistics\n",
        "mu = 14.227 # True Parameter\n",
        "M = 514 #Population Size\n",
        "N = 5 # Number of Primary units\n",
        "# Total sample size is 84\n",
        "n = 3 #sample of 3 primary units from the 5\n",
        "\n",
        "# Get data\n",
        "\n",
        "all_indices = list(range(0, M))\n",
        "all_airtemp = df['Air Temp (?F)'].iloc[all_indices].copy()   #aka full_df\n",
        "\n",
        "# Stratify the sample using Air Temperature\n",
        "\n",
        "list_1 = list()\n",
        "list_2 = list()\n",
        "list_3 = list()\n",
        "list_4 = list()\n",
        "list_5 = list()\n",
        "\n",
        "for i, value in enumerate(all_airtemp):\n",
        "    original_index = df.index[all_indices[i]]  # Get the original index\n",
        "    #print(f\"Original Index: {original_index}, Value: {value}\")\n",
        "    if value < 40 :\n",
        "    #Append list_1\n",
        "      list_1.append(original_index)\n",
        "    elif value >= 40 and value < 50 :\n",
        "    #Append list_2\n",
        "      list_2.append(original_index)\n",
        "    elif value >= 50 and value < 60 :\n",
        "    #Append list_3\n",
        "      list_3.append(original_index)\n",
        "    elif value >= 60 and value < 70 :\n",
        "    #Append list_4\n",
        "      list_4.append(original_index)\n",
        "    else:\n",
        "    #Append list_5\n",
        "      list_5.append(original_index)\n",
        "\n",
        "#We will acess stuff in the lists this way\n",
        "#value = df.loc[original_index, 'Water Temp (?C)']\n",
        "list_of_lists_1 = list()\n",
        "\n",
        "to_add = list()\n",
        "for x in list_1:\n",
        "  value = df.loc[x, 'Water Temp (?C)']\n",
        "  to_add.append(value)\n",
        "list_of_lists_1.append(to_add)\n",
        "to_add = list()\n",
        "for x in list_2:\n",
        "  value = df.loc[x, 'Water Temp (?C)']\n",
        "  to_add.append(value)\n",
        "list_of_lists_1.append(to_add)\n",
        "to_add = list()\n",
        "for x in list_3:\n",
        "  value = df.loc[x, 'Water Temp (?C)']\n",
        "  to_add.append(value)\n",
        "list_of_lists_1.append(to_add)\n",
        "to_add = list()\n",
        "for x in list_4:\n",
        "  value = df.loc[x, 'Water Temp (?C)']\n",
        "  to_add.append(value)\n",
        "list_of_lists_1.append(to_add)\n",
        "to_add = list()\n",
        "for x in list_5:\n",
        "  value = df.loc[x, 'Water Temp (?C)']\n",
        "  to_add.append(value)\n",
        "list_of_lists_1.append(to_add)\n",
        "print(\"I divided my population into 5 primary units\")\n",
        "print(\"I used 5 groups. The Nh's are below\")\n",
        "counter = 1\n",
        "cou = 0\n",
        "for g in list_of_lists_1:\n",
        "  print(\"N_\", counter, \" : \", len(g))\n",
        "  counter  = counter + 1\n",
        "\n",
        "#Now we perform two stage design with SRS with total size n = 85\n",
        "m_i = 28\n",
        "\n",
        "# Since we are performing SRS at this stage. We select 3 primary units from the 5\n",
        "selected_primary_units = list()\n",
        "list__indices = random.sample(list(range(0, 5)), 3)\n",
        "print(\"Primary Units selected\", list__indices)\n",
        "for x in list__indices:\n",
        "  selected_primary_units.append(list_of_lists_1[x])\n",
        "\n",
        "sample = list()\n",
        "for lis in selected_primary_units:\n",
        "  sample_toadd = random.sample(lis, m_i)\n",
        "  sample.append(sample_toadd)\n",
        "\n",
        "# Estimate our parameter of interest by unbiased Estimator\n",
        "y_i_hat = list()\n",
        "for i in range(0, 3):\n",
        "  y_i_hat.append(((len(selected_primary_units[i]))/m_i)*(sum(sample[i])))\n",
        "\n",
        "#Unbiased Estimator of population total\n",
        "tau_hat = (N/n)*sum(y_i_hat) #We don't need to multiply it because N = n since we\n",
        "# sampled every single primary unit.\n",
        "\n",
        "mu_hat = tau_hat/M\n",
        "display(Math(r'{\\hat{\\mu}} = ' + str(round(mu_hat, 3))))\n",
        "\n",
        "# Estimate the variance of the estimator above\n",
        "s_i_squared = list()\n",
        "for lis in sample:\n",
        "  s_i_squared.append(statistics.variance(lis))\n",
        "\n",
        "variance_within = 0\n",
        "for i in range(0, 3):\n",
        "  M__i = len(selected_primary_units[i])\n",
        "  variance_within = variance_within + (M__i)*(M__i - m_i)*((s_i_squared[i])/(m_i))\n",
        "\n",
        "var_hat_tau_hat = (N*(N-n)*((statistics.variance(y_i_hat))/n)) + variance_within\n",
        "var_hat_mu_hat = (1/(M**2))*var_hat_tau_hat\n",
        "display(Math(r'{\\hat{var}}({\\hat{\\mu}}) = ' + str(round(var_hat_mu_hat, 3))))\n",
        "print(\"Standard Deviation: \", math.sqrt(var_hat_mu_hat))\n",
        "\n"
      ],
      "metadata": {
        "id": "Z-Mk5bpBM77h",
        "colab": {
          "base_uri": "https://localhost:8080/",
          "height": 214
        },
        "outputId": "686fe0b4-c2e1-4d72-89b7-1477f13585be"
      },
      "execution_count": null,
      "outputs": [
        {
          "output_type": "stream",
          "name": "stdout",
          "text": [
            "I divided my population into 5 primary units\n",
            "I used 5 groups. The Nh's are below\n",
            "N_ 1  :  46\n",
            "N_ 2  :  120\n",
            "N_ 3  :  143\n",
            "N_ 4  :  109\n",
            "N_ 5  :  96\n",
            "Primary Units selected [4, 1, 2]\n"
          ]
        },
        {
          "output_type": "display_data",
          "data": {
            "text/plain": [
              "<IPython.core.display.Math object>"
            ],
            "text/latex": "$\\displaystyle {\\hat{\\mu}} = 16.448$"
          },
          "metadata": {}
        },
        {
          "output_type": "display_data",
          "data": {
            "text/plain": [
              "<IPython.core.display.Math object>"
            ],
            "text/latex": "$\\displaystyle {\\hat{var}}({\\hat{\\mu}}) = 4.872$"
          },
          "metadata": {}
        },
        {
          "output_type": "stream",
          "name": "stdout",
          "text": [
            "Standard Deviation:  2.207224373111934\n"
          ]
        }
      ]
    },
    {
      "cell_type": "code",
      "source": [
        "#Ratio Estimator\n",
        "M_i_sum = 0\n",
        "for i in range(0, 3):\n",
        "  M_i_sum = M_i_sum + len(selected_primary_units[i])\n",
        "r_hat = (sum(y_i_hat))/(M_i_sum)\n",
        "\n",
        "tau_hat_r = r_hat*M\n",
        "mu_hat_r = r_hat\n",
        "display(Math(r'{\\hat{\\mu_r}} = ' + str(round(mu_hat_r, 3))))\n",
        "\n",
        "#Estimate for the variance of the estimator above\n",
        "z = list() # we will take the variance of this estimator\n",
        "for i in range(0, 3):\n",
        "  z.append(y_i_hat[i]-(len(selected_primary_units[i])*r_hat))\n",
        "var_hat_tau_hat_r = ((N*(N-n)*(statistics.variance(z)))/(n)) + variance_within\n",
        "var_hat_mu_hat_r = (1/(M**2))*var_hat_tau_hat_r\n",
        "display(Math(r'{\\hat{var}}({\\hat{\\mu_r}}) = ' + str(round(var_hat_mu_hat_r, 3))))\n",
        "print(\"Standard Deviation: \", math.sqrt(var_hat_mu_hat_r))\n"
      ],
      "metadata": {
        "colab": {
          "base_uri": "https://localhost:8080/",
          "height": 75
        },
        "id": "EhM6XOYJXZnl",
        "outputId": "60eaf33b-f9ef-43db-e6ab-7d18401fe9d5"
      },
      "execution_count": null,
      "outputs": [
        {
          "output_type": "display_data",
          "data": {
            "text/plain": [
              "<IPython.core.display.Math object>"
            ],
            "text/latex": "$\\displaystyle {\\hat{\\mu_r}} = 14.13$"
          },
          "metadata": {}
        },
        {
          "output_type": "display_data",
          "data": {
            "text/plain": [
              "<IPython.core.display.Math object>"
            ],
            "text/latex": "$\\displaystyle {\\hat{var}}({\\hat{\\mu_r}}) = 8.373$"
          },
          "metadata": {}
        },
        {
          "output_type": "stream",
          "name": "stdout",
          "text": [
            "Standard Deviation:  2.8935317991477283\n"
          ]
        }
      ]
    },
    {
      "cell_type": "code",
      "source": [
        "#Design where First Stage is PPS\n",
        "probabilities = list()\n",
        "for i in range(0, N):\n",
        "  probabilities.append((len(list_of_lists_1[i]))/(M))\n",
        "sample_with_replacement = np.random.choice(list(range(0, N)), size=n, replace=True, p=probabilities)\n",
        "\n",
        "selected_primary_units = list()\n",
        "for x in sample_with_replacement:\n",
        "  selected_primary_units.append(list_of_lists_1[x])\n",
        "\n",
        "sample = list()\n",
        "for lis in selected_primary_units:\n",
        "  sample_toadd = random.sample(lis, m_i)\n",
        "  sample.append(sample_toadd)\n",
        "\n",
        "y_i_hat = list()\n",
        "for i in range(0, 3):\n",
        "  y_i_hat.append(((len(selected_primary_units[i]))/m_i)*(sum(sample[i])))\n",
        "\n",
        "#Hansen-Horwitz Estimator\n",
        "\n",
        "tau_hat_p = 0\n",
        "for i in range(0, n):\n",
        "  tau_hat_p = tau_hat_p + ((y_i_hat[i])/(probabilities[sample_with_replacement[i]]))\n",
        "tau_hat_p = (1/n)*tau_hat_p\n",
        "mu_hat_p = tau_hat_p/M\n",
        "display(Math(r'{\\hat{\\mu_p}} = ' + str(round(mu_hat_p, 3))))\n",
        "#Estimate of the variance of the estimator above\n",
        "z = list()\n",
        "for i in range(0, n):\n",
        "  z.append(((y_i_hat[i])/(probabilities[sample_with_replacement[i]])) - tau_hat_p)\n",
        "var_hat_tau_hat_p = (1/n)*statistics.variance(z)\n",
        "\n",
        "var_hat_mu_hat_p = (1/(M**2))*var_hat_tau_hat_p\n",
        "display(Math(r'{\\hat{var}}({\\hat{\\mu_p}}) = ' + str(round(var_hat_mu_hat_p, 3))))\n",
        "print(\"Standard Deviation: \", math.sqrt(var_hat_mu_hat_p))"
      ],
      "metadata": {
        "colab": {
          "base_uri": "https://localhost:8080/",
          "height": 75
        },
        "id": "Xn3RdqcMeBia",
        "outputId": "d9846678-70f8-42c0-ee6f-67ac1caf809c"
      },
      "execution_count": null,
      "outputs": [
        {
          "output_type": "display_data",
          "data": {
            "text/plain": [
              "<IPython.core.display.Math object>"
            ],
            "text/latex": "$\\displaystyle {\\hat{\\mu_p}} = 18.133$"
          },
          "metadata": {}
        },
        {
          "output_type": "display_data",
          "data": {
            "text/plain": [
              "<IPython.core.display.Math object>"
            ],
            "text/latex": "$\\displaystyle {\\hat{var}}({\\hat{\\mu_p}}) = 7.251$"
          },
          "metadata": {}
        },
        {
          "output_type": "stream",
          "name": "stdout",
          "text": [
            "Standard Deviation:  2.6928274071028837\n"
          ]
        }
      ]
    },
    {
      "cell_type": "code",
      "source": [
        "#Repeating the Above with a different way of making primary units\n",
        "\n",
        "N = 4 # Number of Primary units\n",
        "# Total sample size is 84\n",
        "n = 2 #sample of 3 primary units from the 5\n",
        "\n",
        "# Get data\n",
        "\n",
        "all_indices = list(range(0, M))\n",
        "all_airtemp = df['Air Temp (?F)'].iloc[all_indices].copy()   #aka full_df\n",
        "\n",
        "# Stratify the sample using Air Temperature\n",
        "\n",
        "list_1 = list()\n",
        "list_2 = list()\n",
        "list_3 = list()\n",
        "list_4 = list()\n",
        "\n",
        "\n",
        "for i, value in enumerate(all_airtemp):\n",
        "    original_index = df.index[all_indices[i]]  # Get the original index\n",
        "    #print(f\"Original Index: {original_index}, Value: {value}\")\n",
        "    if value < 40 :\n",
        "    #Append list_1\n",
        "      list_1.append(original_index)\n",
        "    elif value >= 40 and value < 55 :\n",
        "    #Append list_2\n",
        "      list_2.append(original_index)\n",
        "    elif value >= 55 and value < 70 :\n",
        "    #Append list_3\n",
        "      list_3.append(original_index)\n",
        "    else:\n",
        "    #Append list_5\n",
        "      list_4.append(original_index)\n",
        "\n",
        "#We will acess stuff in the lists this way\n",
        "#value = df.loc[original_index, 'Water Temp (?C)']\n",
        "list_of_lists_1 = list()\n",
        "\n",
        "to_add = list()\n",
        "for x in list_1:\n",
        "  value = df.loc[x, 'Water Temp (?C)']\n",
        "  to_add.append(value)\n",
        "list_of_lists_1.append(to_add)\n",
        "to_add = list()\n",
        "for x in list_2:\n",
        "  value = df.loc[x, 'Water Temp (?C)']\n",
        "  to_add.append(value)\n",
        "list_of_lists_1.append(to_add)\n",
        "to_add = list()\n",
        "for x in list_3:\n",
        "  value = df.loc[x, 'Water Temp (?C)']\n",
        "  to_add.append(value)\n",
        "list_of_lists_1.append(to_add)\n",
        "to_add = list()\n",
        "for x in list_4:\n",
        "  value = df.loc[x, 'Water Temp (?C)']\n",
        "  to_add.append(value)\n",
        "list_of_lists_1.append(to_add)\n",
        "\n",
        "print(\"I divided my population into 4 primary units\")\n",
        "print(\"The Nh's are below\")\n",
        "counter = 1\n",
        "cou = 0\n",
        "for g in list_of_lists_1:\n",
        "  print(\"N_\", counter, \" : \", len(g))\n",
        "  counter  = counter + 1\n",
        "\n",
        "#Now we perform two stage design with SRS with total size n = 85\n",
        "m_i = 42\n",
        "\n",
        "# Since we are performing SRS at this stage. We select 3 primary units from the 5\n",
        "selected_primary_units = list()\n",
        "list__indices = random.sample(list(range(0, N)), n)\n",
        "print(\"Primary Units selected\", list__indices)\n",
        "for x in list__indices:\n",
        "  selected_primary_units.append(list_of_lists_1[x])\n",
        "\n",
        "sample = list()\n",
        "for lis in selected_primary_units:\n",
        "  sample_toadd = random.sample(lis, m_i)\n",
        "  sample.append(sample_toadd)\n",
        "\n",
        "# Estimate our parameter of interest by unbiased Estimator\n",
        "y_i_hat = list()\n",
        "for i in range(0, n):\n",
        "  y_i_hat.append(((len(selected_primary_units[i]))/m_i)*(sum(sample[i])))\n",
        "\n",
        "#Unbiased Estimator of population total\n",
        "tau_hat = (N/n)*sum(y_i_hat) #We don't need to multiply it because N = n since we\n",
        "# sampled every single primary unit.\n",
        "\n",
        "mu_hat = tau_hat/M\n",
        "display(Math(r'{\\hat{\\mu}} = ' + str(round(mu_hat, 3))))\n",
        "\n",
        "# Estimate the variance of the estimator above\n",
        "s_i_squared = list()\n",
        "for lis in sample:\n",
        "  s_i_squared.append(statistics.variance(lis))\n",
        "\n",
        "variance_within = 0\n",
        "for i in range(0, n):\n",
        "  M__i = len(selected_primary_units[i])\n",
        "  variance_within = variance_within + (M__i)*(M__i - m_i)*((s_i_squared[i])/(m_i))\n",
        "\n",
        "var_hat_tau_hat = (N*(N-n)*((statistics.variance(y_i_hat))/n)) + variance_within\n",
        "var_hat_mu_hat = (1/(M**2))*var_hat_tau_hat\n",
        "display(Math(r'{\\hat{var}}({\\hat{\\mu}}) = ' + str(round(var_hat_mu_hat, 3))))\n",
        "print(\"Standard Deviation: \", math.sqrt(var_hat_mu_hat))"
      ],
      "metadata": {
        "colab": {
          "base_uri": "https://localhost:8080/",
          "height": 196
        },
        "id": "dfBig8M9qFVV",
        "outputId": "18ae3a8a-9144-4241-f820-ce21a44a5b0a"
      },
      "execution_count": null,
      "outputs": [
        {
          "output_type": "stream",
          "name": "stdout",
          "text": [
            "I divided my population into 4 primary units\n",
            "The Nh's are below\n",
            "N_ 1  :  46\n",
            "N_ 2  :  181\n",
            "N_ 3  :  191\n",
            "N_ 4  :  96\n",
            "Primary Units selected [1, 3]\n"
          ]
        },
        {
          "output_type": "display_data",
          "data": {
            "text/plain": [
              "<IPython.core.display.Math object>"
            ],
            "text/latex": "$\\displaystyle {\\hat{\\mu}} = 15.094$"
          },
          "metadata": {}
        },
        {
          "output_type": "display_data",
          "data": {
            "text/plain": [
              "<IPython.core.display.Math object>"
            ],
            "text/latex": "$\\displaystyle {\\hat{var}}({\\hat{\\mu}}) = 1.858$"
          },
          "metadata": {}
        },
        {
          "output_type": "stream",
          "name": "stdout",
          "text": [
            "Standard Deviation:  1.36301390348609\n"
          ]
        }
      ]
    },
    {
      "cell_type": "code",
      "source": [
        "#Ratio Estimator\n",
        "M_i_sum = 0\n",
        "for i in range(0, n):\n",
        "  M_i_sum = M_i_sum + len(selected_primary_units[i])\n",
        "r_hat = (sum(y_i_hat))/(M_i_sum)\n",
        "\n",
        "tau_hat_r = r_hat*M\n",
        "mu_hat_r = r_hat\n",
        "display(Math(r'{\\hat{\\mu_r}} = ' + str(round(mu_hat_r, 3))))\n",
        "\n",
        "#Estimate for the variance of the estimator above\n",
        "z = list() # we will take the variance of this estimator\n",
        "for i in range(0, n):\n",
        "  z.append(y_i_hat[i]-(len(selected_primary_units[i])*r_hat))\n",
        "var_hat_tau_hat_r = ((N*(N-n)*(statistics.variance(z)))/(n)) + variance_within\n",
        "var_hat_mu_hat_r = (1/(M**2))*var_hat_tau_hat_r\n",
        "display(Math(r'{\\hat{var}}({\\hat{\\mu_r}}) = ' + str(round(var_hat_mu_hat_r, 3))))\n",
        "print(\"Standard Deviation: \", math.sqrt(var_hat_mu_hat_r))"
      ],
      "metadata": {
        "colab": {
          "base_uri": "https://localhost:8080/",
          "height": 75
        },
        "id": "y4JHpJtUsUGk",
        "outputId": "b5d8a907-8421-4508-ba92-a6d2addc0900"
      },
      "execution_count": null,
      "outputs": [
        {
          "output_type": "display_data",
          "data": {
            "text/plain": [
              "<IPython.core.display.Math object>"
            ],
            "text/latex": "$\\displaystyle {\\hat{\\mu_r}} = 14.004$"
          },
          "metadata": {}
        },
        {
          "output_type": "display_data",
          "data": {
            "text/plain": [
              "<IPython.core.display.Math object>"
            ],
            "text/latex": "$\\displaystyle {\\hat{var}}({\\hat{\\mu_r}}) = 21.461$"
          },
          "metadata": {}
        },
        {
          "output_type": "stream",
          "name": "stdout",
          "text": [
            "Standard Deviation:  4.632650570807827\n"
          ]
        }
      ]
    },
    {
      "cell_type": "code",
      "source": [
        "#Design where First Stage is PPS\n",
        "probabilities = list()\n",
        "for i in range(0, N):\n",
        "  probabilities.append((len(list_of_lists_1[i]))/(M))\n",
        "sample_with_replacement = np.random.choice(list(range(0, N)), size=n, replace=True, p=probabilities)\n",
        "\n",
        "selected_primary_units = list()\n",
        "for x in sample_with_replacement:\n",
        "  selected_primary_units.append(list_of_lists_1[x])\n",
        "\n",
        "sample = list()\n",
        "for lis in selected_primary_units:\n",
        "  sample_toadd = random.sample(lis, m_i)\n",
        "  sample.append(sample_toadd)\n",
        "\n",
        "y_i_hat = list()\n",
        "for i in range(0, n):\n",
        "  y_i_hat.append(((len(selected_primary_units[i]))/m_i)*(sum(sample[i])))\n",
        "#Hansen-Horwitz Estimator\n",
        "\n",
        "tau_hat_p = 0\n",
        "for i in range(0, n):\n",
        "  tau_hat_p = tau_hat_p + ((y_i_hat[i])/(probabilities[sample_with_replacement[i]]))\n",
        "tau_hat_p = (1/n)*tau_hat_p\n",
        "mu_hat_p = tau_hat_p/M\n",
        "display(Math(r'{\\hat{\\mu_p}} = ' + str(round(mu_hat_p, 3))))\n",
        "#Estimate of the variance of the estimator above\n",
        "z = list()\n",
        "for i in range(0, n):\n",
        "  z.append(((y_i_hat[i])/(probabilities[sample_with_replacement[i]])) - tau_hat_p)\n",
        "var_hat_tau_hat_p = (1/n)*statistics.variance(z)\n",
        "\n",
        "var_hat_mu_hat_p = (1/(M**2))*var_hat_tau_hat_p\n",
        "display(Math(r'{\\hat{var}}({\\hat{\\mu_p}}) = ' + str(round(var_hat_mu_hat_p, 3))))\n",
        "print(\"Standard Deviation: \", math.sqrt(var_hat_mu_hat_p))"
      ],
      "metadata": {
        "colab": {
          "base_uri": "https://localhost:8080/",
          "height": 75
        },
        "id": "mOLIQHNJskLA",
        "outputId": "b8e14747-afee-4753-c60c-ca4c95dd598b"
      },
      "execution_count": null,
      "outputs": [
        {
          "output_type": "display_data",
          "data": {
            "text/plain": [
              "<IPython.core.display.Math object>"
            ],
            "text/latex": "$\\displaystyle {\\hat{\\mu_p}} = 12.604$"
          },
          "metadata": {}
        },
        {
          "output_type": "display_data",
          "data": {
            "text/plain": [
              "<IPython.core.display.Math object>"
            ],
            "text/latex": "$\\displaystyle {\\hat{var}}({\\hat{\\mu_p}}) = 8.334$"
          },
          "metadata": {}
        },
        {
          "output_type": "stream",
          "name": "stdout",
          "text": [
            "Standard Deviation:  2.8869047619047623\n"
          ]
        }
      ]
    }
  ],
  "metadata": {
    "colab": {
      "provenance": [],
      "include_colab_link": true
    },
    "kernelspec": {
      "display_name": "Python 3",
      "name": "python3"
    },
    "language_info": {
      "name": "python"
    }
  },
  "nbformat": 4,
  "nbformat_minor": 0
}